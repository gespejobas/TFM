{
 "cells": [
  {
   "cell_type": "markdown",
   "metadata": {},
   "source": [
    "# US Flight Delay Analysis MVP\n",
    "This notebook contains the analysis of the \"On-Time : Reporting Carrier On-Time Performance\" dataset, for January 2015.\n",
    "In terms of technology, we will use pandas for the data manipulation and analysis.\n",
    "\n",
    "Each phase of the process followed is indicated by cronological order."
   ]
  },
  {
   "cell_type": "markdown",
   "metadata": {},
   "source": [
    "## Imports:"
   ]
  },
  {
   "cell_type": "code",
   "execution_count": 1,
   "metadata": {},
   "outputs": [],
   "source": [
    "import pandas as pd\n",
    "import numpy as np\n",
    "import os"
   ]
  },
  {
   "cell_type": "markdown",
   "metadata": {},
   "source": [
    "# 01 - Data Preparation"
   ]
  },
  {
   "cell_type": "markdown",
   "metadata": {},
   "source": [
    "## Data Loading"
   ]
  },
  {
   "cell_type": "markdown",
   "metadata": {},
   "source": [
    "I use the os module, in order to get the directory of this notebook, and be totally sure of the data path to insert."
   ]
  },
  {
   "cell_type": "code",
   "execution_count": 2,
   "metadata": {},
   "outputs": [
    {
     "data": {
      "text/plain": [
       "'C:\\\\Users\\\\GerardEspejo\\\\Desktop\\\\TFM\\\\TFM'"
      ]
     },
     "execution_count": 2,
     "metadata": {},
     "output_type": "execute_result"
    }
   ],
   "source": [
    "cwd = os.getcwd()\n",
    "cwd"
   ]
  },
  {
   "cell_type": "markdown",
   "metadata": {},
   "source": [
    "The dataset is loaded from a local folder \"Data\", which contains all the used datasets."
   ]
  },
  {
   "cell_type": "code",
   "execution_count": 3,
   "metadata": {
    "scrolled": true
   },
   "outputs": [
    {
     "name": "stderr",
     "output_type": "stream",
     "text": [
      "C:\\Users\\GerardEspejo\\Anaconda3\\lib\\site-packages\\IPython\\core\\interactiveshell.py:3020: DtypeWarning: Columns (77,84,85) have mixed types. Specify dtype option on import or set low_memory=False.\n",
      "  interactivity=interactivity, compiler=compiler, result=result)\n"
     ]
    },
    {
     "data": {
      "text/html": [
       "<div>\n",
       "<style scoped>\n",
       "    .dataframe tbody tr th:only-of-type {\n",
       "        vertical-align: middle;\n",
       "    }\n",
       "\n",
       "    .dataframe tbody tr th {\n",
       "        vertical-align: top;\n",
       "    }\n",
       "\n",
       "    .dataframe thead th {\n",
       "        text-align: right;\n",
       "    }\n",
       "</style>\n",
       "<table border=\"1\" class=\"dataframe\">\n",
       "  <thead>\n",
       "    <tr style=\"text-align: right;\">\n",
       "      <th></th>\n",
       "      <th>YEAR</th>\n",
       "      <th>QUARTER</th>\n",
       "      <th>MONTH</th>\n",
       "      <th>DAY_OF_MONTH</th>\n",
       "      <th>DAY_OF_WEEK</th>\n",
       "      <th>FL_DATE</th>\n",
       "      <th>OP_UNIQUE_CARRIER</th>\n",
       "      <th>OP_CARRIER_AIRLINE_ID</th>\n",
       "      <th>OP_CARRIER</th>\n",
       "      <th>TAIL_NUM</th>\n",
       "      <th>...</th>\n",
       "      <th>DIV4_TAIL_NUM</th>\n",
       "      <th>DIV5_AIRPORT</th>\n",
       "      <th>DIV5_AIRPORT_ID</th>\n",
       "      <th>DIV5_AIRPORT_SEQ_ID</th>\n",
       "      <th>DIV5_WHEELS_ON</th>\n",
       "      <th>DIV5_TOTAL_GTIME</th>\n",
       "      <th>DIV5_LONGEST_GTIME</th>\n",
       "      <th>DIV5_WHEELS_OFF</th>\n",
       "      <th>DIV5_TAIL_NUM</th>\n",
       "      <th>Unnamed: 109</th>\n",
       "    </tr>\n",
       "  </thead>\n",
       "  <tbody>\n",
       "    <tr>\n",
       "      <th>0</th>\n",
       "      <td>2015</td>\n",
       "      <td>1</td>\n",
       "      <td>1</td>\n",
       "      <td>2</td>\n",
       "      <td>5</td>\n",
       "      <td>2015-01-02</td>\n",
       "      <td>NK</td>\n",
       "      <td>20416</td>\n",
       "      <td>NK</td>\n",
       "      <td>N521NK</td>\n",
       "      <td>...</td>\n",
       "      <td>NaN</td>\n",
       "      <td>NaN</td>\n",
       "      <td>NaN</td>\n",
       "      <td>NaN</td>\n",
       "      <td>NaN</td>\n",
       "      <td>NaN</td>\n",
       "      <td>NaN</td>\n",
       "      <td>NaN</td>\n",
       "      <td>NaN</td>\n",
       "      <td>NaN</td>\n",
       "    </tr>\n",
       "    <tr>\n",
       "      <th>1</th>\n",
       "      <td>2015</td>\n",
       "      <td>1</td>\n",
       "      <td>1</td>\n",
       "      <td>3</td>\n",
       "      <td>6</td>\n",
       "      <td>2015-01-03</td>\n",
       "      <td>NK</td>\n",
       "      <td>20416</td>\n",
       "      <td>NK</td>\n",
       "      <td>N512NK</td>\n",
       "      <td>...</td>\n",
       "      <td>NaN</td>\n",
       "      <td>NaN</td>\n",
       "      <td>NaN</td>\n",
       "      <td>NaN</td>\n",
       "      <td>NaN</td>\n",
       "      <td>NaN</td>\n",
       "      <td>NaN</td>\n",
       "      <td>NaN</td>\n",
       "      <td>NaN</td>\n",
       "      <td>NaN</td>\n",
       "    </tr>\n",
       "    <tr>\n",
       "      <th>2</th>\n",
       "      <td>2015</td>\n",
       "      <td>1</td>\n",
       "      <td>1</td>\n",
       "      <td>4</td>\n",
       "      <td>7</td>\n",
       "      <td>2015-01-04</td>\n",
       "      <td>NK</td>\n",
       "      <td>20416</td>\n",
       "      <td>NK</td>\n",
       "      <td>N528NK</td>\n",
       "      <td>...</td>\n",
       "      <td>NaN</td>\n",
       "      <td>NaN</td>\n",
       "      <td>NaN</td>\n",
       "      <td>NaN</td>\n",
       "      <td>NaN</td>\n",
       "      <td>NaN</td>\n",
       "      <td>NaN</td>\n",
       "      <td>NaN</td>\n",
       "      <td>NaN</td>\n",
       "      <td>NaN</td>\n",
       "    </tr>\n",
       "    <tr>\n",
       "      <th>3</th>\n",
       "      <td>2015</td>\n",
       "      <td>1</td>\n",
       "      <td>1</td>\n",
       "      <td>5</td>\n",
       "      <td>1</td>\n",
       "      <td>2015-01-05</td>\n",
       "      <td>NK</td>\n",
       "      <td>20416</td>\n",
       "      <td>NK</td>\n",
       "      <td>N523NK</td>\n",
       "      <td>...</td>\n",
       "      <td>NaN</td>\n",
       "      <td>NaN</td>\n",
       "      <td>NaN</td>\n",
       "      <td>NaN</td>\n",
       "      <td>NaN</td>\n",
       "      <td>NaN</td>\n",
       "      <td>NaN</td>\n",
       "      <td>NaN</td>\n",
       "      <td>NaN</td>\n",
       "      <td>NaN</td>\n",
       "    </tr>\n",
       "    <tr>\n",
       "      <th>4</th>\n",
       "      <td>2015</td>\n",
       "      <td>1</td>\n",
       "      <td>1</td>\n",
       "      <td>6</td>\n",
       "      <td>2</td>\n",
       "      <td>2015-01-06</td>\n",
       "      <td>NK</td>\n",
       "      <td>20416</td>\n",
       "      <td>NK</td>\n",
       "      <td>N534NK</td>\n",
       "      <td>...</td>\n",
       "      <td>NaN</td>\n",
       "      <td>NaN</td>\n",
       "      <td>NaN</td>\n",
       "      <td>NaN</td>\n",
       "      <td>NaN</td>\n",
       "      <td>NaN</td>\n",
       "      <td>NaN</td>\n",
       "      <td>NaN</td>\n",
       "      <td>NaN</td>\n",
       "      <td>NaN</td>\n",
       "    </tr>\n",
       "  </tbody>\n",
       "</table>\n",
       "<p>5 rows × 110 columns</p>\n",
       "</div>"
      ],
      "text/plain": [
       "   YEAR  QUARTER  MONTH  DAY_OF_MONTH  DAY_OF_WEEK     FL_DATE  \\\n",
       "0  2015        1      1             2            5  2015-01-02   \n",
       "1  2015        1      1             3            6  2015-01-03   \n",
       "2  2015        1      1             4            7  2015-01-04   \n",
       "3  2015        1      1             5            1  2015-01-05   \n",
       "4  2015        1      1             6            2  2015-01-06   \n",
       "\n",
       "  OP_UNIQUE_CARRIER  OP_CARRIER_AIRLINE_ID OP_CARRIER TAIL_NUM      ...       \\\n",
       "0                NK                  20416         NK   N521NK      ...        \n",
       "1                NK                  20416         NK   N512NK      ...        \n",
       "2                NK                  20416         NK   N528NK      ...        \n",
       "3                NK                  20416         NK   N523NK      ...        \n",
       "4                NK                  20416         NK   N534NK      ...        \n",
       "\n",
       "   DIV4_TAIL_NUM  DIV5_AIRPORT  DIV5_AIRPORT_ID  DIV5_AIRPORT_SEQ_ID  \\\n",
       "0            NaN           NaN              NaN                  NaN   \n",
       "1            NaN           NaN              NaN                  NaN   \n",
       "2            NaN           NaN              NaN                  NaN   \n",
       "3            NaN           NaN              NaN                  NaN   \n",
       "4            NaN           NaN              NaN                  NaN   \n",
       "\n",
       "  DIV5_WHEELS_ON DIV5_TOTAL_GTIME DIV5_LONGEST_GTIME  DIV5_WHEELS_OFF  \\\n",
       "0            NaN              NaN                NaN              NaN   \n",
       "1            NaN              NaN                NaN              NaN   \n",
       "2            NaN              NaN                NaN              NaN   \n",
       "3            NaN              NaN                NaN              NaN   \n",
       "4            NaN              NaN                NaN              NaN   \n",
       "\n",
       "  DIV5_TAIL_NUM  Unnamed: 109  \n",
       "0           NaN           NaN  \n",
       "1           NaN           NaN  \n",
       "2           NaN           NaN  \n",
       "3           NaN           NaN  \n",
       "4           NaN           NaN  \n",
       "\n",
       "[5 rows x 110 columns]"
      ]
     },
     "execution_count": 3,
     "metadata": {},
     "output_type": "execute_result"
    }
   ],
   "source": [
    "df_original = pd.read_csv('C:\\\\Users\\\\GerardEspejo\\\\Desktop\\\\TFM\\\\Data\\\\Jan_2015.csv')\n",
    "df_original.head()"
   ]
  },
  {
   "cell_type": "markdown",
   "metadata": {},
   "source": [
    "## Initial Data Examination\n",
    "In this section, I am trying to have quick glance of the orginal dataset. The examination is focused on the size and data types."
   ]
  },
  {
   "cell_type": "code",
   "execution_count": 4,
   "metadata": {},
   "outputs": [
    {
     "data": {
      "text/plain": [
       "(469968, 110)"
      ]
     },
     "execution_count": 4,
     "metadata": {},
     "output_type": "execute_result"
    }
   ],
   "source": [
    "df_original.shape"
   ]
  },
  {
   "cell_type": "code",
   "execution_count": 5,
   "metadata": {},
   "outputs": [
    {
     "data": {
      "text/plain": [
       "YEAR                       int64\n",
       "QUARTER                    int64\n",
       "MONTH                      int64\n",
       "DAY_OF_MONTH               int64\n",
       "DAY_OF_WEEK                int64\n",
       "FL_DATE                   object\n",
       "OP_UNIQUE_CARRIER         object\n",
       "OP_CARRIER_AIRLINE_ID      int64\n",
       "OP_CARRIER                object\n",
       "TAIL_NUM                  object\n",
       "OP_CARRIER_FL_NUM          int64\n",
       "ORIGIN_AIRPORT_ID          int64\n",
       "ORIGIN_AIRPORT_SEQ_ID      int64\n",
       "ORIGIN_CITY_MARKET_ID      int64\n",
       "ORIGIN                    object\n",
       "ORIGIN_CITY_NAME          object\n",
       "ORIGIN_STATE_ABR          object\n",
       "ORIGIN_STATE_FIPS          int64\n",
       "ORIGIN_STATE_NM           object\n",
       "ORIGIN_WAC                 int64\n",
       "DEST_AIRPORT_ID            int64\n",
       "DEST_AIRPORT_SEQ_ID        int64\n",
       "DEST_CITY_MARKET_ID        int64\n",
       "DEST                      object\n",
       "DEST_CITY_NAME            object\n",
       "DEST_STATE_ABR            object\n",
       "DEST_STATE_FIPS            int64\n",
       "DEST_STATE_NM             object\n",
       "DEST_WAC                   int64\n",
       "CRS_DEP_TIME               int64\n",
       "                          ...   \n",
       "DIV2_WHEELS_ON           float64\n",
       "DIV2_TOTAL_GTIME         float64\n",
       "DIV2_LONGEST_GTIME       float64\n",
       "DIV2_WHEELS_OFF          float64\n",
       "DIV2_TAIL_NUM             object\n",
       "DIV3_AIRPORT              object\n",
       "DIV3_AIRPORT_ID          float64\n",
       "DIV3_AIRPORT_SEQ_ID      float64\n",
       "DIV3_WHEELS_ON           float64\n",
       "DIV3_TOTAL_GTIME         float64\n",
       "DIV3_LONGEST_GTIME       float64\n",
       "DIV3_WHEELS_OFF          float64\n",
       "DIV3_TAIL_NUM            float64\n",
       "DIV4_AIRPORT             float64\n",
       "DIV4_AIRPORT_ID          float64\n",
       "DIV4_AIRPORT_SEQ_ID      float64\n",
       "DIV4_WHEELS_ON           float64\n",
       "DIV4_TOTAL_GTIME         float64\n",
       "DIV4_LONGEST_GTIME       float64\n",
       "DIV4_WHEELS_OFF          float64\n",
       "DIV4_TAIL_NUM            float64\n",
       "DIV5_AIRPORT             float64\n",
       "DIV5_AIRPORT_ID          float64\n",
       "DIV5_AIRPORT_SEQ_ID      float64\n",
       "DIV5_WHEELS_ON           float64\n",
       "DIV5_TOTAL_GTIME         float64\n",
       "DIV5_LONGEST_GTIME       float64\n",
       "DIV5_WHEELS_OFF          float64\n",
       "DIV5_TAIL_NUM            float64\n",
       "Unnamed: 109             float64\n",
       "Length: 110, dtype: object"
      ]
     },
     "execution_count": 5,
     "metadata": {},
     "output_type": "execute_result"
    }
   ],
   "source": [
    "df_original.dtypes"
   ]
  },
  {
   "cell_type": "code",
   "execution_count": 6,
   "metadata": {
    "scrolled": false
   },
   "outputs": [
    {
     "data": {
      "text/plain": [
       "Index(['YEAR', 'QUARTER', 'MONTH', 'DAY_OF_MONTH', 'DAY_OF_WEEK', 'FL_DATE',\n",
       "       'OP_UNIQUE_CARRIER', 'OP_CARRIER_AIRLINE_ID', 'OP_CARRIER', 'TAIL_NUM',\n",
       "       ...\n",
       "       'DIV4_TAIL_NUM', 'DIV5_AIRPORT', 'DIV5_AIRPORT_ID',\n",
       "       'DIV5_AIRPORT_SEQ_ID', 'DIV5_WHEELS_ON', 'DIV5_TOTAL_GTIME',\n",
       "       'DIV5_LONGEST_GTIME', 'DIV5_WHEELS_OFF', 'DIV5_TAIL_NUM',\n",
       "       'Unnamed: 109'],\n",
       "      dtype='object', length=110)"
      ]
     },
     "execution_count": 6,
     "metadata": {},
     "output_type": "execute_result"
    }
   ],
   "source": [
    "df_original.columns"
   ]
  },
  {
   "cell_type": "markdown",
   "metadata": {},
   "source": [
    "#### Conclusions\n",
    "It appears that with the full dataset, we have 110 columns, and some with mixed types. In order to have a more flexible working environment, and because I won't be using all the data available, I will do a pre-filter of the columns needed once generating the dataset. This will help me reduce time and efforts. Therefore, I am creating a more specific dataset to work with. \n",
    "\n",
    "The selection of \"interesting\" columns is done during the data downloading process, in the BTS website: https://www.transtats.bts.gov/DL_SelectFields.asp?Table_ID=236\n",
    "\n",
    "The new dataset won't have information (columns) related to: Gate Return Information at Origin Airport and Diverted Airport Information. Because we are focusing this analysis only on Flight Delays, I won't be using flight divertions informations, for now."
   ]
  },
  {
   "cell_type": "markdown",
   "metadata": {},
   "source": [
    "### Loading the new dataset "
   ]
  },
  {
   "cell_type": "code",
   "execution_count": 7,
   "metadata": {
    "scrolled": true
   },
   "outputs": [
    {
     "data": {
      "text/html": [
       "<div>\n",
       "<style scoped>\n",
       "    .dataframe tbody tr th:only-of-type {\n",
       "        vertical-align: middle;\n",
       "    }\n",
       "\n",
       "    .dataframe tbody tr th {\n",
       "        vertical-align: top;\n",
       "    }\n",
       "\n",
       "    .dataframe thead th {\n",
       "        text-align: right;\n",
       "    }\n",
       "</style>\n",
       "<table border=\"1\" class=\"dataframe\">\n",
       "  <thead>\n",
       "    <tr style=\"text-align: right;\">\n",
       "      <th></th>\n",
       "      <th>YEAR</th>\n",
       "      <th>QUARTER</th>\n",
       "      <th>MONTH</th>\n",
       "      <th>DAY_OF_MONTH</th>\n",
       "      <th>DAY_OF_WEEK</th>\n",
       "      <th>FL_DATE</th>\n",
       "      <th>OP_UNIQUE_CARRIER</th>\n",
       "      <th>OP_CARRIER</th>\n",
       "      <th>TAIL_NUM</th>\n",
       "      <th>OP_CARRIER_FL_NUM</th>\n",
       "      <th>...</th>\n",
       "      <th>AIR_TIME</th>\n",
       "      <th>FLIGHTS</th>\n",
       "      <th>DISTANCE</th>\n",
       "      <th>DISTANCE_GROUP</th>\n",
       "      <th>CARRIER_DELAY</th>\n",
       "      <th>WEATHER_DELAY</th>\n",
       "      <th>NAS_DELAY</th>\n",
       "      <th>SECURITY_DELAY</th>\n",
       "      <th>LATE_AIRCRAFT_DELAY</th>\n",
       "      <th>Unnamed: 50</th>\n",
       "    </tr>\n",
       "  </thead>\n",
       "  <tbody>\n",
       "    <tr>\n",
       "      <th>0</th>\n",
       "      <td>2015</td>\n",
       "      <td>1</td>\n",
       "      <td>1</td>\n",
       "      <td>22</td>\n",
       "      <td>4</td>\n",
       "      <td>2015-01-22</td>\n",
       "      <td>DL</td>\n",
       "      <td>DL</td>\n",
       "      <td>N969DL</td>\n",
       "      <td>1485</td>\n",
       "      <td>...</td>\n",
       "      <td>134.0</td>\n",
       "      <td>1.0</td>\n",
       "      <td>950.0</td>\n",
       "      <td>4</td>\n",
       "      <td>NaN</td>\n",
       "      <td>NaN</td>\n",
       "      <td>NaN</td>\n",
       "      <td>NaN</td>\n",
       "      <td>NaN</td>\n",
       "      <td>NaN</td>\n",
       "    </tr>\n",
       "    <tr>\n",
       "      <th>1</th>\n",
       "      <td>2015</td>\n",
       "      <td>1</td>\n",
       "      <td>1</td>\n",
       "      <td>22</td>\n",
       "      <td>4</td>\n",
       "      <td>2015-01-22</td>\n",
       "      <td>DL</td>\n",
       "      <td>DL</td>\n",
       "      <td>N912DL</td>\n",
       "      <td>1486</td>\n",
       "      <td>...</td>\n",
       "      <td>90.0</td>\n",
       "      <td>1.0</td>\n",
       "      <td>762.0</td>\n",
       "      <td>4</td>\n",
       "      <td>NaN</td>\n",
       "      <td>NaN</td>\n",
       "      <td>NaN</td>\n",
       "      <td>NaN</td>\n",
       "      <td>NaN</td>\n",
       "      <td>NaN</td>\n",
       "    </tr>\n",
       "    <tr>\n",
       "      <th>2</th>\n",
       "      <td>2015</td>\n",
       "      <td>1</td>\n",
       "      <td>1</td>\n",
       "      <td>22</td>\n",
       "      <td>4</td>\n",
       "      <td>2015-01-22</td>\n",
       "      <td>DL</td>\n",
       "      <td>DL</td>\n",
       "      <td>N359NW</td>\n",
       "      <td>1487</td>\n",
       "      <td>...</td>\n",
       "      <td>240.0</td>\n",
       "      <td>1.0</td>\n",
       "      <td>1956.0</td>\n",
       "      <td>8</td>\n",
       "      <td>NaN</td>\n",
       "      <td>NaN</td>\n",
       "      <td>NaN</td>\n",
       "      <td>NaN</td>\n",
       "      <td>NaN</td>\n",
       "      <td>NaN</td>\n",
       "    </tr>\n",
       "    <tr>\n",
       "      <th>3</th>\n",
       "      <td>2015</td>\n",
       "      <td>1</td>\n",
       "      <td>1</td>\n",
       "      <td>22</td>\n",
       "      <td>4</td>\n",
       "      <td>2015-01-22</td>\n",
       "      <td>DL</td>\n",
       "      <td>DL</td>\n",
       "      <td>N957AT</td>\n",
       "      <td>1488</td>\n",
       "      <td>...</td>\n",
       "      <td>29.0</td>\n",
       "      <td>1.0</td>\n",
       "      <td>143.0</td>\n",
       "      <td>1</td>\n",
       "      <td>NaN</td>\n",
       "      <td>NaN</td>\n",
       "      <td>NaN</td>\n",
       "      <td>NaN</td>\n",
       "      <td>NaN</td>\n",
       "      <td>NaN</td>\n",
       "    </tr>\n",
       "    <tr>\n",
       "      <th>4</th>\n",
       "      <td>2015</td>\n",
       "      <td>1</td>\n",
       "      <td>1</td>\n",
       "      <td>22</td>\n",
       "      <td>4</td>\n",
       "      <td>2015-01-22</td>\n",
       "      <td>DL</td>\n",
       "      <td>DL</td>\n",
       "      <td>N985DL</td>\n",
       "      <td>1489</td>\n",
       "      <td>...</td>\n",
       "      <td>123.0</td>\n",
       "      <td>1.0</td>\n",
       "      <td>689.0</td>\n",
       "      <td>3</td>\n",
       "      <td>NaN</td>\n",
       "      <td>NaN</td>\n",
       "      <td>NaN</td>\n",
       "      <td>NaN</td>\n",
       "      <td>NaN</td>\n",
       "      <td>NaN</td>\n",
       "    </tr>\n",
       "  </tbody>\n",
       "</table>\n",
       "<p>5 rows × 51 columns</p>\n",
       "</div>"
      ],
      "text/plain": [
       "   YEAR  QUARTER  MONTH  DAY_OF_MONTH  DAY_OF_WEEK     FL_DATE  \\\n",
       "0  2015        1      1            22            4  2015-01-22   \n",
       "1  2015        1      1            22            4  2015-01-22   \n",
       "2  2015        1      1            22            4  2015-01-22   \n",
       "3  2015        1      1            22            4  2015-01-22   \n",
       "4  2015        1      1            22            4  2015-01-22   \n",
       "\n",
       "  OP_UNIQUE_CARRIER OP_CARRIER TAIL_NUM  OP_CARRIER_FL_NUM     ...      \\\n",
       "0                DL         DL   N969DL               1485     ...       \n",
       "1                DL         DL   N912DL               1486     ...       \n",
       "2                DL         DL   N359NW               1487     ...       \n",
       "3                DL         DL   N957AT               1488     ...       \n",
       "4                DL         DL   N985DL               1489     ...       \n",
       "\n",
       "   AIR_TIME  FLIGHTS DISTANCE DISTANCE_GROUP CARRIER_DELAY WEATHER_DELAY  \\\n",
       "0     134.0      1.0    950.0              4           NaN           NaN   \n",
       "1      90.0      1.0    762.0              4           NaN           NaN   \n",
       "2     240.0      1.0   1956.0              8           NaN           NaN   \n",
       "3      29.0      1.0    143.0              1           NaN           NaN   \n",
       "4     123.0      1.0    689.0              3           NaN           NaN   \n",
       "\n",
       "   NAS_DELAY  SECURITY_DELAY  LATE_AIRCRAFT_DELAY Unnamed: 50  \n",
       "0        NaN             NaN                  NaN         NaN  \n",
       "1        NaN             NaN                  NaN         NaN  \n",
       "2        NaN             NaN                  NaN         NaN  \n",
       "3        NaN             NaN                  NaN         NaN  \n",
       "4        NaN             NaN                  NaN         NaN  \n",
       "\n",
       "[5 rows x 51 columns]"
      ]
     },
     "execution_count": 7,
     "metadata": {},
     "output_type": "execute_result"
    }
   ],
   "source": [
    "df = pd.read_csv('C:\\\\Users\\\\GerardEspejo\\\\Desktop\\\\TFM\\\\Data\\\\Jan_2015_v2.csv')\n",
    "df.head()"
   ]
  },
  {
   "cell_type": "markdown",
   "metadata": {},
   "source": [
    "### Data Examination"
   ]
  },
  {
   "cell_type": "code",
   "execution_count": 8,
   "metadata": {},
   "outputs": [
    {
     "data": {
      "text/plain": [
       "(469968, 51)"
      ]
     },
     "execution_count": 8,
     "metadata": {},
     "output_type": "execute_result"
    }
   ],
   "source": [
    "df.shape"
   ]
  },
  {
   "cell_type": "code",
   "execution_count": 9,
   "metadata": {
    "scrolled": false
   },
   "outputs": [
    {
     "data": {
      "text/plain": [
       "YEAR                       int64\n",
       "QUARTER                    int64\n",
       "MONTH                      int64\n",
       "DAY_OF_MONTH               int64\n",
       "DAY_OF_WEEK                int64\n",
       "FL_DATE                   object\n",
       "OP_UNIQUE_CARRIER         object\n",
       "OP_CARRIER                object\n",
       "TAIL_NUM                  object\n",
       "OP_CARRIER_FL_NUM          int64\n",
       "ORIGIN_AIRPORT_ID          int64\n",
       "ORIGIN_CITY_MARKET_ID      int64\n",
       "ORIGIN                    object\n",
       "ORIGIN_CITY_NAME          object\n",
       "ORIGIN_STATE_ABR          object\n",
       "ORIGIN_STATE_NM           object\n",
       "ORIGIN_WAC                 int64\n",
       "DEST_AIRPORT_ID            int64\n",
       "DEST_CITY_MARKET_ID        int64\n",
       "DEST                      object\n",
       "DEST_CITY_NAME            object\n",
       "DEST_STATE_ABR            object\n",
       "DEST_STATE_NM             object\n",
       "DEST_WAC                   int64\n",
       "CRS_DEP_TIME               int64\n",
       "DEP_TIME                 float64\n",
       "DEP_DELAY                float64\n",
       "DEP_DELAY_NEW            float64\n",
       "DEP_DEL15                float64\n",
       "DEP_DELAY_GROUP          float64\n",
       "CRS_ARR_TIME               int64\n",
       "ARR_TIME                 float64\n",
       "ARR_DELAY                float64\n",
       "ARR_DELAY_NEW            float64\n",
       "ARR_DEL15                float64\n",
       "ARR_DELAY_GROUP          float64\n",
       "CANCELLED                float64\n",
       "CANCELLATION_CODE         object\n",
       "DIVERTED                 float64\n",
       "CRS_ELAPSED_TIME         float64\n",
       "ACTUAL_ELAPSED_TIME      float64\n",
       "AIR_TIME                 float64\n",
       "FLIGHTS                  float64\n",
       "DISTANCE                 float64\n",
       "DISTANCE_GROUP             int64\n",
       "CARRIER_DELAY            float64\n",
       "WEATHER_DELAY            float64\n",
       "NAS_DELAY                float64\n",
       "SECURITY_DELAY           float64\n",
       "LATE_AIRCRAFT_DELAY      float64\n",
       "Unnamed: 50              float64\n",
       "dtype: object"
      ]
     },
     "execution_count": 9,
     "metadata": {},
     "output_type": "execute_result"
    }
   ],
   "source": [
    "df.dtypes"
   ]
  },
  {
   "cell_type": "markdown",
   "metadata": {},
   "source": [
    "#### Conclusions\n",
    "\n",
    "It appears we have reduced the number of columns by 59, and we have solved the issue of having mixed types in various columns. In result, we now have a more \"user-friendly\" dataset."
   ]
  },
  {
   "cell_type": "markdown",
   "metadata": {},
   "source": [
    "## Trimming the Data"
   ]
  },
  {
   "cell_type": "markdown",
   "metadata": {},
   "source": [
    "### Columns Rename\n",
    "In order to maximize the user friendliness of the dataset, I choose to rename the columns to a more suitable name.\n",
    "\n",
    "I will use the rename pandas fuction."
   ]
  },
  {
   "cell_type": "code",
   "execution_count": 10,
   "metadata": {
    "scrolled": true
   },
   "outputs": [
    {
     "data": {
      "text/plain": [
       "Index(['YEAR', 'QUARTER', 'MONTH', 'DAY_OF_MONTH', 'DAY_OF_WEEK', 'FL_DATE',\n",
       "       'OP_UNIQUE_CARRIER', 'OP_CARRIER', 'TAIL_NUM', 'OP_CARRIER_FL_NUM',\n",
       "       'ORIGIN_AIRPORT_ID', 'ORIGIN_CITY_MARKET_ID', 'ORIGIN',\n",
       "       'ORIGIN_CITY_NAME', 'ORIGIN_STATE_ABR', 'ORIGIN_STATE_NM', 'ORIGIN_WAC',\n",
       "       'DEST_AIRPORT_ID', 'DEST_CITY_MARKET_ID', 'DEST', 'DEST_CITY_NAME',\n",
       "       'DEST_STATE_ABR', 'DEST_STATE_NM', 'DEST_WAC', 'CRS_DEP_TIME',\n",
       "       'DEP_TIME', 'DEP_DELAY', 'DEP_DELAY_NEW', 'DEP_DEL15',\n",
       "       'DEP_DELAY_GROUP', 'CRS_ARR_TIME', 'ARR_TIME', 'ARR_DELAY',\n",
       "       'ARR_DELAY_NEW', 'ARR_DEL15', 'ARR_DELAY_GROUP', 'CANCELLED',\n",
       "       'CANCELLATION_CODE', 'DIVERTED', 'CRS_ELAPSED_TIME',\n",
       "       'ACTUAL_ELAPSED_TIME', 'AIR_TIME', 'FLIGHTS', 'DISTANCE',\n",
       "       'DISTANCE_GROUP', 'CARRIER_DELAY', 'WEATHER_DELAY', 'NAS_DELAY',\n",
       "       'SECURITY_DELAY', 'LATE_AIRCRAFT_DELAY', 'Unnamed: 50'],\n",
       "      dtype='object')"
      ]
     },
     "execution_count": 10,
     "metadata": {},
     "output_type": "execute_result"
    }
   ],
   "source": [
    "df.columns"
   ]
  },
  {
   "cell_type": "code",
   "execution_count": 11,
   "metadata": {},
   "outputs": [],
   "source": [
    "df.rename(columns={'YEAR':'Year',\n",
    "                  'QUARTER':'Quarter',\n",
    "                  'MONTH':'Month',\n",
    "                  'DAY_OF_MONTH':'DayOfMonth',\n",
    "                  'DAY_OF_WEEK':'DayOfWeek',\n",
    "                  'FL_DATE':'FlightDate',\n",
    "                  'OP_UNIQUE_CARRIER':'UniqueCarrier',\n",
    "                  'OP_CARRIER':'Carrier',\n",
    "                  'TAIL_NUM':'RegistrationNum',\n",
    "                  'OP_CARRIER_FL_NUM':'FlightNum'}\n",
    "          , inplace=True)"
   ]
  },
  {
   "cell_type": "markdown",
   "metadata": {},
   "source": [
    "I use the iloc indexer to create little datasets, with selected columns. In that way, I am investigating the content and parameters of specific columns, and I can provide and ideal name. The philosophy is to use a name that will provide minimum valuable information."
   ]
  },
  {
   "cell_type": "code",
   "execution_count": 12,
   "metadata": {
    "scrolled": false
   },
   "outputs": [
    {
     "data": {
      "text/html": [
       "<div>\n",
       "<style scoped>\n",
       "    .dataframe tbody tr th:only-of-type {\n",
       "        vertical-align: middle;\n",
       "    }\n",
       "\n",
       "    .dataframe tbody tr th {\n",
       "        vertical-align: top;\n",
       "    }\n",
       "\n",
       "    .dataframe thead th {\n",
       "        text-align: right;\n",
       "    }\n",
       "</style>\n",
       "<table border=\"1\" class=\"dataframe\">\n",
       "  <thead>\n",
       "    <tr style=\"text-align: right;\">\n",
       "      <th></th>\n",
       "      <th>ORIGIN_CITY_MARKET_ID</th>\n",
       "      <th>ORIGIN</th>\n",
       "      <th>ORIGIN_CITY_NAME</th>\n",
       "      <th>ORIGIN_STATE_ABR</th>\n",
       "      <th>ORIGIN_STATE_NM</th>\n",
       "      <th>ORIGIN_WAC</th>\n",
       "      <th>DEST_AIRPORT_ID</th>\n",
       "    </tr>\n",
       "  </thead>\n",
       "  <tbody>\n",
       "    <tr>\n",
       "      <th>0</th>\n",
       "      <td>31703</td>\n",
       "      <td>LGA</td>\n",
       "      <td>New York, NY</td>\n",
       "      <td>NY</td>\n",
       "      <td>New York</td>\n",
       "      <td>22</td>\n",
       "      <td>13204</td>\n",
       "    </tr>\n",
       "    <tr>\n",
       "      <th>1</th>\n",
       "      <td>30397</td>\n",
       "      <td>ATL</td>\n",
       "      <td>Atlanta, GA</td>\n",
       "      <td>GA</td>\n",
       "      <td>Georgia</td>\n",
       "      <td>34</td>\n",
       "      <td>12953</td>\n",
       "    </tr>\n",
       "    <tr>\n",
       "      <th>2</th>\n",
       "      <td>33570</td>\n",
       "      <td>SAN</td>\n",
       "      <td>San Diego, CA</td>\n",
       "      <td>CA</td>\n",
       "      <td>California</td>\n",
       "      <td>91</td>\n",
       "      <td>11433</td>\n",
       "    </tr>\n",
       "    <tr>\n",
       "      <th>3</th>\n",
       "      <td>30397</td>\n",
       "      <td>ATL</td>\n",
       "      <td>Atlanta, GA</td>\n",
       "      <td>GA</td>\n",
       "      <td>Georgia</td>\n",
       "      <td>34</td>\n",
       "      <td>10208</td>\n",
       "    </tr>\n",
       "    <tr>\n",
       "      <th>4</th>\n",
       "      <td>30397</td>\n",
       "      <td>ATL</td>\n",
       "      <td>Atlanta, GA</td>\n",
       "      <td>GA</td>\n",
       "      <td>Georgia</td>\n",
       "      <td>34</td>\n",
       "      <td>12266</td>\n",
       "    </tr>\n",
       "  </tbody>\n",
       "</table>\n",
       "</div>"
      ],
      "text/plain": [
       "   ORIGIN_CITY_MARKET_ID ORIGIN ORIGIN_CITY_NAME ORIGIN_STATE_ABR  \\\n",
       "0                  31703    LGA     New York, NY               NY   \n",
       "1                  30397    ATL      Atlanta, GA               GA   \n",
       "2                  33570    SAN    San Diego, CA               CA   \n",
       "3                  30397    ATL      Atlanta, GA               GA   \n",
       "4                  30397    ATL      Atlanta, GA               GA   \n",
       "\n",
       "  ORIGIN_STATE_NM  ORIGIN_WAC  DEST_AIRPORT_ID  \n",
       "0        New York          22            13204  \n",
       "1         Georgia          34            12953  \n",
       "2      California          91            11433  \n",
       "3         Georgia          34            10208  \n",
       "4         Georgia          34            12266  "
      ]
     },
     "execution_count": 12,
     "metadata": {},
     "output_type": "execute_result"
    }
   ],
   "source": [
    "#Origin related columns\n",
    "df_org = df.iloc[:,[11,12,13,14,15,16,17]]\n",
    "df_org.head()"
   ]
  },
  {
   "cell_type": "code",
   "execution_count": 13,
   "metadata": {},
   "outputs": [],
   "source": [
    "df.rename(columns={'ORIGIN_AIRPORT_ID':'OriginAirport_IDNum', \n",
    "                  'ORIGIN_CITY_MARKET_ID':'OriginCityMarket_IDNum', \n",
    "                  'ORIGIN':'Origin_IATA',\n",
    "                  'ORIGIN_CITY_NAME':'OriginCityName',\n",
    "                  'ORIGIN_STATE_ABR':'OriginState_ID',\n",
    "                  'ORIGIN_STATE_NM':'OriginStateName',\n",
    "                  'ORIGIN_WAC':'OriginWAC'}\n",
    "          , inplace=True)"
   ]
  },
  {
   "cell_type": "code",
   "execution_count": 14,
   "metadata": {
    "scrolled": true
   },
   "outputs": [
    {
     "data": {
      "text/html": [
       "<div>\n",
       "<style scoped>\n",
       "    .dataframe tbody tr th:only-of-type {\n",
       "        vertical-align: middle;\n",
       "    }\n",
       "\n",
       "    .dataframe tbody tr th {\n",
       "        vertical-align: top;\n",
       "    }\n",
       "\n",
       "    .dataframe thead th {\n",
       "        text-align: right;\n",
       "    }\n",
       "</style>\n",
       "<table border=\"1\" class=\"dataframe\">\n",
       "  <thead>\n",
       "    <tr style=\"text-align: right;\">\n",
       "      <th></th>\n",
       "      <th>DEST_AIRPORT_ID</th>\n",
       "      <th>DEST_CITY_MARKET_ID</th>\n",
       "      <th>DEST</th>\n",
       "      <th>DEST_CITY_NAME</th>\n",
       "      <th>DEST_STATE_ABR</th>\n",
       "      <th>DEST_STATE_NM</th>\n",
       "      <th>DEST_WAC</th>\n",
       "    </tr>\n",
       "  </thead>\n",
       "  <tbody>\n",
       "    <tr>\n",
       "      <th>0</th>\n",
       "      <td>13204</td>\n",
       "      <td>31454</td>\n",
       "      <td>MCO</td>\n",
       "      <td>Orlando, FL</td>\n",
       "      <td>FL</td>\n",
       "      <td>Florida</td>\n",
       "      <td>33</td>\n",
       "    </tr>\n",
       "    <tr>\n",
       "      <th>1</th>\n",
       "      <td>12953</td>\n",
       "      <td>31703</td>\n",
       "      <td>LGA</td>\n",
       "      <td>New York, NY</td>\n",
       "      <td>NY</td>\n",
       "      <td>New York</td>\n",
       "      <td>22</td>\n",
       "    </tr>\n",
       "    <tr>\n",
       "      <th>2</th>\n",
       "      <td>11433</td>\n",
       "      <td>31295</td>\n",
       "      <td>DTW</td>\n",
       "      <td>Detroit, MI</td>\n",
       "      <td>MI</td>\n",
       "      <td>Michigan</td>\n",
       "      <td>43</td>\n",
       "    </tr>\n",
       "    <tr>\n",
       "      <th>3</th>\n",
       "      <td>10208</td>\n",
       "      <td>30208</td>\n",
       "      <td>AGS</td>\n",
       "      <td>Augusta, GA</td>\n",
       "      <td>GA</td>\n",
       "      <td>Georgia</td>\n",
       "      <td>34</td>\n",
       "    </tr>\n",
       "    <tr>\n",
       "      <th>4</th>\n",
       "      <td>12266</td>\n",
       "      <td>31453</td>\n",
       "      <td>IAH</td>\n",
       "      <td>Houston, TX</td>\n",
       "      <td>TX</td>\n",
       "      <td>Texas</td>\n",
       "      <td>74</td>\n",
       "    </tr>\n",
       "  </tbody>\n",
       "</table>\n",
       "</div>"
      ],
      "text/plain": [
       "   DEST_AIRPORT_ID  DEST_CITY_MARKET_ID DEST DEST_CITY_NAME DEST_STATE_ABR  \\\n",
       "0            13204                31454  MCO    Orlando, FL             FL   \n",
       "1            12953                31703  LGA   New York, NY             NY   \n",
       "2            11433                31295  DTW    Detroit, MI             MI   \n",
       "3            10208                30208  AGS    Augusta, GA             GA   \n",
       "4            12266                31453  IAH    Houston, TX             TX   \n",
       "\n",
       "  DEST_STATE_NM  DEST_WAC  \n",
       "0       Florida        33  \n",
       "1      New York        22  \n",
       "2      Michigan        43  \n",
       "3       Georgia        34  \n",
       "4         Texas        74  "
      ]
     },
     "execution_count": 14,
     "metadata": {},
     "output_type": "execute_result"
    }
   ],
   "source": [
    "#Destination related columns\n",
    "df_dest = df.iloc[:,[17,18,19,20,21,22,23]]\n",
    "df_dest.head()"
   ]
  },
  {
   "cell_type": "code",
   "execution_count": 15,
   "metadata": {},
   "outputs": [],
   "source": [
    "df.rename(columns={'DEST_AIRPORT_ID':'DestAirport_IDNum',\n",
    "                  'DEST_CITY_MARKET_ID':'DestCityMarket_IDNum',\n",
    "                  'DEST':'Dest_IATA',\n",
    "                  'DEST_CITY_NAME':'DestCityName',\n",
    "                  'DEST_STATE_ABR':'DestState_ID',\n",
    "                  'DEST_STATE_NM':'DestStateName',\n",
    "                  'DEST_WAC':'DestWAC'}\n",
    "          , inplace=True)"
   ]
  },
  {
   "cell_type": "code",
   "execution_count": 16,
   "metadata": {},
   "outputs": [
    {
     "data": {
      "text/html": [
       "<div>\n",
       "<style scoped>\n",
       "    .dataframe tbody tr th:only-of-type {\n",
       "        vertical-align: middle;\n",
       "    }\n",
       "\n",
       "    .dataframe tbody tr th {\n",
       "        vertical-align: top;\n",
       "    }\n",
       "\n",
       "    .dataframe thead th {\n",
       "        text-align: right;\n",
       "    }\n",
       "</style>\n",
       "<table border=\"1\" class=\"dataframe\">\n",
       "  <thead>\n",
       "    <tr style=\"text-align: right;\">\n",
       "      <th></th>\n",
       "      <th>DEP_DELAY</th>\n",
       "      <th>DEP_DELAY_NEW</th>\n",
       "      <th>DEP_DEL15</th>\n",
       "      <th>DEP_DELAY_GROUP</th>\n",
       "      <th>ARR_TIME</th>\n",
       "      <th>ARR_DELAY</th>\n",
       "      <th>ARR_DELAY_NEW</th>\n",
       "      <th>ARR_DEL15</th>\n",
       "    </tr>\n",
       "  </thead>\n",
       "  <tbody>\n",
       "    <tr>\n",
       "      <th>0</th>\n",
       "      <td>-5.0</td>\n",
       "      <td>0.0</td>\n",
       "      <td>0.0</td>\n",
       "      <td>-1.0</td>\n",
       "      <td>8.0</td>\n",
       "      <td>14.0</td>\n",
       "      <td>14.0</td>\n",
       "      <td>0.0</td>\n",
       "    </tr>\n",
       "    <tr>\n",
       "      <th>1</th>\n",
       "      <td>26.0</td>\n",
       "      <td>26.0</td>\n",
       "      <td>1.0</td>\n",
       "      <td>1.0</td>\n",
       "      <td>1456.0</td>\n",
       "      <td>-3.0</td>\n",
       "      <td>0.0</td>\n",
       "      <td>0.0</td>\n",
       "    </tr>\n",
       "    <tr>\n",
       "      <th>2</th>\n",
       "      <td>-6.0</td>\n",
       "      <td>0.0</td>\n",
       "      <td>0.0</td>\n",
       "      <td>-1.0</td>\n",
       "      <td>1907.0</td>\n",
       "      <td>-7.0</td>\n",
       "      <td>0.0</td>\n",
       "      <td>0.0</td>\n",
       "    </tr>\n",
       "    <tr>\n",
       "      <th>3</th>\n",
       "      <td>-1.0</td>\n",
       "      <td>0.0</td>\n",
       "      <td>0.0</td>\n",
       "      <td>-1.0</td>\n",
       "      <td>1954.0</td>\n",
       "      <td>-7.0</td>\n",
       "      <td>0.0</td>\n",
       "      <td>0.0</td>\n",
       "    </tr>\n",
       "    <tr>\n",
       "      <th>4</th>\n",
       "      <td>-8.0</td>\n",
       "      <td>0.0</td>\n",
       "      <td>0.0</td>\n",
       "      <td>-1.0</td>\n",
       "      <td>1454.0</td>\n",
       "      <td>-7.0</td>\n",
       "      <td>0.0</td>\n",
       "      <td>0.0</td>\n",
       "    </tr>\n",
       "  </tbody>\n",
       "</table>\n",
       "</div>"
      ],
      "text/plain": [
       "   DEP_DELAY  DEP_DELAY_NEW  DEP_DEL15  DEP_DELAY_GROUP  ARR_TIME  ARR_DELAY  \\\n",
       "0       -5.0            0.0        0.0             -1.0       8.0       14.0   \n",
       "1       26.0           26.0        1.0              1.0    1456.0       -3.0   \n",
       "2       -6.0            0.0        0.0             -1.0    1907.0       -7.0   \n",
       "3       -1.0            0.0        0.0             -1.0    1954.0       -7.0   \n",
       "4       -8.0            0.0        0.0             -1.0    1454.0       -7.0   \n",
       "\n",
       "   ARR_DELAY_NEW  ARR_DEL15  \n",
       "0           14.0        0.0  \n",
       "1            0.0        0.0  \n",
       "2            0.0        0.0  \n",
       "3            0.0        0.0  \n",
       "4            0.0        0.0  "
      ]
     },
     "execution_count": 16,
     "metadata": {},
     "output_type": "execute_result"
    }
   ],
   "source": [
    "#Delay related columns\n",
    "df_delay = df.iloc[:,[26,27,28,29,31,32,33,34]]\n",
    "df_delay.head()"
   ]
  },
  {
   "cell_type": "code",
   "execution_count": 17,
   "metadata": {},
   "outputs": [],
   "source": [
    "df.rename(columns={'CRS_DEP_TIME':'CRSDepTime',\n",
    "                  'DEP_TIME':'DepTime',\n",
    "                  'DEP_DELAY':'DepDelayMin',\n",
    "                  'DEP_DELAY_NEW':'DepDelayMin0',\n",
    "                  'DEP_DEL15':'DepDelay_Ind15',\n",
    "                  'DEP_DELAY_GROUP':'DepDelayGroup_Int15',\n",
    "                  'CRS_ARR_TIME':'CRSArrTime',\n",
    "                  'ARR_TIME':'ArrTime',\n",
    "                  'ARR_DELAY':'ArrDelayMin',\n",
    "                  'ARR_DELAY_NEW':'ArrDelayMin0',\n",
    "                  'ARR_DEL15':'ArrDelay_Ind15',\n",
    "                  'ARR_DELAY_GROUP':'ArrDelayGroup_Int15'}\n",
    "          , inplace=True)"
   ]
  },
  {
   "cell_type": "code",
   "execution_count": 18,
   "metadata": {
    "scrolled": true
   },
   "outputs": [
    {
     "data": {
      "text/html": [
       "<div>\n",
       "<style scoped>\n",
       "    .dataframe tbody tr th:only-of-type {\n",
       "        vertical-align: middle;\n",
       "    }\n",
       "\n",
       "    .dataframe tbody tr th {\n",
       "        vertical-align: top;\n",
       "    }\n",
       "\n",
       "    .dataframe thead th {\n",
       "        text-align: right;\n",
       "    }\n",
       "</style>\n",
       "<table border=\"1\" class=\"dataframe\">\n",
       "  <thead>\n",
       "    <tr style=\"text-align: right;\">\n",
       "      <th></th>\n",
       "      <th>CANCELLED</th>\n",
       "      <th>CANCELLATION_CODE</th>\n",
       "      <th>DIVERTED</th>\n",
       "    </tr>\n",
       "  </thead>\n",
       "  <tbody>\n",
       "    <tr>\n",
       "      <th>0</th>\n",
       "      <td>0.0</td>\n",
       "      <td>NaN</td>\n",
       "      <td>0.0</td>\n",
       "    </tr>\n",
       "    <tr>\n",
       "      <th>1</th>\n",
       "      <td>0.0</td>\n",
       "      <td>NaN</td>\n",
       "      <td>0.0</td>\n",
       "    </tr>\n",
       "    <tr>\n",
       "      <th>2</th>\n",
       "      <td>0.0</td>\n",
       "      <td>NaN</td>\n",
       "      <td>0.0</td>\n",
       "    </tr>\n",
       "    <tr>\n",
       "      <th>3</th>\n",
       "      <td>0.0</td>\n",
       "      <td>NaN</td>\n",
       "      <td>0.0</td>\n",
       "    </tr>\n",
       "    <tr>\n",
       "      <th>4</th>\n",
       "      <td>0.0</td>\n",
       "      <td>NaN</td>\n",
       "      <td>0.0</td>\n",
       "    </tr>\n",
       "  </tbody>\n",
       "</table>\n",
       "</div>"
      ],
      "text/plain": [
       "   CANCELLED CANCELLATION_CODE  DIVERTED\n",
       "0        0.0               NaN       0.0\n",
       "1        0.0               NaN       0.0\n",
       "2        0.0               NaN       0.0\n",
       "3        0.0               NaN       0.0\n",
       "4        0.0               NaN       0.0"
      ]
     },
     "execution_count": 18,
     "metadata": {},
     "output_type": "execute_result"
    }
   ],
   "source": [
    "#Cancellations related columns\n",
    "df_delay = df.iloc[:,[36,37,38]]\n",
    "df_delay.head()"
   ]
  },
  {
   "cell_type": "code",
   "execution_count": 19,
   "metadata": {},
   "outputs": [],
   "source": [
    "df.rename(columns={'CANCELLED':'Cancelled',\n",
    "                  'CANCELLATION_CODE':'CancellationCode',\n",
    "                  'DIVERTED':'Diverted',\n",
    "                  'CRS_ELAPSED_TIME':'CRSElapsedTimeMin',\n",
    "                  'ACTUAL_ELAPSED_TIME':'ActualElapsedTimeMin',\n",
    "                  'AIR_TIME':'FlightTimeMin',\n",
    "                  'FLIGHTS':'NumberOfFlights',\n",
    "                  'DISTANCE':'DistanceMil',\n",
    "                  'DISTANCE_GROUP':'Distance_Int250Mil',\n",
    "                  'CARRIER_DELAY':'CarrierDelayMin',\n",
    "                  'WEATHER_DELAY':'WeatherDelayMin',\n",
    "                  'NAS_DELAY':'NASDelayMin',\n",
    "                  'SECURITY_DELAY':'SecurityDelayMin',\n",
    "                  'LATE_AIRCRAFT_DELAY':'LateAircraftDelay'}\n",
    "          , inplace=True)"
   ]
  },
  {
   "cell_type": "code",
   "execution_count": 20,
   "metadata": {
    "scrolled": false
   },
   "outputs": [
    {
     "data": {
      "text/plain": [
       "Index(['Year', 'Quarter', 'Month', 'DayOfMonth', 'DayOfWeek', 'FlightDate',\n",
       "       'UniqueCarrier', 'Carrier', 'RegistrationNum', 'FlightNum',\n",
       "       'OriginAirport_IDNum', 'OriginCityMarket_IDNum', 'Origin_IATA',\n",
       "       'OriginCityName', 'OriginState_ID', 'OriginStateName', 'OriginWAC',\n",
       "       'DestAirport_IDNum', 'DestCityMarket_IDNum', 'Dest_IATA',\n",
       "       'DestCityName', 'DestState_ID', 'DestStateName', 'DestWAC',\n",
       "       'CRSDepTime', 'DepTime', 'DepDelayMin', 'DepDelayMin0',\n",
       "       'DepDelay_Ind15', 'DepDelayGroup_Int15', 'CRSArrTime', 'ArrTime',\n",
       "       'ArrDelayMin', 'ArrDelayMin0', 'ArrDelay_Ind15', 'ArrDelayGroup_Int15',\n",
       "       'Cancelled', 'CancellationCode', 'Diverted', 'CRSElapsedTimeMin',\n",
       "       'ActualElapsedTimeMin', 'FlightTimeMin', 'NumberOfFlights',\n",
       "       'DistanceMil', 'Distance_Int250Mil', 'CarrierDelayMin',\n",
       "       'WeatherDelayMin', 'NASDelayMin', 'SecurityDelayMin',\n",
       "       'LateAircraftDelay', 'Unnamed: 50'],\n",
       "      dtype='object')"
      ]
     },
     "execution_count": 20,
     "metadata": {},
     "output_type": "execute_result"
    }
   ],
   "source": [
    "df.columns"
   ]
  },
  {
   "cell_type": "markdown",
   "metadata": {},
   "source": [
    "### Changing Date Format: DepTime and ArrTime"
   ]
  },
  {
   "cell_type": "code",
   "execution_count": 21,
   "metadata": {
    "scrolled": false
   },
   "outputs": [
    {
     "data": {
      "text/html": [
       "<div>\n",
       "<style scoped>\n",
       "    .dataframe tbody tr th:only-of-type {\n",
       "        vertical-align: middle;\n",
       "    }\n",
       "\n",
       "    .dataframe tbody tr th {\n",
       "        vertical-align: top;\n",
       "    }\n",
       "\n",
       "    .dataframe thead th {\n",
       "        text-align: right;\n",
       "    }\n",
       "</style>\n",
       "<table border=\"1\" class=\"dataframe\">\n",
       "  <thead>\n",
       "    <tr style=\"text-align: right;\">\n",
       "      <th></th>\n",
       "      <th>DepTime</th>\n",
       "      <th>ArrTime</th>\n",
       "      <th>FlightDate</th>\n",
       "    </tr>\n",
       "  </thead>\n",
       "  <tbody>\n",
       "    <tr>\n",
       "      <th>318294</th>\n",
       "      <td>829.0</td>\n",
       "      <td>1012.0</td>\n",
       "      <td>2015-01-09</td>\n",
       "    </tr>\n",
       "    <tr>\n",
       "      <th>416244</th>\n",
       "      <td>1821.0</td>\n",
       "      <td>2009.0</td>\n",
       "      <td>2015-01-14</td>\n",
       "    </tr>\n",
       "    <tr>\n",
       "      <th>441284</th>\n",
       "      <td>740.0</td>\n",
       "      <td>859.0</td>\n",
       "      <td>2015-01-24</td>\n",
       "    </tr>\n",
       "    <tr>\n",
       "      <th>309799</th>\n",
       "      <td>1955.0</td>\n",
       "      <td>2207.0</td>\n",
       "      <td>2015-01-15</td>\n",
       "    </tr>\n",
       "    <tr>\n",
       "      <th>422032</th>\n",
       "      <td>1154.0</td>\n",
       "      <td>1315.0</td>\n",
       "      <td>2015-01-19</td>\n",
       "    </tr>\n",
       "    <tr>\n",
       "      <th>354867</th>\n",
       "      <td>635.0</td>\n",
       "      <td>903.0</td>\n",
       "      <td>2015-01-28</td>\n",
       "    </tr>\n",
       "    <tr>\n",
       "      <th>118533</th>\n",
       "      <td>1438.0</td>\n",
       "      <td>1731.0</td>\n",
       "      <td>2015-01-21</td>\n",
       "    </tr>\n",
       "    <tr>\n",
       "      <th>3272</th>\n",
       "      <td>953.0</td>\n",
       "      <td>1210.0</td>\n",
       "      <td>2015-01-23</td>\n",
       "    </tr>\n",
       "    <tr>\n",
       "      <th>147799</th>\n",
       "      <td>2037.0</td>\n",
       "      <td>2330.0</td>\n",
       "      <td>2015-01-28</td>\n",
       "    </tr>\n",
       "    <tr>\n",
       "      <th>174103</th>\n",
       "      <td>1358.0</td>\n",
       "      <td>1454.0</td>\n",
       "      <td>2015-01-08</td>\n",
       "    </tr>\n",
       "  </tbody>\n",
       "</table>\n",
       "</div>"
      ],
      "text/plain": [
       "        DepTime  ArrTime  FlightDate\n",
       "318294    829.0   1012.0  2015-01-09\n",
       "416244   1821.0   2009.0  2015-01-14\n",
       "441284    740.0    859.0  2015-01-24\n",
       "309799   1955.0   2207.0  2015-01-15\n",
       "422032   1154.0   1315.0  2015-01-19\n",
       "354867    635.0    903.0  2015-01-28\n",
       "118533   1438.0   1731.0  2015-01-21\n",
       "3272      953.0   1210.0  2015-01-23\n",
       "147799   2037.0   2330.0  2015-01-28\n",
       "174103   1358.0   1454.0  2015-01-08"
      ]
     },
     "execution_count": 21,
     "metadata": {},
     "output_type": "execute_result"
    }
   ],
   "source": [
    "df_time = df[['DepTime', 'ArrTime', 'FlightDate']]\n",
    "df_time.sample(10)"
   ]
  },
  {
   "cell_type": "code",
   "execution_count": 22,
   "metadata": {
    "scrolled": false
   },
   "outputs": [
    {
     "data": {
      "text/plain": [
       "DepTime       float64\n",
       "ArrTime       float64\n",
       "FlightDate     object\n",
       "dtype: object"
      ]
     },
     "execution_count": 22,
     "metadata": {},
     "output_type": "execute_result"
    }
   ],
   "source": [
    "df_time.dtypes"
   ]
  },
  {
   "cell_type": "markdown",
   "metadata": {},
   "source": [
    "As we can see, both DepTime and ArrTime are float types. Therefore, we will create a function that will enable us to parse our int hours into a reasonable format (\"HH:MM\").  "
   ]
  },
  {
   "cell_type": "code",
   "execution_count": 23,
   "metadata": {},
   "outputs": [],
   "source": [
    "def Deptime_to_String(deptime):\n",
    "   \n",
    "    #Using 'int' we only keep the integer value of the division, which represents the hour\n",
    "    #Applying '%' Modulus, results (hours) equals to '24' are avoided, and returned as '00'\n",
    "    dephour = int(deptime / 100) % 24\n",
    "    depmin = int(deptime % 100)\n",
    "\n",
    "    return '%02d:%02d' % (dephour, depmin)\n",
    "\n",
    "def Arrtime_to_String(arrtime):\n",
    "    \n",
    "    #Using 'int' we only keep the integer value of the division, which represents the hour\n",
    "    #Applying '%' Modulus, results (hours) equals to '24' are avoided, and returned as '00'\n",
    "    arrhour = int(arrtime / 100) % 24 \n",
    "    arrmin = int(arrtime % 100)\n",
    "\n",
    "    return '%02d:%02d' % (arrhour, arrmin)"
   ]
  },
  {
   "cell_type": "code",
   "execution_count": 24,
   "metadata": {},
   "outputs": [
    {
     "data": {
      "text/plain": [
       "('20:10', '21:53')"
      ]
     },
     "execution_count": 24,
     "metadata": {},
     "output_type": "execute_result"
    }
   ],
   "source": [
    "#We test the functions created with the first flight of the previous sample\n",
    "Deptime_to_String(2010.0), Arrtime_to_String(2153.0)"
   ]
  },
  {
   "cell_type": "code",
   "execution_count": 25,
   "metadata": {},
   "outputs": [],
   "source": [
    "#On previous tries I had this error - \"ValueError: cannot convert float NaN to integer\"\n",
    "#Therefore, I chose to remove the missing values with dropna\n",
    "deptime = df['DepTime'].dropna().apply(Deptime_to_String)\n",
    "arrtime = df['ArrTime'].dropna().apply(Arrtime_to_String)"
   ]
  },
  {
   "cell_type": "code",
   "execution_count": 26,
   "metadata": {},
   "outputs": [],
   "source": [
    "#Let's create 2 new columns with the time in the correct format\n",
    "df['DepTime2'] = deptime\n",
    "df['ArrTime2'] = arrtime"
   ]
  },
  {
   "cell_type": "code",
   "execution_count": 27,
   "metadata": {},
   "outputs": [
    {
     "data": {
      "text/plain": [
       "417527    19:40\n",
       "Name: DepTime2, dtype: object"
      ]
     },
     "execution_count": 27,
     "metadata": {},
     "output_type": "execute_result"
    }
   ],
   "source": [
    "#Test\n",
    "df['DepTime2'].sample()"
   ]
  },
  {
   "cell_type": "code",
   "execution_count": 28,
   "metadata": {
    "scrolled": true
   },
   "outputs": [
    {
     "data": {
      "text/plain": [
       "376338    16:50\n",
       "Name: ArrTime2, dtype: object"
      ]
     },
     "execution_count": 28,
     "metadata": {},
     "output_type": "execute_result"
    }
   ],
   "source": [
    "#Test\n",
    "df['ArrTime2'].sample()"
   ]
  },
  {
   "cell_type": "markdown",
   "metadata": {},
   "source": [
    "Now, we have two new columns: DepTime2 and ArrTime2; containing departure and arrival times in the correct format. Next, we will generate a new column, for both times, into a TimeStamp format ('YYYY-MM-DD HH:MM:SS')."
   ]
  },
  {
   "cell_type": "markdown",
   "metadata": {},
   "source": [
    "Applying 'to_datetime' we are able to combine two columns, for example: 'DepTime2' (Time) and 'FlightDate' (Date); and create a TimeStamp format with both of them, in a new column."
   ]
  },
  {
   "cell_type": "code",
   "execution_count": 29,
   "metadata": {},
   "outputs": [
    {
     "data": {
      "text/plain": [
       "205559   2015-01-06 16:28:00\n",
       "167368   2015-01-16 18:16:00\n",
       "272103   2015-01-08 20:46:00\n",
       "418181   2015-01-16 21:58:00\n",
       "100216   2015-01-13 11:12:00\n",
       "Name: DepDateTime, dtype: datetime64[ns]"
      ]
     },
     "execution_count": 29,
     "metadata": {},
     "output_type": "execute_result"
    }
   ],
   "source": [
    "#Because to_datetime, the Date has to be positioned prior to the Time\n",
    "dep_datetime = pd.to_datetime(df['FlightDate']+' '+df['DepTime2'])\n",
    "df['DepDateTime'] = dep_datetime\n",
    "df['DepDateTime'].sample(5) #Test"
   ]
  },
  {
   "cell_type": "code",
   "execution_count": 30,
   "metadata": {
    "scrolled": true
   },
   "outputs": [
    {
     "data": {
      "text/plain": [
       "168429   2015-01-24 20:10:00\n",
       "177994   2015-01-30 08:58:00\n",
       "415115   2015-01-16 21:02:00\n",
       "26337    2015-01-12 14:24:00\n",
       "386358   2015-01-07 16:00:00\n",
       "Name: ArrDateTime, dtype: datetime64[ns]"
      ]
     },
     "execution_count": 30,
     "metadata": {},
     "output_type": "execute_result"
    }
   ],
   "source": [
    "arr_datetime = pd.to_datetime(df['FlightDate']+' '+df['ArrTime2'])\n",
    "df['ArrDateTime'] = arr_datetime\n",
    "df['ArrDateTime'].sample(5) #Test"
   ]
  },
  {
   "cell_type": "markdown",
   "metadata": {},
   "source": [
    "After having created both columns, let's drop the redundant columns: DepTime, DepTime2, ArrTime, ArrTime2 and FlightDate."
   ]
  },
  {
   "cell_type": "code",
   "execution_count": 31,
   "metadata": {},
   "outputs": [],
   "source": [
    "df = df.drop(['DepTime', 'DepTime2', 'ArrTime', 'ArrTime2', 'FlightDate'], axis=1)"
   ]
  },
  {
   "cell_type": "code",
   "execution_count": 32,
   "metadata": {},
   "outputs": [
    {
     "data": {
      "text/html": [
       "<div>\n",
       "<style scoped>\n",
       "    .dataframe tbody tr th:only-of-type {\n",
       "        vertical-align: middle;\n",
       "    }\n",
       "\n",
       "    .dataframe tbody tr th {\n",
       "        vertical-align: top;\n",
       "    }\n",
       "\n",
       "    .dataframe thead th {\n",
       "        text-align: right;\n",
       "    }\n",
       "</style>\n",
       "<table border=\"1\" class=\"dataframe\">\n",
       "  <thead>\n",
       "    <tr style=\"text-align: right;\">\n",
       "      <th></th>\n",
       "      <th>DepDateTime</th>\n",
       "      <th>ArrDateTime</th>\n",
       "    </tr>\n",
       "  </thead>\n",
       "  <tbody>\n",
       "    <tr>\n",
       "      <th>0</th>\n",
       "      <td>2015-01-22 20:45:00</td>\n",
       "      <td>2015-01-22 00:08:00</td>\n",
       "    </tr>\n",
       "    <tr>\n",
       "      <th>1</th>\n",
       "      <td>2015-01-22 13:11:00</td>\n",
       "      <td>2015-01-22 14:56:00</td>\n",
       "    </tr>\n",
       "    <tr>\n",
       "      <th>2</th>\n",
       "      <td>2015-01-22 11:44:00</td>\n",
       "      <td>2015-01-22 19:07:00</td>\n",
       "    </tr>\n",
       "    <tr>\n",
       "      <th>3</th>\n",
       "      <td>2015-01-22 19:08:00</td>\n",
       "      <td>2015-01-22 19:54:00</td>\n",
       "    </tr>\n",
       "    <tr>\n",
       "      <th>4</th>\n",
       "      <td>2015-01-22 13:34:00</td>\n",
       "      <td>2015-01-22 14:54:00</td>\n",
       "    </tr>\n",
       "  </tbody>\n",
       "</table>\n",
       "</div>"
      ],
      "text/plain": [
       "          DepDateTime         ArrDateTime\n",
       "0 2015-01-22 20:45:00 2015-01-22 00:08:00\n",
       "1 2015-01-22 13:11:00 2015-01-22 14:56:00\n",
       "2 2015-01-22 11:44:00 2015-01-22 19:07:00\n",
       "3 2015-01-22 19:08:00 2015-01-22 19:54:00\n",
       "4 2015-01-22 13:34:00 2015-01-22 14:54:00"
      ]
     },
     "execution_count": 32,
     "metadata": {},
     "output_type": "execute_result"
    }
   ],
   "source": [
    "#Last check\n",
    "df_time = df[['DepDateTime', 'ArrDateTime']]\n",
    "df_time.head()"
   ]
  },
  {
   "cell_type": "markdown",
   "metadata": {},
   "source": [
    "## Treating Null Values"
   ]
  },
  {
   "cell_type": "raw",
   "metadata": {},
   "source": [
    "df.shape"
   ]
  },
  {
   "cell_type": "markdown",
   "metadata": {},
   "source": [
    "Let's use the isna() method to indentify the null values per column, and the count them with sum()."
   ]
  },
  {
   "cell_type": "code",
   "execution_count": 33,
   "metadata": {
    "scrolled": true
   },
   "outputs": [
    {
     "data": {
      "text/plain": [
       "Year                           0\n",
       "Quarter                        0\n",
       "Month                          0\n",
       "DayOfMonth                     0\n",
       "DayOfWeek                      0\n",
       "UniqueCarrier                  0\n",
       "Carrier                        0\n",
       "RegistrationNum             2782\n",
       "FlightNum                      0\n",
       "OriginAirport_IDNum            0\n",
       "OriginCityMarket_IDNum         0\n",
       "Origin_IATA                    0\n",
       "OriginCityName                 0\n",
       "OriginState_ID                 0\n",
       "OriginStateName                0\n",
       "OriginWAC                      0\n",
       "DestAirport_IDNum              0\n",
       "DestCityMarket_IDNum           0\n",
       "Dest_IATA                      0\n",
       "DestCityName                   0\n",
       "DestState_ID                   0\n",
       "DestStateName                  0\n",
       "DestWAC                        0\n",
       "CRSDepTime                     0\n",
       "DepDelayMin                11657\n",
       "DepDelayMin0               11657\n",
       "DepDelay_Ind15             11657\n",
       "DepDelayGroup_Int15        11657\n",
       "CRSArrTime                     0\n",
       "ArrDelayMin                12955\n",
       "ArrDelayMin0               12955\n",
       "ArrDelay_Ind15             12955\n",
       "ArrDelayGroup_Int15        12955\n",
       "Cancelled                      0\n",
       "CancellationCode          457986\n",
       "Diverted                       0\n",
       "CRSElapsedTimeMin              0\n",
       "ActualElapsedTimeMin       12955\n",
       "FlightTimeMin              12955\n",
       "NumberOfFlights                0\n",
       "DistanceMil                    0\n",
       "Distance_Int250Mil             0\n",
       "CarrierDelayMin           374017\n",
       "WeatherDelayMin           374017\n",
       "NASDelayMin               374017\n",
       "SecurityDelayMin          374017\n",
       "LateAircraftDelay         374017\n",
       "Unnamed: 50               469968\n",
       "DepDateTime                11657\n",
       "ArrDateTime                12271\n",
       "dtype: int64"
      ]
     },
     "execution_count": 33,
     "metadata": {},
     "output_type": "execute_result"
    }
   ],
   "source": [
    "df.isna().sum()"
   ]
  },
  {
   "cell_type": "markdown",
   "metadata": {},
   "source": [
    "It appears the 'CancellationCode' column has the highest number of null values with 457986. Followed by the Delay's causes: 'CarrierDelayMin', 'WeatherDelayMin, 'NASDelayMin', SecurityDelayMin', 'LateAircraftDelay'; with 374017 each. \n",
    "\n",
    "Let's keep it mind that the dataframe has 469968 values per column. Also, that the most interesting columns for us (the ones specically related to the delays in Departures and Arrivals); have between 11657 (Departures) and 12955 (Arrivals).\n",
    "\n",
    "Therefore, we will drop the columns with more than 20.000 nulls values. This established threshold is only for the MVP version, on further investigations we will try a more optimal way of normalitzation. In dropna(), the threshold value indicates the minimum non-null values. Threshold = 469.968 - 20.000 = 449.968"
   ]
  },
  {
   "cell_type": "code",
   "execution_count": 34,
   "metadata": {},
   "outputs": [
    {
     "data": {
      "text/plain": [
       "(469968, 43)"
      ]
     },
     "execution_count": 34,
     "metadata": {},
     "output_type": "execute_result"
    }
   ],
   "source": [
    "df2 = df.dropna(axis=1, thresh=449968)\n",
    "df2.shape"
   ]
  },
  {
   "cell_type": "code",
   "execution_count": 35,
   "metadata": {},
   "outputs": [
    {
     "data": {
      "text/plain": [
       "(469968, 50)"
      ]
     },
     "execution_count": 35,
     "metadata": {},
     "output_type": "execute_result"
    }
   ],
   "source": [
    "df.shape"
   ]
  },
  {
   "cell_type": "markdown",
   "metadata": {},
   "source": [
    "We have dropped 7 columns"
   ]
  },
  {
   "cell_type": "markdown",
   "metadata": {},
   "source": [
    "# 02 - Data Examination"
   ]
  },
  {
   "cell_type": "code",
   "execution_count": 36,
   "metadata": {},
   "outputs": [],
   "source": [
    "import matplotlib.pyplot as plt"
   ]
  },
  {
   "cell_type": "code",
   "execution_count": 37,
   "metadata": {},
   "outputs": [
    {
     "data": {
      "text/plain": [
       "Index(['Year', 'Quarter', 'Month', 'DayOfMonth', 'DayOfWeek', 'UniqueCarrier',\n",
       "       'Carrier', 'RegistrationNum', 'FlightNum', 'OriginAirport_IDNum',\n",
       "       'OriginCityMarket_IDNum', 'Origin_IATA', 'OriginCityName',\n",
       "       'OriginState_ID', 'OriginStateName', 'OriginWAC', 'DestAirport_IDNum',\n",
       "       'DestCityMarket_IDNum', 'Dest_IATA', 'DestCityName', 'DestState_ID',\n",
       "       'DestStateName', 'DestWAC', 'CRSDepTime', 'DepDelayMin', 'DepDelayMin0',\n",
       "       'DepDelay_Ind15', 'DepDelayGroup_Int15', 'CRSArrTime', 'ArrDelayMin',\n",
       "       'ArrDelayMin0', 'ArrDelay_Ind15', 'ArrDelayGroup_Int15', 'Cancelled',\n",
       "       'Diverted', 'CRSElapsedTimeMin', 'ActualElapsedTimeMin',\n",
       "       'FlightTimeMin', 'NumberOfFlights', 'DistanceMil', 'Distance_Int250Mil',\n",
       "       'DepDateTime', 'ArrDateTime'],\n",
       "      dtype='object')"
      ]
     },
     "execution_count": 37,
     "metadata": {},
     "output_type": "execute_result"
    }
   ],
   "source": [
    "df2.columns"
   ]
  },
  {
   "cell_type": "code",
   "execution_count": 38,
   "metadata": {
    "scrolled": true
   },
   "outputs": [
    {
     "data": {
      "text/html": [
       "<div>\n",
       "<style scoped>\n",
       "    .dataframe tbody tr th:only-of-type {\n",
       "        vertical-align: middle;\n",
       "    }\n",
       "\n",
       "    .dataframe tbody tr th {\n",
       "        vertical-align: top;\n",
       "    }\n",
       "\n",
       "    .dataframe thead th {\n",
       "        text-align: right;\n",
       "    }\n",
       "</style>\n",
       "<table border=\"1\" class=\"dataframe\">\n",
       "  <thead>\n",
       "    <tr style=\"text-align: right;\">\n",
       "      <th></th>\n",
       "      <th>DepDelayMin</th>\n",
       "      <th>ArrDelayMin</th>\n",
       "    </tr>\n",
       "  </thead>\n",
       "  <tbody>\n",
       "    <tr>\n",
       "      <th>count</th>\n",
       "      <td>458311.000000</td>\n",
       "      <td>457013.000000</td>\n",
       "    </tr>\n",
       "    <tr>\n",
       "      <th>mean</th>\n",
       "      <td>9.759471</td>\n",
       "      <td>5.813583</td>\n",
       "    </tr>\n",
       "    <tr>\n",
       "      <th>std</th>\n",
       "      <td>36.636491</td>\n",
       "      <td>39.413501</td>\n",
       "    </tr>\n",
       "    <tr>\n",
       "      <th>min</th>\n",
       "      <td>-48.000000</td>\n",
       "      <td>-82.000000</td>\n",
       "    </tr>\n",
       "    <tr>\n",
       "      <th>25%</th>\n",
       "      <td>-5.000000</td>\n",
       "      <td>-13.000000</td>\n",
       "    </tr>\n",
       "    <tr>\n",
       "      <th>50%</th>\n",
       "      <td>-2.000000</td>\n",
       "      <td>-4.000000</td>\n",
       "    </tr>\n",
       "    <tr>\n",
       "      <th>75%</th>\n",
       "      <td>9.000000</td>\n",
       "      <td>10.000000</td>\n",
       "    </tr>\n",
       "    <tr>\n",
       "      <th>max</th>\n",
       "      <td>1988.000000</td>\n",
       "      <td>1971.000000</td>\n",
       "    </tr>\n",
       "  </tbody>\n",
       "</table>\n",
       "</div>"
      ],
      "text/plain": [
       "         DepDelayMin    ArrDelayMin\n",
       "count  458311.000000  457013.000000\n",
       "mean        9.759471       5.813583\n",
       "std        36.636491      39.413501\n",
       "min       -48.000000     -82.000000\n",
       "25%        -5.000000     -13.000000\n",
       "50%        -2.000000      -4.000000\n",
       "75%         9.000000      10.000000\n",
       "max      1988.000000    1971.000000"
      ]
     },
     "execution_count": 38,
     "metadata": {},
     "output_type": "execute_result"
    }
   ],
   "source": [
    "#Let's check the range of values in DepDelayMin and ArrDelayMin\n",
    "df2[['DepDelayMin', 'ArrDelayMin']].describe()"
   ]
  },
  {
   "cell_type": "code",
   "execution_count": 39,
   "metadata": {},
   "outputs": [
    {
     "data": {
      "text/plain": [
       "(469968, 43)"
      ]
     },
     "execution_count": 39,
     "metadata": {},
     "output_type": "execute_result"
    }
   ],
   "source": [
    "df2.shape"
   ]
  },
  {
   "cell_type": "code",
   "execution_count": 40,
   "metadata": {},
   "outputs": [
    {
     "data": {
      "text/plain": [
       "257399"
      ]
     },
     "execution_count": 40,
     "metadata": {},
     "output_type": "execute_result"
    }
   ],
   "source": [
    "#In column 'DepDelayMin', early departures show negative numbers\n",
    "#Let's check how many early departures, or on-time, of the 469968 total flights, there are\n",
    "df2[df2['DepDelayMin']<0].count()['DepDelayMin']"
   ]
  },
  {
   "cell_type": "code",
   "execution_count": 41,
   "metadata": {
    "scrolled": true
   },
   "outputs": [
    {
     "data": {
      "text/html": [
       "<div>\n",
       "<style scoped>\n",
       "    .dataframe tbody tr th:only-of-type {\n",
       "        vertical-align: middle;\n",
       "    }\n",
       "\n",
       "    .dataframe tbody tr th {\n",
       "        vertical-align: top;\n",
       "    }\n",
       "\n",
       "    .dataframe thead th {\n",
       "        text-align: right;\n",
       "    }\n",
       "</style>\n",
       "<table border=\"1\" class=\"dataframe\">\n",
       "  <thead>\n",
       "    <tr style=\"text-align: right;\">\n",
       "      <th></th>\n",
       "      <th>DepDelayMin</th>\n",
       "      <th>DepDelayMin0</th>\n",
       "      <th>ArrDelayMin</th>\n",
       "      <th>ArrDelayMin0</th>\n",
       "    </tr>\n",
       "  </thead>\n",
       "  <tbody>\n",
       "    <tr>\n",
       "      <th>count</th>\n",
       "      <td>458311.000000</td>\n",
       "      <td>458311.000000</td>\n",
       "      <td>457013.000000</td>\n",
       "      <td>457013.000000</td>\n",
       "    </tr>\n",
       "    <tr>\n",
       "      <th>mean</th>\n",
       "      <td>9.759471</td>\n",
       "      <td>12.572550</td>\n",
       "      <td>5.813583</td>\n",
       "      <td>13.124150</td>\n",
       "    </tr>\n",
       "    <tr>\n",
       "      <th>std</th>\n",
       "      <td>36.636491</td>\n",
       "      <td>35.492214</td>\n",
       "      <td>39.413501</td>\n",
       "      <td>35.771842</td>\n",
       "    </tr>\n",
       "    <tr>\n",
       "      <th>min</th>\n",
       "      <td>-48.000000</td>\n",
       "      <td>0.000000</td>\n",
       "      <td>-82.000000</td>\n",
       "      <td>0.000000</td>\n",
       "    </tr>\n",
       "    <tr>\n",
       "      <th>25%</th>\n",
       "      <td>-5.000000</td>\n",
       "      <td>0.000000</td>\n",
       "      <td>-13.000000</td>\n",
       "      <td>0.000000</td>\n",
       "    </tr>\n",
       "    <tr>\n",
       "      <th>50%</th>\n",
       "      <td>-2.000000</td>\n",
       "      <td>0.000000</td>\n",
       "      <td>-4.000000</td>\n",
       "      <td>0.000000</td>\n",
       "    </tr>\n",
       "    <tr>\n",
       "      <th>75%</th>\n",
       "      <td>9.000000</td>\n",
       "      <td>9.000000</td>\n",
       "      <td>10.000000</td>\n",
       "      <td>10.000000</td>\n",
       "    </tr>\n",
       "    <tr>\n",
       "      <th>max</th>\n",
       "      <td>1988.000000</td>\n",
       "      <td>1988.000000</td>\n",
       "      <td>1971.000000</td>\n",
       "      <td>1971.000000</td>\n",
       "    </tr>\n",
       "  </tbody>\n",
       "</table>\n",
       "</div>"
      ],
      "text/plain": [
       "         DepDelayMin   DepDelayMin0    ArrDelayMin   ArrDelayMin0\n",
       "count  458311.000000  458311.000000  457013.000000  457013.000000\n",
       "mean        9.759471      12.572550       5.813583      13.124150\n",
       "std        36.636491      35.492214      39.413501      35.771842\n",
       "min       -48.000000       0.000000     -82.000000       0.000000\n",
       "25%        -5.000000       0.000000     -13.000000       0.000000\n",
       "50%        -2.000000       0.000000      -4.000000       0.000000\n",
       "75%         9.000000       9.000000      10.000000      10.000000\n",
       "max      1988.000000    1988.000000    1971.000000    1971.000000"
      ]
     },
     "execution_count": 41,
     "metadata": {},
     "output_type": "execute_result"
    }
   ],
   "source": [
    "#Let's check the range of values in 'DepDelayMin0' and 'ArrDelayMin0'\n",
    "#'DepDelayMin0' and 'ArrDelayMin0', will set all the negative values (early departures) to 0\n",
    "df2[['DepDelayMin', 'DepDelayMin0', 'ArrDelayMin', 'ArrDelayMin0']].describe()"
   ]
  },
  {
   "cell_type": "markdown",
   "metadata": {},
   "source": [
    "Looking for Delay Distribution"
   ]
  },
  {
   "cell_type": "code",
   "execution_count": 42,
   "metadata": {
    "scrolled": true
   },
   "outputs": [
    {
     "name": "stderr",
     "output_type": "stream",
     "text": [
      "C:\\Users\\GerardEspejo\\Anaconda3\\lib\\site-packages\\numpy\\lib\\histograms.py:754: RuntimeWarning: invalid value encountered in greater_equal\n",
      "  keep = (tmp_a >= first_edge)\n",
      "C:\\Users\\GerardEspejo\\Anaconda3\\lib\\site-packages\\numpy\\lib\\histograms.py:755: RuntimeWarning: invalid value encountered in less_equal\n",
      "  keep &= (tmp_a <= last_edge)\n"
     ]
    },
    {
     "data": {
      "image/png": "[encoded data removed]",
      "text/plain": [
       "<Figure size 432x288 with 1 Axes>"
      ]
     },
     "metadata": {
      "needs_background": "light"
     },
     "output_type": "display_data"
    }
   ],
   "source": [
    "plt.hist(df2['DepDelayMin'], range=[min(df2['DepDelayMin']),300], bins=50,  color = 'blue')\n",
    "plt.title('Delays in minutes')\n",
    "plt.xlabel('Time (minutes)')\n",
    "plt.ylabel('Frequency')\n",
    "plt.show()"
   ]
  },
  {
   "cell_type": "code",
   "execution_count": 43,
   "metadata": {
    "scrolled": true
   },
   "outputs": [
    {
     "data": {
      "image/png": "[encoded data removed]",
      "text/plain": [
       "<Figure size 432x288 with 1 Axes>"
      ]
     },
     "metadata": {
      "needs_background": "light"
     },
     "output_type": "display_data"
    }
   ],
   "source": [
    "plt.hist(df2['DepDelayMin'], range=[min(df2['DepDelayMin']),100], bins=100,  color = 'blue')\n",
    "plt.title('Delays in minutes')\n",
    "plt.xlabel('Time (minutes)')\n",
    "plt.ylabel('Frequency')\n",
    "plt.show()"
   ]
  },
  {
   "cell_type": "code",
   "execution_count": 44,
   "metadata": {
    "scrolled": false
   },
   "outputs": [
    {
     "data": {
      "image/png": "[encoded data removed]",
      "text/plain": [
       "<Figure size 432x288 with 1 Axes>"
      ]
     },
     "metadata": {
      "needs_background": "light"
     },
     "output_type": "display_data"
    }
   ],
   "source": [
    "plt.hist(df2['DepDelayMin'], range=[min(df2['DepDelayMin']), 250], bins=100,  color = 'blue')\n",
    "plt.hist(df2['DepDelayMin0'], range=[min(df2['DepDelayMin0']), 250], bins=100,  color = 'green')\n",
    "plt.title('Delays in minutes')\n",
    "plt.xlabel('Time (minutes)')\n",
    "plt.ylabel('Frequency')\n",
    "plt.show()"
   ]
  },
  {
   "cell_type": "markdown",
   "metadata": {},
   "source": [
    "Let's see which are the most delayed airports:"
   ]
  },
  {
   "cell_type": "code",
   "execution_count": 45,
   "metadata": {},
   "outputs": [],
   "source": [
    "#Departure Delays\n",
    "airports_max_depdelay = df2.groupby('Origin_IATA')"
   ]
  },
  {
   "cell_type": "code",
   "execution_count": 108,
   "metadata": {},
   "outputs": [
    {
     "data": {
      "text/plain": [
       "Origin_IATA\n",
       "DVL    35.627907\n",
       "JMS    34.322581\n",
       "IMT    32.381818\n",
       "OTH    30.375000\n",
       "CEC    28.881356\n",
       "TTN    26.942982\n",
       "SCE    26.492063\n",
       "ILG    26.461538\n",
       "APN    25.653061\n",
       "ACV    25.088435\n",
       "Name: DepDelayMin, dtype: float64"
      ]
     },
     "execution_count": 108,
     "metadata": {},
     "output_type": "execute_result"
    }
   ],
   "source": [
    "#Top 10 airports, by average delay\n",
    "airports_max_depdelay['DepDelayMin'].mean().sort_values(ascending=False).head(10)"
   ]
  },
  {
   "cell_type": "code",
   "execution_count": 109,
   "metadata": {},
   "outputs": [
    {
     "data": {
      "text/plain": [
       "Origin_IATA\n",
       "ORD    447649.0\n",
       "DFW    266358.0\n",
       "DEN    261181.0\n",
       "ATL    212578.0\n",
       "SFO    130279.0\n",
       "LAX    127823.0\n",
       "IAH    120146.0\n",
       "LGA    114585.0\n",
       "PHX    105182.0\n",
       "EWR    103527.0\n",
       "Name: DepDelayMin, dtype: float64"
      ]
     },
     "execution_count": 109,
     "metadata": {},
     "output_type": "execute_result"
    }
   ],
   "source": [
    "#Top 10 airports, by accumulative delay\n",
    "airports_max_depdelay['DepDelayMin'].sum().sort_values(ascending=False).head(10)"
   ]
  },
  {
   "cell_type": "code",
   "execution_count": 110,
   "metadata": {
    "scrolled": true
   },
   "outputs": [
    {
     "data": {
      "text/plain": [
       "ATL    29512\n",
       "ORD    23484\n",
       "DFW    23153\n",
       "LAX    17340\n",
       "DEN    17090\n",
       "IAH    13376\n",
       "PHX    13122\n",
       "SFO    12891\n",
       "LAS    11604\n",
       "MCO    10083\n",
       "Name: Origin_IATA, dtype: int64"
      ]
     },
     "execution_count": 110,
     "metadata": {},
     "output_type": "execute_result"
    }
   ],
   "source": [
    "#Let's see if the top 10 airports, per volume of flights. Will they be the same?\n",
    "top10_deps = df2['Origin_IATA'].value_counts().sort_values(ascending = False).head(10)\n",
    "top10_deps"
   ]
  },
  {
   "cell_type": "code",
   "execution_count": 54,
   "metadata": {},
   "outputs": [],
   "source": [
    "#airports_max_depdelay['DepDelayMin'].mean().sort_values(ascending=False).head(10)"
   ]
  },
  {
   "cell_type": "markdown",
   "metadata": {},
   "source": [
    "#### Conclusion - Hypothesis 1\n",
    "\n",
    "There is a relation between the top 10 airports by number of flights, and the accumulated delays. But, it is really interesting because the top airports per volume of flights are not the top on the average delay list."
   ]
  },
  {
   "cell_type": "markdown",
   "metadata": {},
   "source": [
    "Let's see which are the most punctual/delayed airlines:\n",
    "Will the most punctual airlines at Departures be the same as at arrival?"
   ]
  },
  {
   "cell_type": "code",
   "execution_count": 111,
   "metadata": {},
   "outputs": [],
   "source": [
    "airlines = df2.groupby('Carrier')"
   ]
  },
  {
   "cell_type": "code",
   "execution_count": 112,
   "metadata": {
    "scrolled": true
   },
   "outputs": [],
   "source": [
    "#Most punctual airlines at Departure\n",
    "#departure_best = airlines['DepDelayMin'].mean().sort_values(ascending=True).head(10)\n",
    "#arrival_best = airlines['ArrDelayMin'].mean().sort_values(ascending=True).head(10)\n",
    "#punctual_airlines = airlines['DepDelayMin','ArrDelayMin'].mean().sort_values(ascending=True).head(10)"
   ]
  },
  {
   "cell_type": "code",
   "execution_count": 148,
   "metadata": {},
   "outputs": [
    {
     "data": {
      "text/plain": [
       "14"
      ]
     },
     "execution_count": 148,
     "metadata": {},
     "output_type": "execute_result"
    }
   ],
   "source": [
    "#How many airlines do we have?\n",
    "airlines['Carrier'].unique().count()"
   ]
  },
  {
   "cell_type": "code",
   "execution_count": 113,
   "metadata": {},
   "outputs": [
    {
     "data": {
      "text/plain": [
       "Carrier\n",
       "HA     1.310065\n",
       "AS     3.178209\n",
       "US     5.197315\n",
       "DL     5.904238\n",
       "VX     6.910772\n",
       "WN     9.514470\n",
       "EV     9.752522\n",
       "B6    10.035556\n",
       "AA    10.593542\n",
       "OO    12.155157\n",
       "Name: DepDelayMin, dtype: float64"
      ]
     },
     "execution_count": 113,
     "metadata": {},
     "output_type": "execute_result"
    }
   ],
   "source": [
    "airlines['DepDelayMin'].mean().sort_values(ascending=True).head(10)"
   ]
  },
  {
   "cell_type": "code",
   "execution_count": 125,
   "metadata": {},
   "outputs": [
    {
     "data": {
      "text/html": [
       "<div>\n",
       "<style scoped>\n",
       "    .dataframe tbody tr th:only-of-type {\n",
       "        vertical-align: middle;\n",
       "    }\n",
       "\n",
       "    .dataframe tbody tr th {\n",
       "        vertical-align: top;\n",
       "    }\n",
       "\n",
       "    .dataframe thead th {\n",
       "        text-align: right;\n",
       "    }\n",
       "</style>\n",
       "<table border=\"1\" class=\"dataframe\">\n",
       "  <thead>\n",
       "    <tr style=\"text-align: right;\">\n",
       "      <th></th>\n",
       "      <th>DepDelayMin</th>\n",
       "      <th>ArrDelayMin</th>\n",
       "    </tr>\n",
       "    <tr>\n",
       "      <th>Carrier</th>\n",
       "      <th></th>\n",
       "      <th></th>\n",
       "    </tr>\n",
       "  </thead>\n",
       "  <tbody>\n",
       "    <tr>\n",
       "      <th>HA</th>\n",
       "      <td>1.310065</td>\n",
       "      <td>3.512640</td>\n",
       "    </tr>\n",
       "    <tr>\n",
       "      <th>AS</th>\n",
       "      <td>3.178209</td>\n",
       "      <td>-0.320888</td>\n",
       "    </tr>\n",
       "    <tr>\n",
       "      <th>US</th>\n",
       "      <td>5.197315</td>\n",
       "      <td>3.107457</td>\n",
       "    </tr>\n",
       "    <tr>\n",
       "      <th>DL</th>\n",
       "      <td>5.904238</td>\n",
       "      <td>-2.043847</td>\n",
       "    </tr>\n",
       "    <tr>\n",
       "      <th>VX</th>\n",
       "      <td>6.910772</td>\n",
       "      <td>1.420702</td>\n",
       "    </tr>\n",
       "    <tr>\n",
       "      <th>WN</th>\n",
       "      <td>9.514470</td>\n",
       "      <td>3.389466</td>\n",
       "    </tr>\n",
       "    <tr>\n",
       "      <th>EV</th>\n",
       "      <td>9.752522</td>\n",
       "      <td>8.537497</td>\n",
       "    </tr>\n",
       "    <tr>\n",
       "      <th>B6</th>\n",
       "      <td>10.035556</td>\n",
       "      <td>7.347281</td>\n",
       "    </tr>\n",
       "    <tr>\n",
       "      <th>AA</th>\n",
       "      <td>10.593542</td>\n",
       "      <td>6.955843</td>\n",
       "    </tr>\n",
       "    <tr>\n",
       "      <th>OO</th>\n",
       "      <td>12.155157</td>\n",
       "      <td>10.889894</td>\n",
       "    </tr>\n",
       "  </tbody>\n",
       "</table>\n",
       "</div>"
      ],
      "text/plain": [
       "         DepDelayMin  ArrDelayMin\n",
       "Carrier                          \n",
       "HA          1.310065     3.512640\n",
       "AS          3.178209    -0.320888\n",
       "US          5.197315     3.107457\n",
       "DL          5.904238    -2.043847\n",
       "VX          6.910772     1.420702\n",
       "WN          9.514470     3.389466\n",
       "EV          9.752522     8.537497\n",
       "B6         10.035556     7.347281\n",
       "AA         10.593542     6.955843\n",
       "OO         12.155157    10.889894"
      ]
     },
     "execution_count": 125,
     "metadata": {},
     "output_type": "execute_result"
    }
   ],
   "source": [
    "punctual_airlines = airlines['DepDelayMin','ArrDelayMin'].mean()\\\n",
    "    .sort_values(by=['DepDelayMin','ArrDelayMin'], ascending=True)\n",
    "punctual_airlines.head(10)"
   ]
  },
  {
   "cell_type": "code",
   "execution_count": 141,
   "metadata": {},
   "outputs": [
    {
     "data": {
      "text/plain": [
       "<matplotlib.axes._subplots.AxesSubplot at 0x21edf5f02b0>"
      ]
     },
     "execution_count": 141,
     "metadata": {},
     "output_type": "execute_result"
    },
    {
     "data": {
      "image/png": "[encoded data removed]",
      "text/plain": [
       "<Figure size 432x288 with 1 Axes>"
      ]
     },
     "metadata": {
      "needs_background": "light"
     },
     "output_type": "display_data"
    }
   ],
   "source": [
    "punctual_airlines.plot()"
   ]
  },
  {
   "cell_type": "code",
   "execution_count": 85,
   "metadata": {
    "scrolled": true
   },
   "outputs": [
    {
     "data": {
      "text/plain": [
       "Carrier\n",
       "DL   -2.043847\n",
       "AS   -0.320888\n",
       "VX    1.420702\n",
       "US    3.107457\n",
       "WN    3.389466\n",
       "HA    3.512640\n",
       "UA    6.352729\n",
       "AA    6.955843\n",
       "B6    7.347281\n",
       "EV    8.537497\n",
       "Name: ArrDelayMin, dtype: float64"
      ]
     },
     "execution_count": 85,
     "metadata": {},
     "output_type": "execute_result"
    }
   ],
   "source": [
    "#Most punctual airlines at Arrival\n",
    "airlines['ArrDelayMin'].mean().sort_values(ascending=True).head(10)"
   ]
  },
  {
   "cell_type": "code",
   "execution_count": 116,
   "metadata": {
    "scrolled": true
   },
   "outputs": [
    {
     "data": {
      "text/html": [
       "<div>\n",
       "<style scoped>\n",
       "    .dataframe tbody tr th:only-of-type {\n",
       "        vertical-align: middle;\n",
       "    }\n",
       "\n",
       "    .dataframe tbody tr th {\n",
       "        vertical-align: top;\n",
       "    }\n",
       "\n",
       "    .dataframe thead th {\n",
       "        text-align: right;\n",
       "    }\n",
       "</style>\n",
       "<table border=\"1\" class=\"dataframe\">\n",
       "  <thead>\n",
       "    <tr style=\"text-align: right;\">\n",
       "      <th></th>\n",
       "      <th>DepDelayMin</th>\n",
       "      <th>ArrDelayMin</th>\n",
       "    </tr>\n",
       "    <tr>\n",
       "      <th>Carrier</th>\n",
       "      <th></th>\n",
       "      <th></th>\n",
       "    </tr>\n",
       "  </thead>\n",
       "  <tbody>\n",
       "    <tr>\n",
       "      <th>F9</th>\n",
       "      <td>17.984433</td>\n",
       "      <td>18.357238</td>\n",
       "    </tr>\n",
       "    <tr>\n",
       "      <th>MQ</th>\n",
       "      <td>16.081207</td>\n",
       "      <td>18.164974</td>\n",
       "    </tr>\n",
       "    <tr>\n",
       "      <th>UA</th>\n",
       "      <td>14.010359</td>\n",
       "      <td>6.352729</td>\n",
       "    </tr>\n",
       "    <tr>\n",
       "      <th>NK</th>\n",
       "      <td>13.146294</td>\n",
       "      <td>11.398054</td>\n",
       "    </tr>\n",
       "    <tr>\n",
       "      <th>OO</th>\n",
       "      <td>12.155157</td>\n",
       "      <td>10.889894</td>\n",
       "    </tr>\n",
       "    <tr>\n",
       "      <th>AA</th>\n",
       "      <td>10.593542</td>\n",
       "      <td>6.955843</td>\n",
       "    </tr>\n",
       "    <tr>\n",
       "      <th>B6</th>\n",
       "      <td>10.035556</td>\n",
       "      <td>7.347281</td>\n",
       "    </tr>\n",
       "    <tr>\n",
       "      <th>EV</th>\n",
       "      <td>9.752522</td>\n",
       "      <td>8.537497</td>\n",
       "    </tr>\n",
       "    <tr>\n",
       "      <th>WN</th>\n",
       "      <td>9.514470</td>\n",
       "      <td>3.389466</td>\n",
       "    </tr>\n",
       "    <tr>\n",
       "      <th>VX</th>\n",
       "      <td>6.910772</td>\n",
       "      <td>1.420702</td>\n",
       "    </tr>\n",
       "  </tbody>\n",
       "</table>\n",
       "</div>"
      ],
      "text/plain": [
       "         DepDelayMin  ArrDelayMin\n",
       "Carrier                          \n",
       "F9         17.984433    18.357238\n",
       "MQ         16.081207    18.164974\n",
       "UA         14.010359     6.352729\n",
       "NK         13.146294    11.398054\n",
       "OO         12.155157    10.889894\n",
       "AA         10.593542     6.955843\n",
       "B6         10.035556     7.347281\n",
       "EV          9.752522     8.537497\n",
       "WN          9.514470     3.389466\n",
       "VX          6.910772     1.420702"
      ]
     },
     "execution_count": 116,
     "metadata": {},
     "output_type": "execute_result"
    }
   ],
   "source": [
    "#Most Delayed airlines\n",
    "most_delayed_airlines = airlines['DepDelayMin','ArrDelayMin'].mean()\\\n",
    "    .sort_values(by=['DepDelayMin','ArrDelayMin'], ascending=False)\n",
    "most_delayed_airlines.head(10)"
   ]
  },
  {
   "cell_type": "code",
   "execution_count": 146,
   "metadata": {},
   "outputs": [
    {
     "data": {
      "text/plain": [
       "<matplotlib.axes._subplots.AxesSubplot at 0x21ee29c30f0>"
      ]
     },
     "execution_count": 146,
     "metadata": {},
     "output_type": "execute_result"
    },
    {
     "data": {
      "image/png": "[encoded data removed]",
      "text/plain": [
       "<Figure size 432x288 with 1 Axes>"
      ]
     },
     "metadata": {
      "needs_background": "light"
     },
     "output_type": "display_data"
    }
   ],
   "source": [
    "most_delayed_airlines.plot()"
   ]
  },
  {
   "cell_type": "markdown",
   "metadata": {},
   "source": [
    "Let's see which are the most delayed Routes:"
   ]
  },
  {
   "cell_type": "code",
   "execution_count": 136,
   "metadata": {},
   "outputs": [],
   "source": [
    "#Most Delayed Flights\n",
    "flights_most_delayed = df2.groupby(['Carrier','FlightNum','Origin_IATA','Dest_IATA'])"
   ]
  },
  {
   "cell_type": "code",
   "execution_count": null,
   "metadata": {},
   "outputs": [],
   "source": []
  },
  {
   "cell_type": "code",
   "execution_count": null,
   "metadata": {},
   "outputs": [],
   "source": []
  },
  {
   "cell_type": "code",
   "execution_count": null,
   "metadata": {},
   "outputs": [],
   "source": []
  },
  {
   "cell_type": "code",
   "execution_count": 58,
   "metadata": {
    "scrolled": false
   },
   "outputs": [
    {
     "data": {
      "text/plain": [
       "Origin_IATA\n",
       "DVL    35.627907\n",
       "JMS    34.322581\n",
       "IMT    32.381818\n",
       "OTH    30.375000\n",
       "CEC    28.881356\n",
       "Name: DepDelayMin, dtype: float64"
      ]
     },
     "execution_count": 58,
     "metadata": {},
     "output_type": "execute_result"
    }
   ],
   "source": [
    "airports_maxdelay_4 = df2.groupby('Origin_IATA')\n",
    "airports_maxdelay_4['DepDelayMin'].mean().sort_values(ascending = False).head()"
   ]
  },
  {
   "cell_type": "code",
   "execution_count": 51,
   "metadata": {},
   "outputs": [
    {
     "data": {
      "text/plain": [
       "Origin_IATA\n",
       "ORD    447649.0\n",
       "DFW    266358.0\n",
       "DEN    261181.0\n",
       "ATL    212578.0\n",
       "SFO    130279.0\n",
       "Name: DepDelayMin, dtype: float64"
      ]
     },
     "execution_count": 51,
     "metadata": {},
     "output_type": "execute_result"
    }
   ],
   "source": [
    "airports_maxdelay_4['DepDelayMin'].sum().sort_values(ascending = False).head()"
   ]
  },
  {
   "cell_type": "code",
   "execution_count": 77,
   "metadata": {},
   "outputs": [
    {
     "data": {
      "text/plain": [
       "ATL    29512\n",
       "ORD    23484\n",
       "DFW    23153\n",
       "LAX    17340\n",
       "DEN    17090\n",
       "Name: Origin_IATA, dtype: int64"
      ]
     },
     "execution_count": 77,
     "metadata": {},
     "output_type": "execute_result"
    }
   ],
   "source": [
    "df2['Origin_IATA'].value_counts().sort_values(ascending = False).head()"
   ]
  },
  {
   "cell_type": "code",
   "execution_count": null,
   "metadata": {},
   "outputs": [],
   "source": []
  },
  {
   "cell_type": "code",
   "execution_count": null,
   "metadata": {},
   "outputs": [],
   "source": []
  },
  {
   "cell_type": "code",
   "execution_count": null,
   "metadata": {},
   "outputs": [],
   "source": []
  },
  {
   "cell_type": "code",
   "execution_count": null,
   "metadata": {},
   "outputs": [],
   "source": []
  },
  {
   "cell_type": "code",
   "execution_count": null,
   "metadata": {},
   "outputs": [],
   "source": []
  },
  {
   "cell_type": "code",
   "execution_count": null,
   "metadata": {},
   "outputs": [],
   "source": []
  },
  {
   "cell_type": "code",
   "execution_count": null,
   "metadata": {},
   "outputs": [],
   "source": []
  },
  {
   "cell_type": "code",
   "execution_count": null,
   "metadata": {},
   "outputs": [],
   "source": []
  },
  {
   "cell_type": "code",
   "execution_count": null,
   "metadata": {},
   "outputs": [],
   "source": []
  },
  {
   "cell_type": "code",
   "execution_count": null,
   "metadata": {},
   "outputs": [],
   "source": []
  },
  {
   "cell_type": "code",
   "execution_count": null,
   "metadata": {},
   "outputs": [],
   "source": []
  },
  {
   "cell_type": "code",
   "execution_count": null,
   "metadata": {},
   "outputs": [],
   "source": []
  },
  {
   "cell_type": "code",
   "execution_count": 58,
   "metadata": {},
   "outputs": [
    {
     "data": {
      "text/plain": [
       "265015   -48.0\n",
       "165979   -47.0\n",
       "162809   -42.0\n",
       "163882   -42.0\n",
       "254528   -42.0\n",
       "251864   -41.0\n",
       "162807   -40.0\n",
       "312410   -40.0\n",
       "161714   -39.0\n",
       "266453   -39.0\n",
       "315025   -38.0\n",
       "165024   -37.0\n",
       "289292   -37.0\n",
       "289302   -37.0\n",
       "289311   -36.0\n",
       "164807   -35.0\n",
       "166035   -35.0\n",
       "289310   -35.0\n",
       "164833   -34.0\n",
       "64831    -33.0\n",
       "251863   -33.0\n",
       "251867   -33.0\n",
       "251870   -33.0\n",
       "289296   -33.0\n",
       "78647    -32.0\n",
       "163884   -32.0\n",
       "257142   -32.0\n",
       "279595   -32.0\n",
       "26687    -31.0\n",
       "85545    -31.0\n",
       "253713   -31.0\n",
       "160251   -30.0\n",
       "161334   -30.0\n",
       "27213    -29.0\n",
       "87742    -29.0\n",
       "135646   -29.0\n",
       "159597   -29.0\n",
       "170158   -29.0\n",
       "171024   -29.0\n",
       "97363    -28.0\n",
       "Name: DepDelayMin, dtype: float64"
      ]
     },
     "execution_count": 58,
     "metadata": {},
     "output_type": "execute_result"
    }
   ],
   "source": [
    "df2.nsmallest(40, ['DepDelayMin'])['DepDelayMin']"
   ]
  },
  {
   "cell_type": "code",
   "execution_count": 52,
   "metadata": {},
   "outputs": [
    {
     "data": {
      "text/html": [
       "<div>\n",
       "<style scoped>\n",
       "    .dataframe tbody tr th:only-of-type {\n",
       "        vertical-align: middle;\n",
       "    }\n",
       "\n",
       "    .dataframe tbody tr th {\n",
       "        vertical-align: top;\n",
       "    }\n",
       "\n",
       "    .dataframe thead th {\n",
       "        text-align: right;\n",
       "    }\n",
       "</style>\n",
       "<table border=\"1\" class=\"dataframe\">\n",
       "  <thead>\n",
       "    <tr style=\"text-align: right;\">\n",
       "      <th></th>\n",
       "      <th>Year</th>\n",
       "      <th>Quarter</th>\n",
       "      <th>Month</th>\n",
       "      <th>DayOfMonth</th>\n",
       "      <th>DayOfWeek</th>\n",
       "      <th>UniqueCarrier</th>\n",
       "      <th>Carrier</th>\n",
       "      <th>RegistrationNum</th>\n",
       "      <th>FlightNum</th>\n",
       "      <th>OriginAirport_IDNum</th>\n",
       "      <th>...</th>\n",
       "      <th>Cancelled</th>\n",
       "      <th>Diverted</th>\n",
       "      <th>CRSElapsedTimeMin</th>\n",
       "      <th>ActualElapsedTimeMin</th>\n",
       "      <th>FlightTimeMin</th>\n",
       "      <th>NumberOfFlights</th>\n",
       "      <th>DistanceMil</th>\n",
       "      <th>Distance_Int250Mil</th>\n",
       "      <th>DepDateTime</th>\n",
       "      <th>ArrDateTime</th>\n",
       "    </tr>\n",
       "  </thead>\n",
       "  <tbody>\n",
       "    <tr>\n",
       "      <th>265015</th>\n",
       "      <td>2015</td>\n",
       "      <td>1</td>\n",
       "      <td>1</td>\n",
       "      <td>27</td>\n",
       "      <td>2</td>\n",
       "      <td>OO</td>\n",
       "      <td>OO</td>\n",
       "      <td>N443SW</td>\n",
       "      <td>4718</td>\n",
       "      <td>14696</td>\n",
       "      <td>...</td>\n",
       "      <td>0.0</td>\n",
       "      <td>0.0</td>\n",
       "      <td>109.0</td>\n",
       "      <td>129.0</td>\n",
       "      <td>73.0</td>\n",
       "      <td>1.0</td>\n",
       "      <td>411.0</td>\n",
       "      <td>2</td>\n",
       "      <td>2015-01-27 06:47:00</td>\n",
       "      <td>2015-01-27 07:56:00</td>\n",
       "    </tr>\n",
       "    <tr>\n",
       "      <th>165979</th>\n",
       "      <td>2015</td>\n",
       "      <td>1</td>\n",
       "      <td>1</td>\n",
       "      <td>18</td>\n",
       "      <td>7</td>\n",
       "      <td>AS</td>\n",
       "      <td>AS</td>\n",
       "      <td>N788AS</td>\n",
       "      <td>66</td>\n",
       "      <td>15991</td>\n",
       "      <td>...</td>\n",
       "      <td>0.0</td>\n",
       "      <td>0.0</td>\n",
       "      <td>55.0</td>\n",
       "      <td>51.0</td>\n",
       "      <td>38.0</td>\n",
       "      <td>1.0</td>\n",
       "      <td>199.0</td>\n",
       "      <td>1</td>\n",
       "      <td>2015-01-18 17:43:00</td>\n",
       "      <td>2015-01-18 18:34:00</td>\n",
       "    </tr>\n",
       "    <tr>\n",
       "      <th>162809</th>\n",
       "      <td>2015</td>\n",
       "      <td>1</td>\n",
       "      <td>1</td>\n",
       "      <td>9</td>\n",
       "      <td>5</td>\n",
       "      <td>AS</td>\n",
       "      <td>AS</td>\n",
       "      <td>N705AS</td>\n",
       "      <td>66</td>\n",
       "      <td>15991</td>\n",
       "      <td>...</td>\n",
       "      <td>0.0</td>\n",
       "      <td>0.0</td>\n",
       "      <td>49.0</td>\n",
       "      <td>51.0</td>\n",
       "      <td>36.0</td>\n",
       "      <td>1.0</td>\n",
       "      <td>199.0</td>\n",
       "      <td>1</td>\n",
       "      <td>2015-01-09 17:48:00</td>\n",
       "      <td>2015-01-09 18:39:00</td>\n",
       "    </tr>\n",
       "    <tr>\n",
       "      <th>163882</th>\n",
       "      <td>2015</td>\n",
       "      <td>1</td>\n",
       "      <td>1</td>\n",
       "      <td>13</td>\n",
       "      <td>2</td>\n",
       "      <td>AS</td>\n",
       "      <td>AS</td>\n",
       "      <td>N756AS</td>\n",
       "      <td>66</td>\n",
       "      <td>10926</td>\n",
       "      <td>...</td>\n",
       "      <td>0.0</td>\n",
       "      <td>0.0</td>\n",
       "      <td>48.0</td>\n",
       "      <td>58.0</td>\n",
       "      <td>35.0</td>\n",
       "      <td>1.0</td>\n",
       "      <td>213.0</td>\n",
       "      <td>1</td>\n",
       "      <td>2015-01-13 16:20:00</td>\n",
       "      <td>2015-01-13 17:18:00</td>\n",
       "    </tr>\n",
       "    <tr>\n",
       "      <th>254528</th>\n",
       "      <td>2015</td>\n",
       "      <td>1</td>\n",
       "      <td>1</td>\n",
       "      <td>18</td>\n",
       "      <td>7</td>\n",
       "      <td>OO</td>\n",
       "      <td>OO</td>\n",
       "      <td>N225AG</td>\n",
       "      <td>3499</td>\n",
       "      <td>14869</td>\n",
       "      <td>...</td>\n",
       "      <td>0.0</td>\n",
       "      <td>0.0</td>\n",
       "      <td>115.0</td>\n",
       "      <td>160.0</td>\n",
       "      <td>103.0</td>\n",
       "      <td>1.0</td>\n",
       "      <td>630.0</td>\n",
       "      <td>3</td>\n",
       "      <td>2015-01-18 07:18:00</td>\n",
       "      <td>2015-01-18 08:58:00</td>\n",
       "    </tr>\n",
       "  </tbody>\n",
       "</table>\n",
       "<p>5 rows × 43 columns</p>\n",
       "</div>"
      ],
      "text/plain": [
       "        Year  Quarter  Month  DayOfMonth  DayOfWeek UniqueCarrier Carrier  \\\n",
       "265015  2015        1      1          27          2            OO      OO   \n",
       "165979  2015        1      1          18          7            AS      AS   \n",
       "162809  2015        1      1           9          5            AS      AS   \n",
       "163882  2015        1      1          13          2            AS      AS   \n",
       "254528  2015        1      1          18          7            OO      OO   \n",
       "\n",
       "       RegistrationNum  FlightNum  OriginAirport_IDNum         ...          \\\n",
       "265015          N443SW       4718                14696         ...           \n",
       "165979          N788AS         66                15991         ...           \n",
       "162809          N705AS         66                15991         ...           \n",
       "163882          N756AS         66                10926         ...           \n",
       "254528          N225AG       3499                14869         ...           \n",
       "\n",
       "        Cancelled Diverted CRSElapsedTimeMin ActualElapsedTimeMin  \\\n",
       "265015        0.0      0.0             109.0                129.0   \n",
       "165979        0.0      0.0              55.0                 51.0   \n",
       "162809        0.0      0.0              49.0                 51.0   \n",
       "163882        0.0      0.0              48.0                 58.0   \n",
       "254528        0.0      0.0             115.0                160.0   \n",
       "\n",
       "       FlightTimeMin  NumberOfFlights  DistanceMil  Distance_Int250Mil  \\\n",
       "265015          73.0              1.0        411.0                   2   \n",
       "165979          38.0              1.0        199.0                   1   \n",
       "162809          36.0              1.0        199.0                   1   \n",
       "163882          35.0              1.0        213.0                   1   \n",
       "254528         103.0              1.0        630.0                   3   \n",
       "\n",
       "               DepDateTime         ArrDateTime  \n",
       "265015 2015-01-27 06:47:00 2015-01-27 07:56:00  \n",
       "165979 2015-01-18 17:43:00 2015-01-18 18:34:00  \n",
       "162809 2015-01-09 17:48:00 2015-01-09 18:39:00  \n",
       "163882 2015-01-13 16:20:00 2015-01-13 17:18:00  \n",
       "254528 2015-01-18 07:18:00 2015-01-18 08:58:00  \n",
       "\n",
       "[5 rows x 43 columns]"
      ]
     },
     "execution_count": 52,
     "metadata": {},
     "output_type": "execute_result"
    }
   ],
   "source": [
    "df2.nsmallest(5, ['DepDelayMin'])"
   ]
  },
  {
   "cell_type": "code",
   "execution_count": null,
   "metadata": {},
   "outputs": [],
   "source": []
  },
  {
   "cell_type": "code",
   "execution_count": null,
   "metadata": {},
   "outputs": [],
   "source": []
  },
  {
   "cell_type": "code",
   "execution_count": null,
   "metadata": {},
   "outputs": [],
   "source": []
  },
  {
   "cell_type": "code",
   "execution_count": null,
   "metadata": {},
   "outputs": [],
   "source": []
  },
  {
   "cell_type": "code",
   "execution_count": null,
   "metadata": {},
   "outputs": [],
   "source": []
  },
  {
   "cell_type": "code",
   "execution_count": null,
   "metadata": {},
   "outputs": [],
   "source": []
  },
  {
   "cell_type": "code",
   "execution_count": null,
   "metadata": {},
   "outputs": [],
   "source": []
  },
  {
   "cell_type": "code",
   "execution_count": null,
   "metadata": {},
   "outputs": [],
   "source": []
  },
  {
   "cell_type": "code",
   "execution_count": null,
   "metadata": {},
   "outputs": [],
   "source": []
  },
  {
   "cell_type": "code",
   "execution_count": null,
   "metadata": {},
   "outputs": [],
   "source": []
  },
  {
   "cell_type": "code",
   "execution_count": null,
   "metadata": {},
   "outputs": [],
   "source": []
  },
  {
   "cell_type": "code",
   "execution_count": null,
   "metadata": {},
   "outputs": [],
   "source": []
  },
  {
   "cell_type": "code",
   "execution_count": null,
   "metadata": {},
   "outputs": [],
   "source": []
  },
  {
   "cell_type": "code",
   "execution_count": null,
   "metadata": {},
   "outputs": [],
   "source": []
  },
  {
   "cell_type": "code",
   "execution_count": null,
   "metadata": {},
   "outputs": [],
   "source": []
  },
  {
   "cell_type": "code",
   "execution_count": null,
   "metadata": {},
   "outputs": [],
   "source": []
  },
  {
   "cell_type": "code",
   "execution_count": null,
   "metadata": {},
   "outputs": [],
   "source": []
  },
  {
   "cell_type": "code",
   "execution_count": null,
   "metadata": {},
   "outputs": [],
   "source": []
  },
  {
   "cell_type": "code",
   "execution_count": null,
   "metadata": {},
   "outputs": [],
   "source": []
  },
  {
   "cell_type": "code",
   "execution_count": null,
   "metadata": {},
   "outputs": [],
   "source": []
  },
  {
   "cell_type": "code",
   "execution_count": null,
   "metadata": {},
   "outputs": [],
   "source": []
  },
  {
   "cell_type": "code",
   "execution_count": null,
   "metadata": {},
   "outputs": [],
   "source": []
  },
  {
   "cell_type": "code",
   "execution_count": null,
   "metadata": {},
   "outputs": [],
   "source": []
  },
  {
   "cell_type": "code",
   "execution_count": null,
   "metadata": {},
   "outputs": [],
   "source": []
  },
  {
   "cell_type": "code",
   "execution_count": 125,
   "metadata": {
    "scrolled": true
   },
   "outputs": [
    {
     "data": {
      "text/plain": [
       "Year                        int64\n",
       "Quarter                     int64\n",
       "Month                       int64\n",
       "DayOfMonth                  int64\n",
       "DayOfWeek                   int64\n",
       "FlightDate                 object\n",
       "UniqueCarrier              object\n",
       "Carrier                    object\n",
       "RegistrationNum            object\n",
       "FlightNum                   int64\n",
       "OriginAirport_IDNum         int64\n",
       "OriginCityMarket_IDNum      int64\n",
       "Origin_IATA                object\n",
       "OriginCityName             object\n",
       "OriginState_ID             object\n",
       "OriginStateName            object\n",
       "OriginWAC                   int64\n",
       "DestAirport_IDNum           int64\n",
       "DestCityMarket_IDNum        int64\n",
       "Dest_IATA                  object\n",
       "DestCityName               object\n",
       "DestState_ID               object\n",
       "DestStateName              object\n",
       "DestWAC                     int64\n",
       "CRSDepTime                  int64\n",
       "DepTime                   float64\n",
       "DepDelayMin               float64\n",
       "DepDelayMin0              float64\n",
       "DepDelay_Ind15            float64\n",
       "DepDelayGroup_Int15       float64\n",
       "CRSArrTime                  int64\n",
       "ArrTime                   float64\n",
       "ArrDelayMin               float64\n",
       "DepDelayMin0              float64\n",
       "ArrDelay_Ind15            float64\n",
       "ArrDelayGroup_Int15       float64\n",
       "Cancelled                 float64\n",
       "CancellationCode           object\n",
       "Diverted                  float64\n",
       "CRSElapsedTimeMin         float64\n",
       "ActualElapsedTimeMin      float64\n",
       "FlightTimeMin             float64\n",
       "NumberOfFlights           float64\n",
       "DistanceMil               float64\n",
       "Distance_Int250Mil          int64\n",
       "CarrierDelayMin           float64\n",
       "WeatherDelayMin           float64\n",
       "NASDelayMin               float64\n",
       "SecurityDelayMin          float64\n",
       "LateAircraftDelay         float64\n",
       "Unnamed: 50               float64\n",
       "dtype: object"
      ]
     },
     "execution_count": 125,
     "metadata": {},
     "output_type": "execute_result"
    }
   ],
   "source": [
    "df.dtypes"
   ]
  },
  {
   "cell_type": "code",
   "execution_count": 126,
   "metadata": {
    "scrolled": true
   },
   "outputs": [
    {
     "ename": "KeyError",
     "evalue": "\"['YEAR' 'FL_DATE' 'ORIGIN_AIRPORT_ID' 'ORIGIN' 'DEST_AIRPORT_ID' 'DEST'\\n 'DEP_DELAY' 'ARR_DELAY' 'CANCELLED'] not in index\"",
     "output_type": "error",
     "traceback": [
      "\u001b[1;31m---------------------------------------------------------------------------\u001b[0m",
      "\u001b[1;31mKeyError\u001b[0m                                  Traceback (most recent call last)",
      "\u001b[1;32m<ipython-input-126-68bbb7de0688>\u001b[0m in \u001b[0;36m<module>\u001b[1;34m\u001b[0m\n\u001b[1;32m----> 1\u001b[1;33m \u001b[0mdf_flights_list\u001b[0m \u001b[1;33m=\u001b[0m \u001b[0mdf\u001b[0m\u001b[1;33m[\u001b[0m\u001b[1;33m[\u001b[0m\u001b[1;34m'YEAR'\u001b[0m\u001b[1;33m,\u001b[0m \u001b[1;34m'FL_DATE'\u001b[0m\u001b[1;33m,\u001b[0m \u001b[1;34m'ORIGIN_AIRPORT_ID'\u001b[0m\u001b[1;33m,\u001b[0m \u001b[1;34m'ORIGIN'\u001b[0m\u001b[1;33m,\u001b[0m \u001b[1;34m'DEST_AIRPORT_ID'\u001b[0m\u001b[1;33m,\u001b[0m \u001b[1;34m'DEST'\u001b[0m\u001b[1;33m,\u001b[0m \u001b[1;34m'DEP_DELAY'\u001b[0m\u001b[1;33m,\u001b[0m \u001b[1;34m'ARR_DELAY'\u001b[0m\u001b[1;33m,\u001b[0m \u001b[1;34m'CANCELLED'\u001b[0m\u001b[1;33m]\u001b[0m\u001b[1;33m]\u001b[0m\u001b[1;33m\u001b[0m\u001b[1;33m\u001b[0m\u001b[0m\n\u001b[0m\u001b[0;32m      2\u001b[0m \u001b[0mdf_flights_list\u001b[0m\u001b[1;33m.\u001b[0m\u001b[0mhead\u001b[0m\u001b[1;33m(\u001b[0m\u001b[1;36m10\u001b[0m\u001b[1;33m)\u001b[0m\u001b[1;33m\u001b[0m\u001b[1;33m\u001b[0m\u001b[0m\n",
      "\u001b[1;32m~\\Anaconda3\\lib\\site-packages\\pandas\\core\\frame.py\u001b[0m in \u001b[0;36m__getitem__\u001b[1;34m(self, key)\u001b[0m\n\u001b[0;32m   2680\u001b[0m         \u001b[1;32mif\u001b[0m \u001b[0misinstance\u001b[0m\u001b[1;33m(\u001b[0m\u001b[0mkey\u001b[0m\u001b[1;33m,\u001b[0m \u001b[1;33m(\u001b[0m\u001b[0mSeries\u001b[0m\u001b[1;33m,\u001b[0m \u001b[0mnp\u001b[0m\u001b[1;33m.\u001b[0m\u001b[0mndarray\u001b[0m\u001b[1;33m,\u001b[0m \u001b[0mIndex\u001b[0m\u001b[1;33m,\u001b[0m \u001b[0mlist\u001b[0m\u001b[1;33m)\u001b[0m\u001b[1;33m)\u001b[0m\u001b[1;33m:\u001b[0m\u001b[1;33m\u001b[0m\u001b[1;33m\u001b[0m\u001b[0m\n\u001b[0;32m   2681\u001b[0m             \u001b[1;31m# either boolean or fancy integer index\u001b[0m\u001b[1;33m\u001b[0m\u001b[1;33m\u001b[0m\u001b[1;33m\u001b[0m\u001b[0m\n\u001b[1;32m-> 2682\u001b[1;33m             \u001b[1;32mreturn\u001b[0m \u001b[0mself\u001b[0m\u001b[1;33m.\u001b[0m\u001b[0m_getitem_array\u001b[0m\u001b[1;33m(\u001b[0m\u001b[0mkey\u001b[0m\u001b[1;33m)\u001b[0m\u001b[1;33m\u001b[0m\u001b[1;33m\u001b[0m\u001b[0m\n\u001b[0m\u001b[0;32m   2683\u001b[0m         \u001b[1;32melif\u001b[0m \u001b[0misinstance\u001b[0m\u001b[1;33m(\u001b[0m\u001b[0mkey\u001b[0m\u001b[1;33m,\u001b[0m \u001b[0mDataFrame\u001b[0m\u001b[1;33m)\u001b[0m\u001b[1;33m:\u001b[0m\u001b[1;33m\u001b[0m\u001b[1;33m\u001b[0m\u001b[0m\n\u001b[0;32m   2684\u001b[0m             \u001b[1;32mreturn\u001b[0m \u001b[0mself\u001b[0m\u001b[1;33m.\u001b[0m\u001b[0m_getitem_frame\u001b[0m\u001b[1;33m(\u001b[0m\u001b[0mkey\u001b[0m\u001b[1;33m)\u001b[0m\u001b[1;33m\u001b[0m\u001b[1;33m\u001b[0m\u001b[0m\n",
      "\u001b[1;32m~\\Anaconda3\\lib\\site-packages\\pandas\\core\\frame.py\u001b[0m in \u001b[0;36m_getitem_array\u001b[1;34m(self, key)\u001b[0m\n\u001b[0;32m   2724\u001b[0m             \u001b[1;32mreturn\u001b[0m \u001b[0mself\u001b[0m\u001b[1;33m.\u001b[0m\u001b[0m_take\u001b[0m\u001b[1;33m(\u001b[0m\u001b[0mindexer\u001b[0m\u001b[1;33m,\u001b[0m \u001b[0maxis\u001b[0m\u001b[1;33m=\u001b[0m\u001b[1;36m0\u001b[0m\u001b[1;33m)\u001b[0m\u001b[1;33m\u001b[0m\u001b[1;33m\u001b[0m\u001b[0m\n\u001b[0;32m   2725\u001b[0m         \u001b[1;32melse\u001b[0m\u001b[1;33m:\u001b[0m\u001b[1;33m\u001b[0m\u001b[1;33m\u001b[0m\u001b[0m\n\u001b[1;32m-> 2726\u001b[1;33m             \u001b[0mindexer\u001b[0m \u001b[1;33m=\u001b[0m \u001b[0mself\u001b[0m\u001b[1;33m.\u001b[0m\u001b[0mloc\u001b[0m\u001b[1;33m.\u001b[0m\u001b[0m_convert_to_indexer\u001b[0m\u001b[1;33m(\u001b[0m\u001b[0mkey\u001b[0m\u001b[1;33m,\u001b[0m \u001b[0maxis\u001b[0m\u001b[1;33m=\u001b[0m\u001b[1;36m1\u001b[0m\u001b[1;33m)\u001b[0m\u001b[1;33m\u001b[0m\u001b[1;33m\u001b[0m\u001b[0m\n\u001b[0m\u001b[0;32m   2727\u001b[0m             \u001b[1;32mreturn\u001b[0m \u001b[0mself\u001b[0m\u001b[1;33m.\u001b[0m\u001b[0m_take\u001b[0m\u001b[1;33m(\u001b[0m\u001b[0mindexer\u001b[0m\u001b[1;33m,\u001b[0m \u001b[0maxis\u001b[0m\u001b[1;33m=\u001b[0m\u001b[1;36m1\u001b[0m\u001b[1;33m)\u001b[0m\u001b[1;33m\u001b[0m\u001b[1;33m\u001b[0m\u001b[0m\n\u001b[0;32m   2728\u001b[0m \u001b[1;33m\u001b[0m\u001b[0m\n",
      "\u001b[1;32m~\\Anaconda3\\lib\\site-packages\\pandas\\core\\indexing.py\u001b[0m in \u001b[0;36m_convert_to_indexer\u001b[1;34m(self, obj, axis, is_setter)\u001b[0m\n\u001b[0;32m   1325\u001b[0m                 \u001b[1;32mif\u001b[0m \u001b[0mmask\u001b[0m\u001b[1;33m.\u001b[0m\u001b[0many\u001b[0m\u001b[1;33m(\u001b[0m\u001b[1;33m)\u001b[0m\u001b[1;33m:\u001b[0m\u001b[1;33m\u001b[0m\u001b[1;33m\u001b[0m\u001b[0m\n\u001b[0;32m   1326\u001b[0m                     raise KeyError('{mask} not in index'\n\u001b[1;32m-> 1327\u001b[1;33m                                    .format(mask=objarr[mask]))\n\u001b[0m\u001b[0;32m   1328\u001b[0m \u001b[1;33m\u001b[0m\u001b[0m\n\u001b[0;32m   1329\u001b[0m                 \u001b[1;32mreturn\u001b[0m \u001b[0mcom\u001b[0m\u001b[1;33m.\u001b[0m\u001b[0m_values_from_object\u001b[0m\u001b[1;33m(\u001b[0m\u001b[0mindexer\u001b[0m\u001b[1;33m)\u001b[0m\u001b[1;33m\u001b[0m\u001b[1;33m\u001b[0m\u001b[0m\n",
      "\u001b[1;31mKeyError\u001b[0m: \"['YEAR' 'FL_DATE' 'ORIGIN_AIRPORT_ID' 'ORIGIN' 'DEST_AIRPORT_ID' 'DEST'\\n 'DEP_DELAY' 'ARR_DELAY' 'CANCELLED'] not in index\""
     ]
    }
   ],
   "source": [
    "df_flights_list = df[['YEAR', 'FL_DATE', 'ORIGIN_AIRPORT_ID', 'ORIGIN', 'DEST_AIRPORT_ID', 'DEST', 'DEP_DELAY', 'ARR_DELAY', 'CANCELLED']]\n",
    "df_flights_list.head(10)"
   ]
  },
  {
   "cell_type": "code",
   "execution_count": 127,
   "metadata": {},
   "outputs": [
    {
     "ename": "NameError",
     "evalue": "name 'df_flights_list' is not defined",
     "output_type": "error",
     "traceback": [
      "\u001b[1;31m---------------------------------------------------------------------------\u001b[0m",
      "\u001b[1;31mNameError\u001b[0m                                 Traceback (most recent call last)",
      "\u001b[1;32m<ipython-input-127-e8b5b465ec08>\u001b[0m in \u001b[0;36m<module>\u001b[1;34m\u001b[0m\n\u001b[1;32m----> 1\u001b[1;33m \u001b[0mdf_flights_list\u001b[0m\u001b[1;33m.\u001b[0m\u001b[0mcorr\u001b[0m\u001b[1;33m\u001b[0m\u001b[1;33m\u001b[0m\u001b[0m\n\u001b[0m",
      "\u001b[1;31mNameError\u001b[0m: name 'df_flights_list' is not defined"
     ]
    }
   ],
   "source": [
    "df_flights_list.corr"
   ]
  },
  {
   "cell_type": "code",
   "execution_count": 128,
   "metadata": {},
   "outputs": [
    {
     "ename": "NameError",
     "evalue": "name 'df_flights_list' is not defined",
     "output_type": "error",
     "traceback": [
      "\u001b[1;31m---------------------------------------------------------------------------\u001b[0m",
      "\u001b[1;31mNameError\u001b[0m                                 Traceback (most recent call last)",
      "\u001b[1;32m<ipython-input-128-391673ba3b05>\u001b[0m in \u001b[0;36m<module>\u001b[1;34m\u001b[0m\n\u001b[1;32m----> 1\u001b[1;33m \u001b[0mmax_delay_mins\u001b[0m \u001b[1;33m=\u001b[0m \u001b[0mdf_flights_list\u001b[0m\u001b[1;33m[\u001b[0m\u001b[1;33m[\u001b[0m\u001b[1;34m'DEP_DELAY'\u001b[0m\u001b[1;33m]\u001b[0m\u001b[1;33m]\u001b[0m\u001b[1;33m.\u001b[0m\u001b[0mmax\u001b[0m\u001b[1;33m(\u001b[0m\u001b[1;33m)\u001b[0m\u001b[1;33m\u001b[0m\u001b[1;33m\u001b[0m\u001b[0m\n\u001b[0m\u001b[0;32m      2\u001b[0m \u001b[0mmax_delay_hours\u001b[0m \u001b[1;33m=\u001b[0m \u001b[0mmax_delay_mins\u001b[0m\u001b[1;33m/\u001b[0m\u001b[1;36m60\u001b[0m\u001b[1;33m\u001b[0m\u001b[1;33m\u001b[0m\u001b[0m\n\u001b[0;32m      3\u001b[0m \u001b[0mmax_delay_hours\u001b[0m\u001b[1;33m\u001b[0m\u001b[1;33m\u001b[0m\u001b[0m\n",
      "\u001b[1;31mNameError\u001b[0m: name 'df_flights_list' is not defined"
     ]
    }
   ],
   "source": [
    "max_delay_mins = df_flights_list[['DEP_DELAY']].max()\n",
    "max_delay_hours = max_delay_mins/60\n",
    "max_delay_hours"
   ]
  },
  {
   "cell_type": "code",
   "execution_count": 129,
   "metadata": {},
   "outputs": [
    {
     "ename": "NameError",
     "evalue": "name 'df_flights_list' is not defined",
     "output_type": "error",
     "traceback": [
      "\u001b[1;31m---------------------------------------------------------------------------\u001b[0m",
      "\u001b[1;31mNameError\u001b[0m                                 Traceback (most recent call last)",
      "\u001b[1;32m<ipython-input-129-f3411d4ae98d>\u001b[0m in \u001b[0;36m<module>\u001b[1;34m\u001b[0m\n\u001b[1;32m----> 1\u001b[1;33m \u001b[0mdf_flights_list\u001b[0m\u001b[1;33m.\u001b[0m\u001b[0msort_values\u001b[0m\u001b[1;33m(\u001b[0m\u001b[0mby\u001b[0m\u001b[1;33m=\u001b[0m\u001b[1;33m[\u001b[0m\u001b[1;34m'DEP_DELAY'\u001b[0m\u001b[1;33m]\u001b[0m\u001b[1;33m)\u001b[0m\u001b[1;33m\u001b[0m\u001b[1;33m\u001b[0m\u001b[0m\n\u001b[0m",
      "\u001b[1;31mNameError\u001b[0m: name 'df_flights_list' is not defined"
     ]
    }
   ],
   "source": [
    "df_flights_list.sort_values(by=['DEP_DELAY'])"
   ]
  },
  {
   "cell_type": "code",
   "execution_count": 130,
   "metadata": {},
   "outputs": [
    {
     "data": {
      "text/plain": [
       "469968"
      ]
     },
     "execution_count": 130,
     "metadata": {},
     "output_type": "execute_result"
    }
   ],
   "source": [
    "#Check Dataframe dimensions: number of rows\n",
    "len(df)"
   ]
  },
  {
   "cell_type": "code",
   "execution_count": 35,
   "metadata": {},
   "outputs": [
    {
     "data": {
      "text/html": [
       "<div>\n",
       "<style scoped>\n",
       "    .dataframe tbody tr th:only-of-type {\n",
       "        vertical-align: middle;\n",
       "    }\n",
       "\n",
       "    .dataframe tbody tr th {\n",
       "        vertical-align: top;\n",
       "    }\n",
       "\n",
       "    .dataframe thead th {\n",
       "        text-align: right;\n",
       "    }\n",
       "</style>\n",
       "<table border=\"1\" class=\"dataframe\">\n",
       "  <thead>\n",
       "    <tr style=\"text-align: right;\">\n",
       "      <th></th>\n",
       "      <th>YEAR</th>\n",
       "      <th>QUARTER</th>\n",
       "      <th>MONTH</th>\n",
       "      <th>DAY_OF_MONTH</th>\n",
       "      <th>DAY_OF_WEEK</th>\n",
       "      <th>FL_DATE</th>\n",
       "      <th>OP_UNIQUE_CARRIER</th>\n",
       "      <th>OP_CARRIER</th>\n",
       "      <th>TAIL_NUM</th>\n",
       "      <th>OP_CARRIER_FL_NUM</th>\n",
       "      <th>...</th>\n",
       "      <th>AIR_TIME</th>\n",
       "      <th>FLIGHTS</th>\n",
       "      <th>DISTANCE</th>\n",
       "      <th>DISTANCE_GROUP</th>\n",
       "      <th>CARRIER_DELAY</th>\n",
       "      <th>WEATHER_DELAY</th>\n",
       "      <th>NAS_DELAY</th>\n",
       "      <th>SECURITY_DELAY</th>\n",
       "      <th>LATE_AIRCRAFT_DELAY</th>\n",
       "      <th>Unnamed: 48</th>\n",
       "    </tr>\n",
       "  </thead>\n",
       "  <tbody>\n",
       "  </tbody>\n",
       "</table>\n",
       "<p>0 rows × 49 columns</p>\n",
       "</div>"
      ],
      "text/plain": [
       "Empty DataFrame\n",
       "Columns: [YEAR, QUARTER, MONTH, DAY_OF_MONTH, DAY_OF_WEEK, FL_DATE, OP_UNIQUE_CARRIER, OP_CARRIER, TAIL_NUM, OP_CARRIER_FL_NUM, ORIGIN_AIRPORT_ID, ORIGIN_CITY_MARKET_ID, ORIGIN, ORIGIN_STATE_ABR, ORIGIN_STATE_NM, ORIGIN_WAC, DEST_AIRPORT_ID, DEST_CITY_MARKET_ID, DEST, DEST_STATE_ABR, DEST_STATE_NM, DEST_WAC, CRS_DEP_TIME, DEP_TIME, DEP_DELAY, DEP_DELAY_NEW, DEP_DEL15, DEP_DELAY_GROUP, CRS_ARR_TIME, ARR_TIME, ARR_DELAY, ARR_DELAY_NEW, ARR_DEL15, ARR_DELAY_GROUP, CANCELLED, CANCELLATION_CODE, DIVERTED, CRS_ELAPSED_TIME, ACTUAL_ELAPSED_TIME, AIR_TIME, FLIGHTS, DISTANCE, DISTANCE_GROUP, CARRIER_DELAY, WEATHER_DELAY, NAS_DELAY, SECURITY_DELAY, LATE_AIRCRAFT_DELAY, Unnamed: 48]\n",
       "Index: []\n",
       "\n",
       "[0 rows x 49 columns]"
      ]
     },
     "execution_count": 35,
     "metadata": {},
     "output_type": "execute_result"
    }
   ],
   "source": [
    "#NaN Treatment\n",
    "df_clean = df.dropna()\n",
    "df_clean.head()"
   ]
  },
  {
   "cell_type": "code",
   "execution_count": 37,
   "metadata": {},
   "outputs": [
    {
     "data": {
      "text/html": [
       "<div>\n",
       "<style scoped>\n",
       "    .dataframe tbody tr th:only-of-type {\n",
       "        vertical-align: middle;\n",
       "    }\n",
       "\n",
       "    .dataframe tbody tr th {\n",
       "        vertical-align: top;\n",
       "    }\n",
       "\n",
       "    .dataframe thead th {\n",
       "        text-align: right;\n",
       "    }\n",
       "</style>\n",
       "<table border=\"1\" class=\"dataframe\">\n",
       "  <thead>\n",
       "    <tr style=\"text-align: right;\">\n",
       "      <th></th>\n",
       "      <th>YEAR</th>\n",
       "      <th>FL_DATE</th>\n",
       "      <th>ORIGIN_AIRPORT_ID</th>\n",
       "      <th>ORIGIN</th>\n",
       "      <th>DEST_AIRPORT_ID</th>\n",
       "      <th>DEST</th>\n",
       "      <th>DEP_DELAY</th>\n",
       "      <th>ARR_DELAY</th>\n",
       "      <th>CANCELLED</th>\n",
       "    </tr>\n",
       "  </thead>\n",
       "  <tbody>\n",
       "    <tr>\n",
       "      <th>0</th>\n",
       "      <td>2018</td>\n",
       "      <td>2018-01-27</td>\n",
       "      <td>11697</td>\n",
       "      <td>FLL</td>\n",
       "      <td>12266</td>\n",
       "      <td>IAH</td>\n",
       "      <td>-13.0</td>\n",
       "      <td>-12.0</td>\n",
       "      <td>0.0</td>\n",
       "    </tr>\n",
       "    <tr>\n",
       "      <th>1</th>\n",
       "      <td>2018</td>\n",
       "      <td>2018-01-27</td>\n",
       "      <td>14747</td>\n",
       "      <td>SEA</td>\n",
       "      <td>14771</td>\n",
       "      <td>SFO</td>\n",
       "      <td>-4.0</td>\n",
       "      <td>-18.0</td>\n",
       "      <td>0.0</td>\n",
       "    </tr>\n",
       "    <tr>\n",
       "      <th>2</th>\n",
       "      <td>2018</td>\n",
       "      <td>2018-01-27</td>\n",
       "      <td>11278</td>\n",
       "      <td>DCA</td>\n",
       "      <td>12266</td>\n",
       "      <td>IAH</td>\n",
       "      <td>-2.0</td>\n",
       "      <td>1.0</td>\n",
       "      <td>0.0</td>\n",
       "    </tr>\n",
       "    <tr>\n",
       "      <th>3</th>\n",
       "      <td>2018</td>\n",
       "      <td>2018-01-27</td>\n",
       "      <td>12892</td>\n",
       "      <td>LAX</td>\n",
       "      <td>13930</td>\n",
       "      <td>ORD</td>\n",
       "      <td>-9.0</td>\n",
       "      <td>-8.0</td>\n",
       "      <td>0.0</td>\n",
       "    </tr>\n",
       "    <tr>\n",
       "      <th>4</th>\n",
       "      <td>2018</td>\n",
       "      <td>2018-01-27</td>\n",
       "      <td>12451</td>\n",
       "      <td>JAX</td>\n",
       "      <td>11618</td>\n",
       "      <td>EWR</td>\n",
       "      <td>-14.0</td>\n",
       "      <td>-24.0</td>\n",
       "      <td>0.0</td>\n",
       "    </tr>\n",
       "  </tbody>\n",
       "</table>\n",
       "</div>"
      ],
      "text/plain": [
       "   YEAR     FL_DATE  ORIGIN_AIRPORT_ID ORIGIN  DEST_AIRPORT_ID DEST  \\\n",
       "0  2018  2018-01-27              11697    FLL            12266  IAH   \n",
       "1  2018  2018-01-27              14747    SEA            14771  SFO   \n",
       "2  2018  2018-01-27              11278    DCA            12266  IAH   \n",
       "3  2018  2018-01-27              12892    LAX            13930  ORD   \n",
       "4  2018  2018-01-27              12451    JAX            11618  EWR   \n",
       "\n",
       "   DEP_DELAY  ARR_DELAY  CANCELLED  \n",
       "0      -13.0      -12.0        0.0  \n",
       "1       -4.0      -18.0        0.0  \n",
       "2       -2.0        1.0        0.0  \n",
       "3       -9.0       -8.0        0.0  \n",
       "4      -14.0      -24.0        0.0  "
      ]
     },
     "execution_count": 37,
     "metadata": {},
     "output_type": "execute_result"
    }
   ],
   "source": [
    "df_flights_list_clean = df_flights_list.dropna()\n",
    "df_flights_list_clean.head()"
   ]
  },
  {
   "cell_type": "code",
   "execution_count": null,
   "metadata": {},
   "outputs": [],
   "source": []
  }
 ],
 "metadata": {
  "kernelspec": {
   "display_name": "Python 3",
   "language": "python",
   "name": "python3"
  },
  "language_info": {
   "codemirror_mode": {
    "name": "ipython",
    "version": 3
   },
   "file_extension": ".py",
   "mimetype": "text/x-python",
   "name": "python",
   "nbconvert_exporter": "python",
   "pygments_lexer": "ipython3",
   "version": "3.7.1"
  }
 },
 "nbformat": 4,
 "nbformat_minor": 2
}
