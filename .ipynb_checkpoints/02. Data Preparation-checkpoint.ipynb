{
 "cells": [
  {
   "cell_type": "markdown",
   "metadata": {},
   "source": [
    "# US Flight Delay Analysis - Winter Season (2018-2019)\n",
    "This notebook contains the analysis of the \"On-Time : Reporting Carrier On-Time Performance\" dataset, for: December 2018, January 2019 and February 2019.\n",
    "\n",
    "This notebook contains the data preparation before the analysis phase of the project. Meaning, it includes: the data loading, the merging of the three different datasets, the data trimming and finally the treating of null values.\n",
    "\n",
    "In terms of technology, we will use pandas for the data manipulation and analysis.\n",
    "\n",
    "Each phase of the process followed is indicated by cronological order."
   ]
  },
  {
   "cell_type": "markdown",
   "metadata": {},
   "source": [
    "### Imports:"
   ]
  },
  {
   "cell_type": "code",
   "execution_count": 22,
   "metadata": {},
   "outputs": [],
   "source": [
    "import pandas as pd\n",
    "from pandas import DataFrame\n",
    "import numpy as np\n",
    "import os"
   ]
  },
  {
   "cell_type": "markdown",
   "metadata": {},
   "source": [
    "# 01. Data Loading & Merging\n",
    "We will load the three different datasets, containing the data of each month. Than, prior to the merging, we will do a quick examination of the data. Finally, we will proceed with the creation of the final datasets (merging the others), which we will be using for the analysis."
   ]
  },
  {
   "cell_type": "code",
   "execution_count": 23,
   "metadata": {},
   "outputs": [
    {
     "data": {
      "text/plain": [
       "'C:\\\\Users\\\\GerardEspejo\\\\Desktop\\\\TFM\\\\TFM'"
      ]
     },
     "execution_count": 23,
     "metadata": {},
     "output_type": "execute_result"
    }
   ],
   "source": [
    "#I use the \"os\" module, in order to get the directory of this notebook, and be totally sure of the data path to insert.\n",
    "cwd = os.getcwd()\n",
    "cwd"
   ]
  },
  {
   "cell_type": "markdown",
   "metadata": {},
   "source": [
    "### Dataset Loading and initial exploratory evaluation\n",
    "The datasets are loaded from a local folder \"Data\", which contains all the datasets."
   ]
  },
  {
   "cell_type": "code",
   "execution_count": 24,
   "metadata": {},
   "outputs": [],
   "source": [
    "#December 2018\n",
    "df_dec18 = pd.read_csv('C:\\\\Users\\\\GerardEspejo\\\\Desktop\\\\TFM\\\\Data\\\\Dec_2018.csv')"
   ]
  },
  {
   "cell_type": "code",
   "execution_count": 25,
   "metadata": {
    "scrolled": false
   },
   "outputs": [
    {
     "data": {
      "text/html": [
       "<div>\n",
       "<style scoped>\n",
       "    .dataframe tbody tr th:only-of-type {\n",
       "        vertical-align: middle;\n",
       "    }\n",
       "\n",
       "    .dataframe tbody tr th {\n",
       "        vertical-align: top;\n",
       "    }\n",
       "\n",
       "    .dataframe thead th {\n",
       "        text-align: right;\n",
       "    }\n",
       "</style>\n",
       "<table border=\"1\" class=\"dataframe\">\n",
       "  <thead>\n",
       "    <tr style=\"text-align: right;\">\n",
       "      <th></th>\n",
       "      <th>YEAR</th>\n",
       "      <th>QUARTER</th>\n",
       "      <th>MONTH</th>\n",
       "      <th>DAY_OF_MONTH</th>\n",
       "      <th>DAY_OF_WEEK</th>\n",
       "      <th>FL_DATE</th>\n",
       "      <th>OP_UNIQUE_CARRIER</th>\n",
       "      <th>OP_CARRIER</th>\n",
       "      <th>TAIL_NUM</th>\n",
       "      <th>OP_CARRIER_FL_NUM</th>\n",
       "      <th>...</th>\n",
       "      <th>AIR_TIME</th>\n",
       "      <th>FLIGHTS</th>\n",
       "      <th>DISTANCE</th>\n",
       "      <th>DISTANCE_GROUP</th>\n",
       "      <th>CARRIER_DELAY</th>\n",
       "      <th>WEATHER_DELAY</th>\n",
       "      <th>NAS_DELAY</th>\n",
       "      <th>SECURITY_DELAY</th>\n",
       "      <th>LATE_AIRCRAFT_DELAY</th>\n",
       "      <th>Unnamed: 50</th>\n",
       "    </tr>\n",
       "  </thead>\n",
       "  <tbody>\n",
       "    <tr>\n",
       "      <th>535996</th>\n",
       "      <td>2018</td>\n",
       "      <td>4</td>\n",
       "      <td>12</td>\n",
       "      <td>19</td>\n",
       "      <td>3</td>\n",
       "      <td>2018-12-19</td>\n",
       "      <td>AA</td>\n",
       "      <td>AA</td>\n",
       "      <td>N349AN</td>\n",
       "      <td>2665</td>\n",
       "      <td>...</td>\n",
       "      <td>149.0</td>\n",
       "      <td>1.0</td>\n",
       "      <td>1013.0</td>\n",
       "      <td>5</td>\n",
       "      <td>NaN</td>\n",
       "      <td>NaN</td>\n",
       "      <td>NaN</td>\n",
       "      <td>NaN</td>\n",
       "      <td>NaN</td>\n",
       "      <td>NaN</td>\n",
       "    </tr>\n",
       "    <tr>\n",
       "      <th>96387</th>\n",
       "      <td>2018</td>\n",
       "      <td>4</td>\n",
       "      <td>12</td>\n",
       "      <td>16</td>\n",
       "      <td>7</td>\n",
       "      <td>2018-12-16</td>\n",
       "      <td>B6</td>\n",
       "      <td>B6</td>\n",
       "      <td>N982JB</td>\n",
       "      <td>1823</td>\n",
       "      <td>...</td>\n",
       "      <td>323.0</td>\n",
       "      <td>1.0</td>\n",
       "      <td>2475.0</td>\n",
       "      <td>10</td>\n",
       "      <td>33.0</td>\n",
       "      <td>0.0</td>\n",
       "      <td>0.0</td>\n",
       "      <td>0.0</td>\n",
       "      <td>0.0</td>\n",
       "      <td>NaN</td>\n",
       "    </tr>\n",
       "    <tr>\n",
       "      <th>481493</th>\n",
       "      <td>2018</td>\n",
       "      <td>4</td>\n",
       "      <td>12</td>\n",
       "      <td>11</td>\n",
       "      <td>2</td>\n",
       "      <td>2018-12-11</td>\n",
       "      <td>WN</td>\n",
       "      <td>WN</td>\n",
       "      <td>N7824A</td>\n",
       "      <td>1443</td>\n",
       "      <td>...</td>\n",
       "      <td>97.0</td>\n",
       "      <td>1.0</td>\n",
       "      <td>759.0</td>\n",
       "      <td>4</td>\n",
       "      <td>56.0</td>\n",
       "      <td>0.0</td>\n",
       "      <td>0.0</td>\n",
       "      <td>0.0</td>\n",
       "      <td>0.0</td>\n",
       "      <td>NaN</td>\n",
       "    </tr>\n",
       "    <tr>\n",
       "      <th>168621</th>\n",
       "      <td>2018</td>\n",
       "      <td>4</td>\n",
       "      <td>12</td>\n",
       "      <td>18</td>\n",
       "      <td>2</td>\n",
       "      <td>2018-12-18</td>\n",
       "      <td>YX</td>\n",
       "      <td>YX</td>\n",
       "      <td>N633RW</td>\n",
       "      <td>3756</td>\n",
       "      <td>...</td>\n",
       "      <td>75.0</td>\n",
       "      <td>1.0</td>\n",
       "      <td>488.0</td>\n",
       "      <td>2</td>\n",
       "      <td>NaN</td>\n",
       "      <td>NaN</td>\n",
       "      <td>NaN</td>\n",
       "      <td>NaN</td>\n",
       "      <td>NaN</td>\n",
       "      <td>NaN</td>\n",
       "    </tr>\n",
       "    <tr>\n",
       "      <th>166248</th>\n",
       "      <td>2018</td>\n",
       "      <td>4</td>\n",
       "      <td>12</td>\n",
       "      <td>10</td>\n",
       "      <td>1</td>\n",
       "      <td>2018-12-10</td>\n",
       "      <td>YX</td>\n",
       "      <td>YX</td>\n",
       "      <td>N643RW</td>\n",
       "      <td>3666</td>\n",
       "      <td>...</td>\n",
       "      <td>144.0</td>\n",
       "      <td>1.0</td>\n",
       "      <td>1034.0</td>\n",
       "      <td>5</td>\n",
       "      <td>NaN</td>\n",
       "      <td>NaN</td>\n",
       "      <td>NaN</td>\n",
       "      <td>NaN</td>\n",
       "      <td>NaN</td>\n",
       "      <td>NaN</td>\n",
       "    </tr>\n",
       "  </tbody>\n",
       "</table>\n",
       "<p>5 rows × 51 columns</p>\n",
       "</div>"
      ],
      "text/plain": [
       "        YEAR  QUARTER  MONTH  DAY_OF_MONTH  DAY_OF_WEEK     FL_DATE  \\\n",
       "535996  2018        4     12            19            3  2018-12-19   \n",
       "96387   2018        4     12            16            7  2018-12-16   \n",
       "481493  2018        4     12            11            2  2018-12-11   \n",
       "168621  2018        4     12            18            2  2018-12-18   \n",
       "166248  2018        4     12            10            1  2018-12-10   \n",
       "\n",
       "       OP_UNIQUE_CARRIER OP_CARRIER TAIL_NUM  OP_CARRIER_FL_NUM     ...      \\\n",
       "535996                AA         AA   N349AN               2665     ...       \n",
       "96387                 B6         B6   N982JB               1823     ...       \n",
       "481493                WN         WN   N7824A               1443     ...       \n",
       "168621                YX         YX   N633RW               3756     ...       \n",
       "166248                YX         YX   N643RW               3666     ...       \n",
       "\n",
       "        AIR_TIME  FLIGHTS DISTANCE DISTANCE_GROUP CARRIER_DELAY WEATHER_DELAY  \\\n",
       "535996     149.0      1.0   1013.0              5           NaN           NaN   \n",
       "96387      323.0      1.0   2475.0             10          33.0           0.0   \n",
       "481493      97.0      1.0    759.0              4          56.0           0.0   \n",
       "168621      75.0      1.0    488.0              2           NaN           NaN   \n",
       "166248     144.0      1.0   1034.0              5           NaN           NaN   \n",
       "\n",
       "        NAS_DELAY  SECURITY_DELAY  LATE_AIRCRAFT_DELAY Unnamed: 50  \n",
       "535996        NaN             NaN                  NaN         NaN  \n",
       "96387         0.0             0.0                  0.0         NaN  \n",
       "481493        0.0             0.0                  0.0         NaN  \n",
       "168621        NaN             NaN                  NaN         NaN  \n",
       "166248        NaN             NaN                  NaN         NaN  \n",
       "\n",
       "[5 rows x 51 columns]"
      ]
     },
     "execution_count": 25,
     "metadata": {},
     "output_type": "execute_result"
    }
   ],
   "source": [
    "#Let's take a sample of 5 flights, as a quick preview. \n",
    "#Mainly I will check the dates of the flights (Column: 'FL_DATE'), and see if the month coincides with the dataset downloaded.\n",
    "df_dec18.sample(5)"
   ]
  },
  {
   "cell_type": "code",
   "execution_count": 26,
   "metadata": {},
   "outputs": [],
   "source": [
    "#January 2019\n",
    "df_jan19 = pd.read_csv('C:\\\\Users\\\\GerardEspejo\\\\Desktop\\\\TFM\\\\Data\\\\Jan_2019.csv')"
   ]
  },
  {
   "cell_type": "code",
   "execution_count": 27,
   "metadata": {
    "scrolled": true
   },
   "outputs": [
    {
     "data": {
      "text/html": [
       "<div>\n",
       "<style scoped>\n",
       "    .dataframe tbody tr th:only-of-type {\n",
       "        vertical-align: middle;\n",
       "    }\n",
       "\n",
       "    .dataframe tbody tr th {\n",
       "        vertical-align: top;\n",
       "    }\n",
       "\n",
       "    .dataframe thead th {\n",
       "        text-align: right;\n",
       "    }\n",
       "</style>\n",
       "<table border=\"1\" class=\"dataframe\">\n",
       "  <thead>\n",
       "    <tr style=\"text-align: right;\">\n",
       "      <th></th>\n",
       "      <th>YEAR</th>\n",
       "      <th>QUARTER</th>\n",
       "      <th>MONTH</th>\n",
       "      <th>DAY_OF_MONTH</th>\n",
       "      <th>DAY_OF_WEEK</th>\n",
       "      <th>FL_DATE</th>\n",
       "      <th>OP_UNIQUE_CARRIER</th>\n",
       "      <th>OP_CARRIER</th>\n",
       "      <th>TAIL_NUM</th>\n",
       "      <th>OP_CARRIER_FL_NUM</th>\n",
       "      <th>...</th>\n",
       "      <th>AIR_TIME</th>\n",
       "      <th>FLIGHTS</th>\n",
       "      <th>DISTANCE</th>\n",
       "      <th>DISTANCE_GROUP</th>\n",
       "      <th>CARRIER_DELAY</th>\n",
       "      <th>WEATHER_DELAY</th>\n",
       "      <th>NAS_DELAY</th>\n",
       "      <th>SECURITY_DELAY</th>\n",
       "      <th>LATE_AIRCRAFT_DELAY</th>\n",
       "      <th>Unnamed: 50</th>\n",
       "    </tr>\n",
       "  </thead>\n",
       "  <tbody>\n",
       "    <tr>\n",
       "      <th>519478</th>\n",
       "      <td>2019</td>\n",
       "      <td>1</td>\n",
       "      <td>1</td>\n",
       "      <td>2</td>\n",
       "      <td>3</td>\n",
       "      <td>2019-01-02</td>\n",
       "      <td>DL</td>\n",
       "      <td>DL</td>\n",
       "      <td>N901DE</td>\n",
       "      <td>845</td>\n",
       "      <td>...</td>\n",
       "      <td>82.0</td>\n",
       "      <td>1.0</td>\n",
       "      <td>545.0</td>\n",
       "      <td>3</td>\n",
       "      <td>NaN</td>\n",
       "      <td>NaN</td>\n",
       "      <td>NaN</td>\n",
       "      <td>NaN</td>\n",
       "      <td>NaN</td>\n",
       "      <td>NaN</td>\n",
       "    </tr>\n",
       "    <tr>\n",
       "      <th>511791</th>\n",
       "      <td>2019</td>\n",
       "      <td>1</td>\n",
       "      <td>1</td>\n",
       "      <td>6</td>\n",
       "      <td>7</td>\n",
       "      <td>2019-01-06</td>\n",
       "      <td>DL</td>\n",
       "      <td>DL</td>\n",
       "      <td>N357NW</td>\n",
       "      <td>2836</td>\n",
       "      <td>...</td>\n",
       "      <td>171.0</td>\n",
       "      <td>1.0</td>\n",
       "      <td>1185.0</td>\n",
       "      <td>5</td>\n",
       "      <td>NaN</td>\n",
       "      <td>NaN</td>\n",
       "      <td>NaN</td>\n",
       "      <td>NaN</td>\n",
       "      <td>NaN</td>\n",
       "      <td>NaN</td>\n",
       "    </tr>\n",
       "    <tr>\n",
       "      <th>153449</th>\n",
       "      <td>2019</td>\n",
       "      <td>1</td>\n",
       "      <td>1</td>\n",
       "      <td>2</td>\n",
       "      <td>3</td>\n",
       "      <td>2019-01-02</td>\n",
       "      <td>WN</td>\n",
       "      <td>WN</td>\n",
       "      <td>N264LV</td>\n",
       "      <td>6661</td>\n",
       "      <td>...</td>\n",
       "      <td>186.0</td>\n",
       "      <td>1.0</td>\n",
       "      <td>1262.0</td>\n",
       "      <td>6</td>\n",
       "      <td>NaN</td>\n",
       "      <td>NaN</td>\n",
       "      <td>NaN</td>\n",
       "      <td>NaN</td>\n",
       "      <td>NaN</td>\n",
       "      <td>NaN</td>\n",
       "    </tr>\n",
       "    <tr>\n",
       "      <th>215378</th>\n",
       "      <td>2019</td>\n",
       "      <td>1</td>\n",
       "      <td>1</td>\n",
       "      <td>2</td>\n",
       "      <td>3</td>\n",
       "      <td>2019-01-02</td>\n",
       "      <td>B6</td>\n",
       "      <td>B6</td>\n",
       "      <td>N373JB</td>\n",
       "      <td>518</td>\n",
       "      <td>...</td>\n",
       "      <td>34.0</td>\n",
       "      <td>1.0</td>\n",
       "      <td>187.0</td>\n",
       "      <td>1</td>\n",
       "      <td>NaN</td>\n",
       "      <td>NaN</td>\n",
       "      <td>NaN</td>\n",
       "      <td>NaN</td>\n",
       "      <td>NaN</td>\n",
       "      <td>NaN</td>\n",
       "    </tr>\n",
       "    <tr>\n",
       "      <th>414858</th>\n",
       "      <td>2019</td>\n",
       "      <td>1</td>\n",
       "      <td>1</td>\n",
       "      <td>14</td>\n",
       "      <td>1</td>\n",
       "      <td>2019-01-14</td>\n",
       "      <td>WN</td>\n",
       "      <td>WN</td>\n",
       "      <td>N8696E</td>\n",
       "      <td>20</td>\n",
       "      <td>...</td>\n",
       "      <td>40.0</td>\n",
       "      <td>1.0</td>\n",
       "      <td>239.0</td>\n",
       "      <td>1</td>\n",
       "      <td>NaN</td>\n",
       "      <td>NaN</td>\n",
       "      <td>NaN</td>\n",
       "      <td>NaN</td>\n",
       "      <td>NaN</td>\n",
       "      <td>NaN</td>\n",
       "    </tr>\n",
       "  </tbody>\n",
       "</table>\n",
       "<p>5 rows × 51 columns</p>\n",
       "</div>"
      ],
      "text/plain": [
       "        YEAR  QUARTER  MONTH  DAY_OF_MONTH  DAY_OF_WEEK     FL_DATE  \\\n",
       "519478  2019        1      1             2            3  2019-01-02   \n",
       "511791  2019        1      1             6            7  2019-01-06   \n",
       "153449  2019        1      1             2            3  2019-01-02   \n",
       "215378  2019        1      1             2            3  2019-01-02   \n",
       "414858  2019        1      1            14            1  2019-01-14   \n",
       "\n",
       "       OP_UNIQUE_CARRIER OP_CARRIER TAIL_NUM  OP_CARRIER_FL_NUM     ...      \\\n",
       "519478                DL         DL   N901DE                845     ...       \n",
       "511791                DL         DL   N357NW               2836     ...       \n",
       "153449                WN         WN   N264LV               6661     ...       \n",
       "215378                B6         B6   N373JB                518     ...       \n",
       "414858                WN         WN   N8696E                 20     ...       \n",
       "\n",
       "        AIR_TIME  FLIGHTS DISTANCE DISTANCE_GROUP CARRIER_DELAY WEATHER_DELAY  \\\n",
       "519478      82.0      1.0    545.0              3           NaN           NaN   \n",
       "511791     171.0      1.0   1185.0              5           NaN           NaN   \n",
       "153449     186.0      1.0   1262.0              6           NaN           NaN   \n",
       "215378      34.0      1.0    187.0              1           NaN           NaN   \n",
       "414858      40.0      1.0    239.0              1           NaN           NaN   \n",
       "\n",
       "        NAS_DELAY  SECURITY_DELAY  LATE_AIRCRAFT_DELAY Unnamed: 50  \n",
       "519478        NaN             NaN                  NaN         NaN  \n",
       "511791        NaN             NaN                  NaN         NaN  \n",
       "153449        NaN             NaN                  NaN         NaN  \n",
       "215378        NaN             NaN                  NaN         NaN  \n",
       "414858        NaN             NaN                  NaN         NaN  \n",
       "\n",
       "[5 rows x 51 columns]"
      ]
     },
     "execution_count": 27,
     "metadata": {},
     "output_type": "execute_result"
    }
   ],
   "source": [
    "df_jan19.sample(5)"
   ]
  },
  {
   "cell_type": "code",
   "execution_count": 28,
   "metadata": {},
   "outputs": [],
   "source": [
    "#February 2019\n",
    "df_feb19 = pd.read_csv('C:\\\\Users\\\\GerardEspejo\\\\Desktop\\\\TFM\\\\Data\\\\Feb_2019.csv')"
   ]
  },
  {
   "cell_type": "code",
   "execution_count": 29,
   "metadata": {},
   "outputs": [
    {
     "data": {
      "text/html": [
       "<div>\n",
       "<style scoped>\n",
       "    .dataframe tbody tr th:only-of-type {\n",
       "        vertical-align: middle;\n",
       "    }\n",
       "\n",
       "    .dataframe tbody tr th {\n",
       "        vertical-align: top;\n",
       "    }\n",
       "\n",
       "    .dataframe thead th {\n",
       "        text-align: right;\n",
       "    }\n",
       "</style>\n",
       "<table border=\"1\" class=\"dataframe\">\n",
       "  <thead>\n",
       "    <tr style=\"text-align: right;\">\n",
       "      <th></th>\n",
       "      <th>YEAR</th>\n",
       "      <th>QUARTER</th>\n",
       "      <th>MONTH</th>\n",
       "      <th>DAY_OF_MONTH</th>\n",
       "      <th>DAY_OF_WEEK</th>\n",
       "      <th>FL_DATE</th>\n",
       "      <th>OP_UNIQUE_CARRIER</th>\n",
       "      <th>OP_CARRIER</th>\n",
       "      <th>TAIL_NUM</th>\n",
       "      <th>OP_CARRIER_FL_NUM</th>\n",
       "      <th>...</th>\n",
       "      <th>AIR_TIME</th>\n",
       "      <th>FLIGHTS</th>\n",
       "      <th>DISTANCE</th>\n",
       "      <th>DISTANCE_GROUP</th>\n",
       "      <th>CARRIER_DELAY</th>\n",
       "      <th>WEATHER_DELAY</th>\n",
       "      <th>NAS_DELAY</th>\n",
       "      <th>SECURITY_DELAY</th>\n",
       "      <th>LATE_AIRCRAFT_DELAY</th>\n",
       "      <th>Unnamed: 50</th>\n",
       "    </tr>\n",
       "  </thead>\n",
       "  <tbody>\n",
       "    <tr>\n",
       "      <th>26667</th>\n",
       "      <td>2019</td>\n",
       "      <td>1</td>\n",
       "      <td>2</td>\n",
       "      <td>24</td>\n",
       "      <td>7</td>\n",
       "      <td>2019-02-24</td>\n",
       "      <td>AA</td>\n",
       "      <td>AA</td>\n",
       "      <td>N963TW</td>\n",
       "      <td>2360</td>\n",
       "      <td>...</td>\n",
       "      <td>79.0</td>\n",
       "      <td>1.0</td>\n",
       "      <td>583.0</td>\n",
       "      <td>3</td>\n",
       "      <td>27.0</td>\n",
       "      <td>0.0</td>\n",
       "      <td>0.0</td>\n",
       "      <td>0.0</td>\n",
       "      <td>8.0</td>\n",
       "      <td>NaN</td>\n",
       "    </tr>\n",
       "    <tr>\n",
       "      <th>7689</th>\n",
       "      <td>2019</td>\n",
       "      <td>1</td>\n",
       "      <td>2</td>\n",
       "      <td>26</td>\n",
       "      <td>2</td>\n",
       "      <td>2019-02-26</td>\n",
       "      <td>AA</td>\n",
       "      <td>AA</td>\n",
       "      <td>N141NN</td>\n",
       "      <td>368</td>\n",
       "      <td>...</td>\n",
       "      <td>228.0</td>\n",
       "      <td>1.0</td>\n",
       "      <td>1660.0</td>\n",
       "      <td>7</td>\n",
       "      <td>NaN</td>\n",
       "      <td>NaN</td>\n",
       "      <td>NaN</td>\n",
       "      <td>NaN</td>\n",
       "      <td>NaN</td>\n",
       "      <td>NaN</td>\n",
       "    </tr>\n",
       "    <tr>\n",
       "      <th>40444</th>\n",
       "      <td>2019</td>\n",
       "      <td>1</td>\n",
       "      <td>2</td>\n",
       "      <td>16</td>\n",
       "      <td>6</td>\n",
       "      <td>2019-02-16</td>\n",
       "      <td>WN</td>\n",
       "      <td>WN</td>\n",
       "      <td>N8555Z</td>\n",
       "      <td>5141</td>\n",
       "      <td>...</td>\n",
       "      <td>197.0</td>\n",
       "      <td>1.0</td>\n",
       "      <td>1903.0</td>\n",
       "      <td>8</td>\n",
       "      <td>NaN</td>\n",
       "      <td>NaN</td>\n",
       "      <td>NaN</td>\n",
       "      <td>NaN</td>\n",
       "      <td>NaN</td>\n",
       "      <td>NaN</td>\n",
       "    </tr>\n",
       "    <tr>\n",
       "      <th>124618</th>\n",
       "      <td>2019</td>\n",
       "      <td>1</td>\n",
       "      <td>2</td>\n",
       "      <td>26</td>\n",
       "      <td>2</td>\n",
       "      <td>2019-02-26</td>\n",
       "      <td>WN</td>\n",
       "      <td>WN</td>\n",
       "      <td>N8695D</td>\n",
       "      <td>2324</td>\n",
       "      <td>...</td>\n",
       "      <td>262.0</td>\n",
       "      <td>1.0</td>\n",
       "      <td>1790.0</td>\n",
       "      <td>8</td>\n",
       "      <td>NaN</td>\n",
       "      <td>NaN</td>\n",
       "      <td>NaN</td>\n",
       "      <td>NaN</td>\n",
       "      <td>NaN</td>\n",
       "      <td>NaN</td>\n",
       "    </tr>\n",
       "    <tr>\n",
       "      <th>468147</th>\n",
       "      <td>2019</td>\n",
       "      <td>1</td>\n",
       "      <td>2</td>\n",
       "      <td>3</td>\n",
       "      <td>7</td>\n",
       "      <td>2019-02-03</td>\n",
       "      <td>AS</td>\n",
       "      <td>AS</td>\n",
       "      <td>N558AS</td>\n",
       "      <td>321</td>\n",
       "      <td>...</td>\n",
       "      <td>103.0</td>\n",
       "      <td>1.0</td>\n",
       "      <td>696.0</td>\n",
       "      <td>3</td>\n",
       "      <td>NaN</td>\n",
       "      <td>NaN</td>\n",
       "      <td>NaN</td>\n",
       "      <td>NaN</td>\n",
       "      <td>NaN</td>\n",
       "      <td>NaN</td>\n",
       "    </tr>\n",
       "  </tbody>\n",
       "</table>\n",
       "<p>5 rows × 51 columns</p>\n",
       "</div>"
      ],
      "text/plain": [
       "        YEAR  QUARTER  MONTH  DAY_OF_MONTH  DAY_OF_WEEK     FL_DATE  \\\n",
       "26667   2019        1      2            24            7  2019-02-24   \n",
       "7689    2019        1      2            26            2  2019-02-26   \n",
       "40444   2019        1      2            16            6  2019-02-16   \n",
       "124618  2019        1      2            26            2  2019-02-26   \n",
       "468147  2019        1      2             3            7  2019-02-03   \n",
       "\n",
       "       OP_UNIQUE_CARRIER OP_CARRIER TAIL_NUM  OP_CARRIER_FL_NUM     ...      \\\n",
       "26667                 AA         AA   N963TW               2360     ...       \n",
       "7689                  AA         AA   N141NN                368     ...       \n",
       "40444                 WN         WN   N8555Z               5141     ...       \n",
       "124618                WN         WN   N8695D               2324     ...       \n",
       "468147                AS         AS   N558AS                321     ...       \n",
       "\n",
       "        AIR_TIME  FLIGHTS DISTANCE DISTANCE_GROUP CARRIER_DELAY WEATHER_DELAY  \\\n",
       "26667       79.0      1.0    583.0              3          27.0           0.0   \n",
       "7689       228.0      1.0   1660.0              7           NaN           NaN   \n",
       "40444      197.0      1.0   1903.0              8           NaN           NaN   \n",
       "124618     262.0      1.0   1790.0              8           NaN           NaN   \n",
       "468147     103.0      1.0    696.0              3           NaN           NaN   \n",
       "\n",
       "        NAS_DELAY  SECURITY_DELAY  LATE_AIRCRAFT_DELAY Unnamed: 50  \n",
       "26667         0.0             0.0                  8.0         NaN  \n",
       "7689          NaN             NaN                  NaN         NaN  \n",
       "40444         NaN             NaN                  NaN         NaN  \n",
       "124618        NaN             NaN                  NaN         NaN  \n",
       "468147        NaN             NaN                  NaN         NaN  \n",
       "\n",
       "[5 rows x 51 columns]"
      ]
     },
     "execution_count": 29,
     "metadata": {},
     "output_type": "execute_result"
    }
   ],
   "source": [
    "df_feb19.sample(5)"
   ]
  },
  {
   "cell_type": "code",
   "execution_count": 30,
   "metadata": {
    "scrolled": true
   },
   "outputs": [
    {
     "data": {
      "text/html": [
       "<div>\n",
       "<style scoped>\n",
       "    .dataframe tbody tr th:only-of-type {\n",
       "        vertical-align: middle;\n",
       "    }\n",
       "\n",
       "    .dataframe tbody tr th {\n",
       "        vertical-align: top;\n",
       "    }\n",
       "\n",
       "    .dataframe thead th {\n",
       "        text-align: right;\n",
       "    }\n",
       "</style>\n",
       "<table border=\"1\" class=\"dataframe\">\n",
       "  <thead>\n",
       "    <tr style=\"text-align: right;\">\n",
       "      <th></th>\n",
       "      <th>Dec 18</th>\n",
       "      <th>Jan 19</th>\n",
       "      <th>Feb 19</th>\n",
       "    </tr>\n",
       "  </thead>\n",
       "  <tbody>\n",
       "    <tr>\n",
       "      <th>0</th>\n",
       "      <td>(593842, 51)</td>\n",
       "      <td>(583985, 51)</td>\n",
       "      <td>(533175, 51)</td>\n",
       "    </tr>\n",
       "  </tbody>\n",
       "</table>\n",
       "</div>"
      ],
      "text/plain": [
       "         Dec 18        Jan 19        Feb 19\n",
       "0  (593842, 51)  (583985, 51)  (533175, 51)"
      ]
     },
     "execution_count": 30,
     "metadata": {},
     "output_type": "execute_result"
    }
   ],
   "source": [
    "#For the initial exploratory, we will check the shapes of the three datasets\n",
    "Shapes = {'Dec 18': [df_dec18.shape], 'Jan 19': [df_jan19.shape], 'Feb 19': [df_feb19.shape]}\n",
    "df_shapes = DataFrame (Shapes, columns = ['Dec 18','Jan 19', 'Feb 19'])\n",
    "df_shapes"
   ]
  },
  {
   "cell_type": "markdown",
   "metadata": {},
   "source": [
    "### Merging the three datasets\n",
    "As we have observed in the initial exploratory of the data, the three datasets have the same type of values. Moreover, their shapes are very similar, having the same number of columns. This means we can join them into a single dataset."
   ]
  },
  {
   "cell_type": "code",
   "execution_count": 35,
   "metadata": {},
   "outputs": [],
   "source": [
    "#We will use the concat() function, to merge the three datasets\n",
    "#We will set the argument 'ignore_index' to True, which will automatically set the row labels according the join\n",
    "data = [df_dec18, df_jan19, df_feb19]\n",
    "df_winter = pd.concat(data, ignore_index=True)"
   ]
  },
  {
   "cell_type": "code",
   "execution_count": 43,
   "metadata": {},
   "outputs": [
    {
     "data": {
      "text/plain": [
       "1711002"
      ]
     },
     "execution_count": 43,
     "metadata": {},
     "output_type": "execute_result"
    }
   ],
   "source": [
    "#The number of rows of the new dataset should be equal to the sum of rows of all three datasets.\n",
    "calculated_total_rows = 593842 + 583985 + 533175\n",
    "calculated_total_rows"
   ]
  },
  {
   "cell_type": "code",
   "execution_count": 37,
   "metadata": {},
   "outputs": [
    {
     "data": {
      "text/plain": [
       "(1711002, 51)"
      ]
     },
     "execution_count": 37,
     "metadata": {},
     "output_type": "execute_result"
    }
   ],
   "source": [
    "#Let's check the shape of the resultant dataset.\n",
    "df_winter.shape"
   ]
  },
  {
   "cell_type": "markdown",
   "metadata": {},
   "source": [
    "We have a successfull merging!"
   ]
  },
  {
   "cell_type": "markdown",
   "metadata": {},
   "source": [
    "# 02. Data Preparation\n",
    "In the previous notebook ('01. First Approach') we have done an initial examination of the dataset, resulting in a pre-selection of the most \"interesting\" columns during the data downloading process, in the BTS website: https://www.transtats.bts.gov/DL_SelectFields.asp?Table_ID=236\n",
    "\n",
    "Having taken note of that, we have applied the same procedure prior to the Data Loading. Therefore, we will optimize our work.\n",
    "\n",
    "For your information, the reduced data (columns) is related to: Gate Return Information at Origin Airport and Diverted Airport Information. Because we are focusing this analysis only on Flight Delays, we won't be using flight divertions informations."
   ]
  },
  {
   "cell_type": "markdown",
   "metadata": {},
   "source": [
    "### Initial Data Examination"
   ]
  },
  {
   "cell_type": "code",
   "execution_count": 44,
   "metadata": {},
   "outputs": [
    {
     "data": {
      "text/plain": [
       "(1711002, 51)"
      ]
     },
     "execution_count": 44,
     "metadata": {},
     "output_type": "execute_result"
    }
   ],
   "source": [
    "df_winter.shape"
   ]
  },
  {
   "cell_type": "code",
   "execution_count": 48,
   "metadata": {},
   "outputs": [
    {
     "data": {
      "text/plain": [
       "YEAR                       int64\n",
       "QUARTER                    int64\n",
       "MONTH                      int64\n",
       "DAY_OF_MONTH               int64\n",
       "DAY_OF_WEEK                int64\n",
       "FL_DATE                   object\n",
       "OP_UNIQUE_CARRIER         object\n",
       "OP_CARRIER                object\n",
       "TAIL_NUM                  object\n",
       "OP_CARRIER_FL_NUM          int64\n",
       "ORIGIN_AIRPORT_ID          int64\n",
       "ORIGIN_CITY_MARKET_ID      int64\n",
       "ORIGIN                    object\n",
       "ORIGIN_CITY_NAME          object\n",
       "ORIGIN_STATE_ABR          object\n",
       "ORIGIN_STATE_NM           object\n",
       "ORIGIN_WAC                 int64\n",
       "DEST_AIRPORT_ID            int64\n",
       "DEST_CITY_MARKET_ID        int64\n",
       "DEST                      object\n",
       "DEST_CITY_NAME            object\n",
       "DEST_STATE_ABR            object\n",
       "DEST_STATE_NM             object\n",
       "DEST_WAC                   int64\n",
       "CRS_DEP_TIME               int64\n",
       "DEP_TIME                 float64\n",
       "DEP_DELAY                float64\n",
       "DEP_DELAY_NEW            float64\n",
       "DEP_DEL15                float64\n",
       "DEP_DELAY_GROUP          float64\n",
       "CRS_ARR_TIME               int64\n",
       "ARR_TIME                 float64\n",
       "ARR_DELAY                float64\n",
       "ARR_DELAY_NEW            float64\n",
       "ARR_DEL15                float64\n",
       "ARR_DELAY_GROUP          float64\n",
       "CANCELLED                float64\n",
       "CANCELLATION_CODE         object\n",
       "DIVERTED                 float64\n",
       "CRS_ELAPSED_TIME         float64\n",
       "ACTUAL_ELAPSED_TIME      float64\n",
       "AIR_TIME                 float64\n",
       "FLIGHTS                  float64\n",
       "DISTANCE                 float64\n",
       "DISTANCE_GROUP             int64\n",
       "CARRIER_DELAY            float64\n",
       "WEATHER_DELAY            float64\n",
       "NAS_DELAY                float64\n",
       "SECURITY_DELAY           float64\n",
       "LATE_AIRCRAFT_DELAY      float64\n",
       "Unnamed: 50              float64\n",
       "dtype: object"
      ]
     },
     "execution_count": 48,
     "metadata": {},
     "output_type": "execute_result"
    }
   ],
   "source": [
    "#Let's check the columns and the type of values\n",
    "df_winter.dtypes"
   ]
  },
  {
   "cell_type": "code",
   "execution_count": 60,
   "metadata": {},
   "outputs": [
    {
     "data": {
      "text/plain": [
       "Unnamed: 50              1711002\n",
       "CANCELLATION_CODE        1672269\n",
       "SECURITY_DELAY           1377621\n",
       "NAS_DELAY                1377621\n",
       "WEATHER_DELAY            1377621\n",
       "CARRIER_DELAY            1377621\n",
       "LATE_AIRCRAFT_DELAY      1377621\n",
       "ACTUAL_ELAPSED_TIME        42988\n",
       "ARR_DEL15                  42988\n",
       "ARR_DELAY_GROUP            42988\n",
       "AIR_TIME                   42988\n",
       "ARR_DELAY                  42988\n",
       "ARR_DELAY_NEW              42988\n",
       "ARR_TIME                   39791\n",
       "DEP_DEL15                  37708\n",
       "DEP_DELAY_GROUP            37708\n",
       "DEP_DELAY_NEW              37708\n",
       "DEP_DELAY                  37708\n",
       "DEP_TIME                   37701\n",
       "TAIL_NUM                    5034\n",
       "CRS_ELAPSED_TIME             134\n",
       "CANCELLED                      0\n",
       "ORIGIN_STATE_ABR               0\n",
       "QUARTER                        0\n",
       "MONTH                          0\n",
       "DAY_OF_MONTH                   0\n",
       "DAY_OF_WEEK                    0\n",
       "FL_DATE                        0\n",
       "OP_UNIQUE_CARRIER              0\n",
       "OP_CARRIER                     0\n",
       "OP_CARRIER_FL_NUM              0\n",
       "ORIGIN_AIRPORT_ID              0\n",
       "ORIGIN_CITY_MARKET_ID          0\n",
       "ORIGIN                         0\n",
       "ORIGIN_CITY_NAME               0\n",
       "ORIGIN_STATE_NM                0\n",
       "CRS_ARR_TIME                   0\n",
       "ORIGIN_WAC                     0\n",
       "DEST_AIRPORT_ID                0\n",
       "DEST_CITY_MARKET_ID            0\n",
       "DEST                           0\n",
       "DEST_CITY_NAME                 0\n",
       "DEST_STATE_ABR                 0\n",
       "DEST_STATE_NM                  0\n",
       "DEST_WAC                       0\n",
       "CRS_DEP_TIME                   0\n",
       "DISTANCE_GROUP                 0\n",
       "DISTANCE                       0\n",
       "FLIGHTS                        0\n",
       "DIVERTED                       0\n",
       "YEAR                           0\n",
       "dtype: int64"
      ]
     },
     "execution_count": 60,
     "metadata": {},
     "output_type": "execute_result"
    }
   ],
   "source": [
    "#Which columns have more null values\n",
    "df_winter.isna().sum().sort_values(ascending=False)"
   ]
  },
  {
   "cell_type": "code",
   "execution_count": 75,
   "metadata": {},
   "outputs": [
    {
     "data": {
      "text/plain": [
       "17"
      ]
     },
     "execution_count": 75,
     "metadata": {},
     "output_type": "execute_result"
    }
   ],
   "source": [
    "#How many airlines are we dealing with?\n",
    "df_winter['OP_CARRIER'].nunique()"
   ]
  },
  {
   "cell_type": "code",
   "execution_count": 76,
   "metadata": {},
   "outputs": [
    {
     "data": {
      "text/plain": [
       "346"
      ]
     },
     "execution_count": 76,
     "metadata": {},
     "output_type": "execute_result"
    }
   ],
   "source": [
    "# and airports?\n",
    "df_winter['ORIGIN'].nunique()"
   ]
  },
  {
   "cell_type": "markdown",
   "metadata": {},
   "source": [
    "### Trimming the data"
   ]
  },
  {
   "cell_type": "markdown",
   "metadata": {},
   "source": [
    "##### Columns Rename"
   ]
  },
  {
   "cell_type": "code",
   "execution_count": 78,
   "metadata": {},
   "outputs": [
    {
     "data": {
      "text/plain": [
       "Index(['YEAR', 'QUARTER', 'MONTH', 'DAY_OF_MONTH', 'DAY_OF_WEEK', 'FL_DATE',\n",
       "       'OP_UNIQUE_CARRIER', 'OP_CARRIER', 'TAIL_NUM', 'OP_CARRIER_FL_NUM',\n",
       "       'ORIGIN_AIRPORT_ID', 'ORIGIN_CITY_MARKET_ID', 'ORIGIN',\n",
       "       'ORIGIN_CITY_NAME', 'ORIGIN_STATE_ABR', 'ORIGIN_STATE_NM', 'ORIGIN_WAC',\n",
       "       'DEST_AIRPORT_ID', 'DEST_CITY_MARKET_ID', 'DEST', 'DEST_CITY_NAME',\n",
       "       'DEST_STATE_ABR', 'DEST_STATE_NM', 'DEST_WAC', 'CRS_DEP_TIME',\n",
       "       'DEP_TIME', 'DEP_DELAY', 'DEP_DELAY_NEW', 'DEP_DEL15',\n",
       "       'DEP_DELAY_GROUP', 'CRS_ARR_TIME', 'ARR_TIME', 'ARR_DELAY',\n",
       "       'ARR_DELAY_NEW', 'ARR_DEL15', 'ARR_DELAY_GROUP', 'CANCELLED',\n",
       "       'CANCELLATION_CODE', 'DIVERTED', 'CRS_ELAPSED_TIME',\n",
       "       'ACTUAL_ELAPSED_TIME', 'AIR_TIME', 'FLIGHTS', 'DISTANCE',\n",
       "       'DISTANCE_GROUP', 'CARRIER_DELAY', 'WEATHER_DELAY', 'NAS_DELAY',\n",
       "       'SECURITY_DELAY', 'LATE_AIRCRAFT_DELAY', 'Unnamed: 50'],\n",
       "      dtype='object')"
      ]
     },
     "execution_count": 78,
     "metadata": {},
     "output_type": "execute_result"
    }
   ],
   "source": [
    "df_winter.columns"
   ]
  },
  {
   "cell_type": "code",
   "execution_count": 80,
   "metadata": {},
   "outputs": [],
   "source": [
    "df_winter.rename(columns={'YEAR':'Year',\n",
    "                  'QUARTER':'Quarter',\n",
    "                  'MONTH':'Month',\n",
    "                  'DAY_OF_MONTH':'DayOfMonth',\n",
    "                  'DAY_OF_WEEK':'DayOfWeek',\n",
    "                  'FL_DATE':'FlightDate',\n",
    "                  'OP_UNIQUE_CARRIER':'UniqueCarrier',\n",
    "                  'OP_CARRIER':'Carrier',\n",
    "                  'TAIL_NUM':'RegistrationNum',\n",
    "                  'OP_CARRIER_FL_NUM':'FlightNum'}\n",
    "          , inplace=True)"
   ]
  },
  {
   "cell_type": "code",
   "execution_count": 82,
   "metadata": {},
   "outputs": [
    {
     "data": {
      "text/html": [
       "<div>\n",
       "<style scoped>\n",
       "    .dataframe tbody tr th:only-of-type {\n",
       "        vertical-align: middle;\n",
       "    }\n",
       "\n",
       "    .dataframe tbody tr th {\n",
       "        vertical-align: top;\n",
       "    }\n",
       "\n",
       "    .dataframe thead th {\n",
       "        text-align: right;\n",
       "    }\n",
       "</style>\n",
       "<table border=\"1\" class=\"dataframe\">\n",
       "  <thead>\n",
       "    <tr style=\"text-align: right;\">\n",
       "      <th></th>\n",
       "      <th>ORIGIN_CITY_MARKET_ID</th>\n",
       "      <th>ORIGIN</th>\n",
       "      <th>ORIGIN_CITY_NAME</th>\n",
       "      <th>ORIGIN_STATE_ABR</th>\n",
       "      <th>ORIGIN_STATE_NM</th>\n",
       "      <th>ORIGIN_WAC</th>\n",
       "      <th>DEST_AIRPORT_ID</th>\n",
       "    </tr>\n",
       "  </thead>\n",
       "  <tbody>\n",
       "    <tr>\n",
       "      <th>0</th>\n",
       "      <td>32575</td>\n",
       "      <td>SNA</td>\n",
       "      <td>Santa Ana, CA</td>\n",
       "      <td>CA</td>\n",
       "      <td>California</td>\n",
       "      <td>91</td>\n",
       "      <td>10397</td>\n",
       "    </tr>\n",
       "    <tr>\n",
       "      <th>1</th>\n",
       "      <td>30423</td>\n",
       "      <td>AUS</td>\n",
       "      <td>Austin, TX</td>\n",
       "      <td>TX</td>\n",
       "      <td>Texas</td>\n",
       "      <td>74</td>\n",
       "      <td>10397</td>\n",
       "    </tr>\n",
       "    <tr>\n",
       "      <th>2</th>\n",
       "      <td>31703</td>\n",
       "      <td>JFK</td>\n",
       "      <td>New York, NY</td>\n",
       "      <td>NY</td>\n",
       "      <td>New York</td>\n",
       "      <td>22</td>\n",
       "      <td>11697</td>\n",
       "    </tr>\n",
       "  </tbody>\n",
       "</table>\n",
       "</div>"
      ],
      "text/plain": [
       "   ORIGIN_CITY_MARKET_ID ORIGIN ORIGIN_CITY_NAME ORIGIN_STATE_ABR  \\\n",
       "0                  32575    SNA    Santa Ana, CA               CA   \n",
       "1                  30423    AUS       Austin, TX               TX   \n",
       "2                  31703    JFK     New York, NY               NY   \n",
       "\n",
       "  ORIGIN_STATE_NM  ORIGIN_WAC  DEST_AIRPORT_ID  \n",
       "0      California          91            10397  \n",
       "1           Texas          74            10397  \n",
       "2        New York          22            11697  "
      ]
     },
     "execution_count": 82,
     "metadata": {},
     "output_type": "execute_result"
    }
   ],
   "source": [
    "#Origin related columns\n",
    "df_origin = df_winter.iloc[:,[11,12,13,14,15,16,17]]\n",
    "df_origin.head(3)"
   ]
  },
  {
   "cell_type": "code",
   "execution_count": 83,
   "metadata": {},
   "outputs": [],
   "source": [
    "df_winter.rename(columns={'ORIGIN_AIRPORT_ID':'OriginAirport_IDNum', \n",
    "                  'ORIGIN_CITY_MARKET_ID':'OriginCityMarket_IDNum', \n",
    "                  'ORIGIN':'Origin_IATA',\n",
    "                  'ORIGIN_CITY_NAME':'OriginCityName',\n",
    "                  'ORIGIN_STATE_ABR':'OriginState_ID',\n",
    "                  'ORIGIN_STATE_NM':'OriginStateName',\n",
    "                  'ORIGIN_WAC':'OriginWAC'}\n",
    "          , inplace=True)"
   ]
  },
  {
   "cell_type": "code",
   "execution_count": 85,
   "metadata": {},
   "outputs": [
    {
     "data": {
      "text/html": [
       "<div>\n",
       "<style scoped>\n",
       "    .dataframe tbody tr th:only-of-type {\n",
       "        vertical-align: middle;\n",
       "    }\n",
       "\n",
       "    .dataframe tbody tr th {\n",
       "        vertical-align: top;\n",
       "    }\n",
       "\n",
       "    .dataframe thead th {\n",
       "        text-align: right;\n",
       "    }\n",
       "</style>\n",
       "<table border=\"1\" class=\"dataframe\">\n",
       "  <thead>\n",
       "    <tr style=\"text-align: right;\">\n",
       "      <th></th>\n",
       "      <th>DEST_AIRPORT_ID</th>\n",
       "      <th>DEST_CITY_MARKET_ID</th>\n",
       "      <th>DEST</th>\n",
       "      <th>DEST_CITY_NAME</th>\n",
       "      <th>DEST_STATE_ABR</th>\n",
       "      <th>DEST_STATE_NM</th>\n",
       "      <th>DEST_WAC</th>\n",
       "    </tr>\n",
       "  </thead>\n",
       "  <tbody>\n",
       "    <tr>\n",
       "      <th>0</th>\n",
       "      <td>10397</td>\n",
       "      <td>30397</td>\n",
       "      <td>ATL</td>\n",
       "      <td>Atlanta, GA</td>\n",
       "      <td>GA</td>\n",
       "      <td>Georgia</td>\n",
       "      <td>34</td>\n",
       "    </tr>\n",
       "    <tr>\n",
       "      <th>1</th>\n",
       "      <td>10397</td>\n",
       "      <td>30397</td>\n",
       "      <td>ATL</td>\n",
       "      <td>Atlanta, GA</td>\n",
       "      <td>GA</td>\n",
       "      <td>Georgia</td>\n",
       "      <td>34</td>\n",
       "    </tr>\n",
       "    <tr>\n",
       "      <th>2</th>\n",
       "      <td>11697</td>\n",
       "      <td>32467</td>\n",
       "      <td>FLL</td>\n",
       "      <td>Fort Lauderdale, FL</td>\n",
       "      <td>FL</td>\n",
       "      <td>Florida</td>\n",
       "      <td>33</td>\n",
       "    </tr>\n",
       "  </tbody>\n",
       "</table>\n",
       "</div>"
      ],
      "text/plain": [
       "   DEST_AIRPORT_ID  DEST_CITY_MARKET_ID DEST       DEST_CITY_NAME  \\\n",
       "0            10397                30397  ATL          Atlanta, GA   \n",
       "1            10397                30397  ATL          Atlanta, GA   \n",
       "2            11697                32467  FLL  Fort Lauderdale, FL   \n",
       "\n",
       "  DEST_STATE_ABR DEST_STATE_NM  DEST_WAC  \n",
       "0             GA       Georgia        34  \n",
       "1             GA       Georgia        34  \n",
       "2             FL       Florida        33  "
      ]
     },
     "execution_count": 85,
     "metadata": {},
     "output_type": "execute_result"
    }
   ],
   "source": [
    "#Destination related columns\n",
    "df_destination = df_winter.iloc[:,[17,18,19,20,21,22,23]]\n",
    "df_destination.head(3)"
   ]
  },
  {
   "cell_type": "code",
   "execution_count": 86,
   "metadata": {},
   "outputs": [],
   "source": [
    "df_winter.rename(columns={'DEST_AIRPORT_ID':'DestAirport_IDNum',\n",
    "                  'DEST_CITY_MARKET_ID':'DestCityMarket_IDNum',\n",
    "                  'DEST':'Dest_IATA',\n",
    "                  'DEST_CITY_NAME':'DestCityName',\n",
    "                  'DEST_STATE_ABR':'DestState_ID',\n",
    "                  'DEST_STATE_NM':'DestStateName',\n",
    "                  'DEST_WAC':'DestWAC'}\n",
    "          , inplace=True)"
   ]
  },
  {
   "cell_type": "code",
   "execution_count": 93,
   "metadata": {},
   "outputs": [
    {
     "data": {
      "text/html": [
       "<div>\n",
       "<style scoped>\n",
       "    .dataframe tbody tr th:only-of-type {\n",
       "        vertical-align: middle;\n",
       "    }\n",
       "\n",
       "    .dataframe tbody tr th {\n",
       "        vertical-align: top;\n",
       "    }\n",
       "\n",
       "    .dataframe thead th {\n",
       "        text-align: right;\n",
       "    }\n",
       "</style>\n",
       "<table border=\"1\" class=\"dataframe\">\n",
       "  <thead>\n",
       "    <tr style=\"text-align: right;\">\n",
       "      <th></th>\n",
       "      <th>CRSDepTime</th>\n",
       "      <th>DepTime</th>\n",
       "      <th>DepDelayMin</th>\n",
       "      <th>DepDelayMin0</th>\n",
       "      <th>DepDelay_Ind15</th>\n",
       "      <th>DepDelayGroup_Int15</th>\n",
       "      <th>ArrTime</th>\n",
       "      <th>ArrDelayMin</th>\n",
       "      <th>ArrDelayMin0</th>\n",
       "      <th>ArrDelay_Ind15</th>\n",
       "      <th>ArrDelayGroup_Int15</th>\n",
       "    </tr>\n",
       "  </thead>\n",
       "  <tbody>\n",
       "    <tr>\n",
       "      <th>0</th>\n",
       "      <td>645</td>\n",
       "      <td>655.0</td>\n",
       "      <td>10.0</td>\n",
       "      <td>10.0</td>\n",
       "      <td>0.0</td>\n",
       "      <td>0.0</td>\n",
       "      <td>1339.0</td>\n",
       "      <td>-17.0</td>\n",
       "      <td>0.0</td>\n",
       "      <td>0.0</td>\n",
       "      <td>-2.0</td>\n",
       "    </tr>\n",
       "    <tr>\n",
       "      <th>1</th>\n",
       "      <td>700</td>\n",
       "      <td>656.0</td>\n",
       "      <td>-4.0</td>\n",
       "      <td>0.0</td>\n",
       "      <td>0.0</td>\n",
       "      <td>-1.0</td>\n",
       "      <td>951.0</td>\n",
       "      <td>-17.0</td>\n",
       "      <td>0.0</td>\n",
       "      <td>0.0</td>\n",
       "      <td>-2.0</td>\n",
       "    </tr>\n",
       "    <tr>\n",
       "      <th>2</th>\n",
       "      <td>1133</td>\n",
       "      <td>1129.0</td>\n",
       "      <td>-4.0</td>\n",
       "      <td>0.0</td>\n",
       "      <td>0.0</td>\n",
       "      <td>-1.0</td>\n",
       "      <td>1429.0</td>\n",
       "      <td>-20.0</td>\n",
       "      <td>0.0</td>\n",
       "      <td>0.0</td>\n",
       "      <td>-2.0</td>\n",
       "    </tr>\n",
       "  </tbody>\n",
       "</table>\n",
       "</div>"
      ],
      "text/plain": [
       "   CRSDepTime  DepTime  DepDelayMin  DepDelayMin0  DepDelay_Ind15  \\\n",
       "0         645    655.0         10.0          10.0             0.0   \n",
       "1         700    656.0         -4.0           0.0             0.0   \n",
       "2        1133   1129.0         -4.0           0.0             0.0   \n",
       "\n",
       "   DepDelayGroup_Int15  ArrTime  ArrDelayMin  ArrDelayMin0  ArrDelay_Ind15  \\\n",
       "0                  0.0   1339.0        -17.0           0.0             0.0   \n",
       "1                 -1.0    951.0        -17.0           0.0             0.0   \n",
       "2                 -1.0   1429.0        -20.0           0.0             0.0   \n",
       "\n",
       "   ArrDelayGroup_Int15  \n",
       "0                 -2.0  \n",
       "1                 -2.0  \n",
       "2                 -2.0  "
      ]
     },
     "execution_count": 93,
     "metadata": {},
     "output_type": "execute_result"
    }
   ],
   "source": [
    "#Departure and arrival related columns\n",
    "df_dep_arr = df_winter.iloc[:,[24,25,26,27,28,29,31,32,33,34,35]]\n",
    "df_dep_arr.head(3)"
   ]
  },
  {
   "cell_type": "code",
   "execution_count": 90,
   "metadata": {},
   "outputs": [],
   "source": [
    "df_winter.rename(columns={'CRS_DEP_TIME':'CRSDepTime',\n",
    "                  'DEP_TIME':'DepTime',\n",
    "                  'DEP_DELAY':'DepDelayMin',\n",
    "                  'DEP_DELAY_NEW':'DepDelayMin0',\n",
    "                  'DEP_DEL15':'DepDelay_Ind15',\n",
    "                  'DEP_DELAY_GROUP':'DepDelayGroup_Int15',\n",
    "                  'CRS_ARR_TIME':'CRSArrTime',\n",
    "                  'ARR_TIME':'ArrTime',\n",
    "                  'ARR_DELAY':'ArrDelayMin',\n",
    "                  'ARR_DELAY_NEW':'ArrDelayMin0',\n",
    "                  'ARR_DEL15':'ArrDelay_Ind15',\n",
    "                  'ARR_DELAY_GROUP':'ArrDelayGroup_Int15'}\n",
    "          , inplace=True)"
   ]
  },
  {
   "cell_type": "code",
   "execution_count": 94,
   "metadata": {},
   "outputs": [
    {
     "data": {
      "text/html": [
       "<div>\n",
       "<style scoped>\n",
       "    .dataframe tbody tr th:only-of-type {\n",
       "        vertical-align: middle;\n",
       "    }\n",
       "\n",
       "    .dataframe tbody tr th {\n",
       "        vertical-align: top;\n",
       "    }\n",
       "\n",
       "    .dataframe thead th {\n",
       "        text-align: right;\n",
       "    }\n",
       "</style>\n",
       "<table border=\"1\" class=\"dataframe\">\n",
       "  <thead>\n",
       "    <tr style=\"text-align: right;\">\n",
       "      <th></th>\n",
       "      <th>CANCELLED</th>\n",
       "      <th>CANCELLATION_CODE</th>\n",
       "      <th>DIVERTED</th>\n",
       "    </tr>\n",
       "  </thead>\n",
       "  <tbody>\n",
       "    <tr>\n",
       "      <th>0</th>\n",
       "      <td>0.0</td>\n",
       "      <td>NaN</td>\n",
       "      <td>0.0</td>\n",
       "    </tr>\n",
       "    <tr>\n",
       "      <th>1</th>\n",
       "      <td>0.0</td>\n",
       "      <td>NaN</td>\n",
       "      <td>0.0</td>\n",
       "    </tr>\n",
       "    <tr>\n",
       "      <th>2</th>\n",
       "      <td>0.0</td>\n",
       "      <td>NaN</td>\n",
       "      <td>0.0</td>\n",
       "    </tr>\n",
       "  </tbody>\n",
       "</table>\n",
       "</div>"
      ],
      "text/plain": [
       "   CANCELLED CANCELLATION_CODE  DIVERTED\n",
       "0        0.0               NaN       0.0\n",
       "1        0.0               NaN       0.0\n",
       "2        0.0               NaN       0.0"
      ]
     },
     "execution_count": 94,
     "metadata": {},
     "output_type": "execute_result"
    }
   ],
   "source": [
    "#Cancellations related columns\n",
    "df_cancel = df_winter.iloc[:,[36,37,38]]\n",
    "df_cancel.head(3)"
   ]
  },
  {
   "cell_type": "code",
   "execution_count": 97,
   "metadata": {},
   "outputs": [],
   "source": [
    "df_winter.rename(columns={'CANCELLED':'Cancelled',\n",
    "                  'CANCELLATION_CODE':'CancellationCode',\n",
    "                  'DIVERTED':'Diverted'}\n",
    "          , inplace=True)"
   ]
  },
  {
   "cell_type": "code",
   "execution_count": 98,
   "metadata": {},
   "outputs": [
    {
     "data": {
      "text/html": [
       "<div>\n",
       "<style scoped>\n",
       "    .dataframe tbody tr th:only-of-type {\n",
       "        vertical-align: middle;\n",
       "    }\n",
       "\n",
       "    .dataframe tbody tr th {\n",
       "        vertical-align: top;\n",
       "    }\n",
       "\n",
       "    .dataframe thead th {\n",
       "        text-align: right;\n",
       "    }\n",
       "</style>\n",
       "<table border=\"1\" class=\"dataframe\">\n",
       "  <thead>\n",
       "    <tr style=\"text-align: right;\">\n",
       "      <th></th>\n",
       "      <th>CRS_ELAPSED_TIME</th>\n",
       "      <th>ACTUAL_ELAPSED_TIME</th>\n",
       "      <th>AIR_TIME</th>\n",
       "      <th>FLIGHTS</th>\n",
       "      <th>DISTANCE</th>\n",
       "      <th>DISTANCE_GROUP</th>\n",
       "      <th>CARRIER_DELAY</th>\n",
       "      <th>WEATHER_DELAY</th>\n",
       "      <th>NAS_DELAY</th>\n",
       "      <th>SECURITY_DELAY</th>\n",
       "      <th>LATE_AIRCRAFT_DELAY</th>\n",
       "      <th>Unnamed: 50</th>\n",
       "    </tr>\n",
       "  </thead>\n",
       "  <tbody>\n",
       "    <tr>\n",
       "      <th>0</th>\n",
       "      <td>251.0</td>\n",
       "      <td>224.0</td>\n",
       "      <td>200.0</td>\n",
       "      <td>1.0</td>\n",
       "      <td>1919.0</td>\n",
       "      <td>8</td>\n",
       "      <td>NaN</td>\n",
       "      <td>NaN</td>\n",
       "      <td>NaN</td>\n",
       "      <td>NaN</td>\n",
       "      <td>NaN</td>\n",
       "      <td>NaN</td>\n",
       "    </tr>\n",
       "    <tr>\n",
       "      <th>1</th>\n",
       "      <td>128.0</td>\n",
       "      <td>115.0</td>\n",
       "      <td>97.0</td>\n",
       "      <td>1.0</td>\n",
       "      <td>813.0</td>\n",
       "      <td>4</td>\n",
       "      <td>NaN</td>\n",
       "      <td>NaN</td>\n",
       "      <td>NaN</td>\n",
       "      <td>NaN</td>\n",
       "      <td>NaN</td>\n",
       "      <td>NaN</td>\n",
       "    </tr>\n",
       "    <tr>\n",
       "      <th>2</th>\n",
       "      <td>196.0</td>\n",
       "      <td>180.0</td>\n",
       "      <td>152.0</td>\n",
       "      <td>1.0</td>\n",
       "      <td>1069.0</td>\n",
       "      <td>5</td>\n",
       "      <td>NaN</td>\n",
       "      <td>NaN</td>\n",
       "      <td>NaN</td>\n",
       "      <td>NaN</td>\n",
       "      <td>NaN</td>\n",
       "      <td>NaN</td>\n",
       "    </tr>\n",
       "  </tbody>\n",
       "</table>\n",
       "</div>"
      ],
      "text/plain": [
       "   CRS_ELAPSED_TIME  ACTUAL_ELAPSED_TIME  AIR_TIME  FLIGHTS  DISTANCE  \\\n",
       "0             251.0                224.0     200.0      1.0    1919.0   \n",
       "1             128.0                115.0      97.0      1.0     813.0   \n",
       "2             196.0                180.0     152.0      1.0    1069.0   \n",
       "\n",
       "   DISTANCE_GROUP  CARRIER_DELAY  WEATHER_DELAY  NAS_DELAY  SECURITY_DELAY  \\\n",
       "0               8            NaN            NaN        NaN             NaN   \n",
       "1               4            NaN            NaN        NaN             NaN   \n",
       "2               5            NaN            NaN        NaN             NaN   \n",
       "\n",
       "   LATE_AIRCRAFT_DELAY  Unnamed: 50  \n",
       "0                  NaN          NaN  \n",
       "1                  NaN          NaN  \n",
       "2                  NaN          NaN  "
      ]
     },
     "execution_count": 98,
     "metadata": {},
     "output_type": "execute_result"
    }
   ],
   "source": [
    "#Other Flight & Delay related columns\n",
    "df_other = df_winter.iloc[:,[39,40,41,42,43,44,45,46,47,48,49,50]]\n",
    "df_other.head(3)"
   ]
  },
  {
   "cell_type": "code",
   "execution_count": 99,
   "metadata": {},
   "outputs": [],
   "source": [
    "df_winter.rename(columns={'CRS_ELAPSED_TIME':'CRSElapsedTimeMin',\n",
    "                  'ACTUAL_ELAPSED_TIME':'ActualElapsedTimeMin',\n",
    "                  'AIR_TIME':'FlightTimeMin',\n",
    "                  'FLIGHTS':'NumberOfFlights',\n",
    "                  'DISTANCE':'DistanceMil',\n",
    "                  'DISTANCE_GROUP':'Distance_Int250Mil',\n",
    "                  'CARRIER_DELAY':'CarrierDelayMin',\n",
    "                  'WEATHER_DELAY':'WeatherDelayMin',\n",
    "                  'NAS_DELAY':'NASDelayMin',\n",
    "                  'SECURITY_DELAY':'SecurityDelayMin',\n",
    "                  'LATE_AIRCRAFT_DELAY':'LateAircraftDelay'}\n",
    "          , inplace=True)"
   ]
  },
  {
   "cell_type": "code",
   "execution_count": 101,
   "metadata": {
    "scrolled": true
   },
   "outputs": [
    {
     "data": {
      "text/plain": [
       "Index(['Year', 'Quarter', 'Month', 'DayOfMonth', 'DayOfWeek', 'FlightDate',\n",
       "       'UniqueCarrier', 'Carrier', 'RegistrationNum', 'FlightNum',\n",
       "       'OriginAirport_IDNum', 'OriginCityMarket_IDNum', 'Origin_IATA',\n",
       "       'OriginCityName', 'OriginState_ID', 'OriginStateName', 'OriginWAC',\n",
       "       'DestAirport_IDNum', 'DestCityMarket_IDNum', 'Dest_IATA',\n",
       "       'DestCityName', 'DestState_ID', 'DestStateName', 'DestWAC',\n",
       "       'CRSDepTime', 'DepTime', 'DepDelayMin', 'DepDelayMin0',\n",
       "       'DepDelay_Ind15', 'DepDelayGroup_Int15', 'CRSArrTime', 'ArrTime',\n",
       "       'ArrDelayMin', 'ArrDelayMin0', 'ArrDelay_Ind15', 'ArrDelayGroup_Int15',\n",
       "       'Cancelled', 'CancellationCode', 'Diverted', 'CRSElapsedTimeMin',\n",
       "       'ActualElapsedTimeMin', 'FlightTimeMin', 'NumberOfFlights',\n",
       "       'DistanceMil', 'Distance_Int250Mil', 'CarrierDelayMin',\n",
       "       'WeatherDelayMin', 'NASDelayMin', 'SecurityDelayMin',\n",
       "       'LateAircraftDelay', 'Unnamed: 50'],\n",
       "      dtype='object')"
      ]
     },
     "execution_count": 101,
     "metadata": {},
     "output_type": "execute_result"
    }
   ],
   "source": [
    "df_winter.columns"
   ]
  },
  {
   "cell_type": "markdown",
   "metadata": {},
   "source": [
    "##### Changing Date Format: DepTime and ArrTime"
   ]
  },
  {
   "cell_type": "code",
   "execution_count": 107,
   "metadata": {},
   "outputs": [
    {
     "data": {
      "text/html": [
       "<div>\n",
       "<style scoped>\n",
       "    .dataframe tbody tr th:only-of-type {\n",
       "        vertical-align: middle;\n",
       "    }\n",
       "\n",
       "    .dataframe tbody tr th {\n",
       "        vertical-align: top;\n",
       "    }\n",
       "\n",
       "    .dataframe thead th {\n",
       "        text-align: right;\n",
       "    }\n",
       "</style>\n",
       "<table border=\"1\" class=\"dataframe\">\n",
       "  <thead>\n",
       "    <tr style=\"text-align: right;\">\n",
       "      <th></th>\n",
       "      <th>DepTime</th>\n",
       "      <th>ArrTime</th>\n",
       "      <th>FlightDate</th>\n",
       "    </tr>\n",
       "  </thead>\n",
       "  <tbody>\n",
       "    <tr>\n",
       "      <th>0</th>\n",
       "      <td>655.0</td>\n",
       "      <td>1339.0</td>\n",
       "      <td>2018-12-06</td>\n",
       "    </tr>\n",
       "    <tr>\n",
       "      <th>1</th>\n",
       "      <td>656.0</td>\n",
       "      <td>951.0</td>\n",
       "      <td>2018-12-06</td>\n",
       "    </tr>\n",
       "    <tr>\n",
       "      <th>2</th>\n",
       "      <td>1129.0</td>\n",
       "      <td>1429.0</td>\n",
       "      <td>2018-12-06</td>\n",
       "    </tr>\n",
       "    <tr>\n",
       "      <th>3</th>\n",
       "      <td>724.0</td>\n",
       "      <td>944.0</td>\n",
       "      <td>2018-12-06</td>\n",
       "    </tr>\n",
       "    <tr>\n",
       "      <th>4</th>\n",
       "      <td>1034.0</td>\n",
       "      <td>1300.0</td>\n",
       "      <td>2018-12-06</td>\n",
       "    </tr>\n",
       "  </tbody>\n",
       "</table>\n",
       "</div>"
      ],
      "text/plain": [
       "   DepTime  ArrTime  FlightDate\n",
       "0    655.0   1339.0  2018-12-06\n",
       "1    656.0    951.0  2018-12-06\n",
       "2   1129.0   1429.0  2018-12-06\n",
       "3    724.0    944.0  2018-12-06\n",
       "4   1034.0   1300.0  2018-12-06"
      ]
     },
     "execution_count": 107,
     "metadata": {},
     "output_type": "execute_result"
    }
   ],
   "source": [
    "df_time = df_winter[['DepTime', 'ArrTime', 'FlightDate']]\n",
    "df_time.head(5)"
   ]
  },
  {
   "cell_type": "code",
   "execution_count": 104,
   "metadata": {},
   "outputs": [
    {
     "data": {
      "text/plain": [
       "DepTime       float64\n",
       "ArrTime       float64\n",
       "FlightDate     object\n",
       "dtype: object"
      ]
     },
     "execution_count": 104,
     "metadata": {},
     "output_type": "execute_result"
    }
   ],
   "source": [
    "df_time.dtypes"
   ]
  },
  {
   "cell_type": "markdown",
   "metadata": {},
   "source": [
    "As we can see, both DepTime and ArrTime are float types. Therefore, we will create a function that will enable us to parse our int hours into a reasonable format (\"HH:MM\").  "
   ]
  },
  {
   "cell_type": "code",
   "execution_count": 106,
   "metadata": {},
   "outputs": [],
   "source": [
    "def Deptime_to_String(deptime):\n",
    "   \n",
    "    #Using 'int' we only keep the integer value of the division, which represents the hour\n",
    "    #Applying '%' Modulus, results (hours) equals to '24' are avoided, and returned as '00'\n",
    "    dephour = int(deptime / 100) % 24\n",
    "    depmin = int(deptime % 100)\n",
    "\n",
    "    return '%02d:%02d' % (dephour, depmin)\n",
    "\n",
    "def Arrtime_to_String(arrtime):\n",
    "    \n",
    "    #Using 'int' we only keep the integer value of the division, which represents the hour\n",
    "    #Applying '%' Modulus, results (hours) equals to '24' are avoided, and returned as '00'\n",
    "    arrhour = int(arrtime / 100) % 24 \n",
    "    arrmin = int(arrtime % 100)\n",
    "\n",
    "    return '%02d:%02d' % (arrhour, arrmin)"
   ]
  },
  {
   "cell_type": "code",
   "execution_count": 108,
   "metadata": {},
   "outputs": [
    {
     "data": {
      "text/plain": [
       "('06:55', '13:39')"
      ]
     },
     "execution_count": 108,
     "metadata": {},
     "output_type": "execute_result"
    }
   ],
   "source": [
    "#We test the functions created with the first flight of the previous shown\n",
    "Deptime_to_String(655.0), Arrtime_to_String(1339.0)"
   ]
  },
  {
   "cell_type": "code",
   "execution_count": 109,
   "metadata": {},
   "outputs": [],
   "source": [
    "#On previous tries I had this error - \"ValueError: cannot convert float NaN to integer\"\n",
    "#Therefore, I chose to remove the missing values with dropna\n",
    "deptime = df_winter['DepTime'].dropna().apply(Deptime_to_String)\n",
    "arrtime = df_winter['ArrTime'].dropna().apply(Arrtime_to_String)"
   ]
  },
  {
   "cell_type": "code",
   "execution_count": 111,
   "metadata": {},
   "outputs": [],
   "source": [
    "#Let's create 2 new columns with the time in the correct format\n",
    "df_winter['DepTime2'] = deptime\n",
    "df_winter['ArrTime2'] = arrtime"
   ]
  },
  {
   "cell_type": "code",
   "execution_count": 113,
   "metadata": {},
   "outputs": [
    {
     "data": {
      "text/plain": [
       "1562923    22:37\n",
       "Name: DepTime2, dtype: object"
      ]
     },
     "execution_count": 113,
     "metadata": {},
     "output_type": "execute_result"
    }
   ],
   "source": [
    "#Test\n",
    "df_winter['DepTime2'].sample()"
   ]
  },
  {
   "cell_type": "code",
   "execution_count": 114,
   "metadata": {},
   "outputs": [
    {
     "data": {
      "text/plain": [
       "476596    18:11\n",
       "Name: ArrTime2, dtype: object"
      ]
     },
     "execution_count": 114,
     "metadata": {},
     "output_type": "execute_result"
    }
   ],
   "source": [
    "#Test\n",
    "df_winter['ArrTime2'].sample()"
   ]
  },
  {
   "cell_type": "code",
   "execution_count": 115,
   "metadata": {},
   "outputs": [
    {
     "data": {
      "text/plain": [
       "1508371   2019-02-15 22:27:00\n",
       "160680    2018-12-11 13:45:00\n",
       "68236     2018-12-20 19:25:00\n",
       "1137590   2019-01-30 08:33:00\n",
       "1584353                   NaT\n",
       "Name: DepDateTime, dtype: datetime64[ns]"
      ]
     },
     "execution_count": 115,
     "metadata": {},
     "output_type": "execute_result"
    }
   ],
   "source": [
    "#Because to_datetime, the Date has to be positioned prior to the Time\n",
    "dep_datetime = pd.to_datetime(df_winter['FlightDate']+' '+df_winter['DepTime2'])\n",
    "df_winter['DepDateTime'] = dep_datetime\n",
    "df_winter['DepDateTime'].sample(5) #Test"
   ]
  },
  {
   "cell_type": "code",
   "execution_count": 116,
   "metadata": {},
   "outputs": [
    {
     "data": {
      "text/plain": [
       "560184    2018-12-03 10:46:00\n",
       "1335840   2019-02-24 10:02:00\n",
       "669989    2019-01-23 16:06:00\n",
       "1013731   2019-01-07 07:20:00\n",
       "633906    2019-01-17 19:11:00\n",
       "Name: ArrDateTime, dtype: datetime64[ns]"
      ]
     },
     "execution_count": 116,
     "metadata": {},
     "output_type": "execute_result"
    }
   ],
   "source": [
    "arr_datetime = pd.to_datetime(df_winter['FlightDate']+' '+df_winter['ArrTime2'])\n",
    "df_winter['ArrDateTime'] = arr_datetime\n",
    "df_winter['ArrDateTime'].sample(5) #Test"
   ]
  },
  {
   "cell_type": "code",
   "execution_count": 117,
   "metadata": {},
   "outputs": [],
   "source": [
    "df = df_winter.drop(['DepTime', 'DepTime2', 'ArrTime', 'ArrTime2', 'FlightDate'], axis=1)"
   ]
  },
  {
   "cell_type": "code",
   "execution_count": 118,
   "metadata": {},
   "outputs": [
    {
     "data": {
      "text/html": [
       "<div>\n",
       "<style scoped>\n",
       "    .dataframe tbody tr th:only-of-type {\n",
       "        vertical-align: middle;\n",
       "    }\n",
       "\n",
       "    .dataframe tbody tr th {\n",
       "        vertical-align: top;\n",
       "    }\n",
       "\n",
       "    .dataframe thead th {\n",
       "        text-align: right;\n",
       "    }\n",
       "</style>\n",
       "<table border=\"1\" class=\"dataframe\">\n",
       "  <thead>\n",
       "    <tr style=\"text-align: right;\">\n",
       "      <th></th>\n",
       "      <th>DepDateTime</th>\n",
       "      <th>ArrDateTime</th>\n",
       "    </tr>\n",
       "  </thead>\n",
       "  <tbody>\n",
       "    <tr>\n",
       "      <th>0</th>\n",
       "      <td>2018-12-06 06:55:00</td>\n",
       "      <td>2018-12-06 13:39:00</td>\n",
       "    </tr>\n",
       "    <tr>\n",
       "      <th>1</th>\n",
       "      <td>2018-12-06 06:56:00</td>\n",
       "      <td>2018-12-06 09:51:00</td>\n",
       "    </tr>\n",
       "    <tr>\n",
       "      <th>2</th>\n",
       "      <td>2018-12-06 11:29:00</td>\n",
       "      <td>2018-12-06 14:29:00</td>\n",
       "    </tr>\n",
       "    <tr>\n",
       "      <th>3</th>\n",
       "      <td>2018-12-06 07:24:00</td>\n",
       "      <td>2018-12-06 09:44:00</td>\n",
       "    </tr>\n",
       "    <tr>\n",
       "      <th>4</th>\n",
       "      <td>2018-12-06 10:34:00</td>\n",
       "      <td>2018-12-06 13:00:00</td>\n",
       "    </tr>\n",
       "  </tbody>\n",
       "</table>\n",
       "</div>"
      ],
      "text/plain": [
       "          DepDateTime         ArrDateTime\n",
       "0 2018-12-06 06:55:00 2018-12-06 13:39:00\n",
       "1 2018-12-06 06:56:00 2018-12-06 09:51:00\n",
       "2 2018-12-06 11:29:00 2018-12-06 14:29:00\n",
       "3 2018-12-06 07:24:00 2018-12-06 09:44:00\n",
       "4 2018-12-06 10:34:00 2018-12-06 13:00:00"
      ]
     },
     "execution_count": 118,
     "metadata": {},
     "output_type": "execute_result"
    }
   ],
   "source": [
    "#Last check\n",
    "df_time = df_winter[['DepDateTime', 'ArrDateTime']]\n",
    "df_time.head()"
   ]
  },
  {
   "cell_type": "code",
   "execution_count": null,
   "metadata": {},
   "outputs": [],
   "source": []
  },
  {
   "cell_type": "code",
   "execution_count": null,
   "metadata": {},
   "outputs": [],
   "source": []
  },
  {
   "cell_type": "code",
   "execution_count": null,
   "metadata": {},
   "outputs": [],
   "source": []
  },
  {
   "cell_type": "code",
   "execution_count": null,
   "metadata": {},
   "outputs": [],
   "source": []
  },
  {
   "cell_type": "code",
   "execution_count": null,
   "metadata": {},
   "outputs": [],
   "source": []
  },
  {
   "cell_type": "code",
   "execution_count": null,
   "metadata": {},
   "outputs": [],
   "source": []
  },
  {
   "cell_type": "code",
   "execution_count": null,
   "metadata": {},
   "outputs": [],
   "source": []
  },
  {
   "cell_type": "code",
   "execution_count": null,
   "metadata": {},
   "outputs": [],
   "source": []
  },
  {
   "cell_type": "code",
   "execution_count": null,
   "metadata": {},
   "outputs": [],
   "source": []
  },
  {
   "cell_type": "code",
   "execution_count": null,
   "metadata": {},
   "outputs": [],
   "source": []
  },
  {
   "cell_type": "markdown",
   "metadata": {},
   "source": [
    "### Exporting the created Dataset\n",
    "We will export the created dataset to a CSV file, that we will store in the Data folder. The reason to do this is for future usage of the created dataset; in my case, I will be using it for visualitzations in Tableau."
   ]
  },
  {
   "cell_type": "code",
   "execution_count": null,
   "metadata": {},
   "outputs": [],
   "source": [
    "#We will use the 'to_csv' function"
   ]
  }
 ],
 "metadata": {
  "kernelspec": {
   "display_name": "Python 3",
   "language": "python",
   "name": "python3"
  },
  "language_info": {
   "codemirror_mode": {
    "name": "ipython",
    "version": 3
   },
   "file_extension": ".py",
   "mimetype": "text/x-python",
   "name": "python",
   "nbconvert_exporter": "python",
   "pygments_lexer": "ipython3",
   "version": "3.7.1"
  }
 },
 "nbformat": 4,
 "nbformat_minor": 2
}
