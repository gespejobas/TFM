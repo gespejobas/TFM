{
 "cells": [
  {
   "cell_type": "markdown",
   "metadata": {},
   "source": [
    "# US Flight Delay Analysis - Winter Season (2018-2019)\n",
    "This notebook contains the analysis of the \"On-Time : Reporting Carrier On-Time Performance\" dataset, for: December 2018, January 2019 and February 2019.\n",
    "\n",
    "In terms of technology, we will use pandas for the data manipulation and analysis.\n",
    "\n",
    "Each phase of the process followed is indicated by cronological order."
   ]
  },
  {
   "cell_type": "markdown",
   "metadata": {},
   "source": [
    "### Imports:"
   ]
  },
  {
   "cell_type": "code",
   "execution_count": 100,
   "metadata": {},
   "outputs": [],
   "source": [
    "import pandas as pd\n",
    "from pandas import DataFrame\n",
    "import numpy as np\n",
    "import os\n",
    "\n",
    "#Visualitzation\n",
    "import matplotlib.pyplot as plt\n",
    "import seaborn as sbn"
   ]
  },
  {
   "cell_type": "markdown",
   "metadata": {},
   "source": [
    "# 01. Data Loading"
   ]
  },
  {
   "cell_type": "code",
   "execution_count": 2,
   "metadata": {},
   "outputs": [
    {
     "data": {
      "text/html": [
       "<div>\n",
       "<style scoped>\n",
       "    .dataframe tbody tr th:only-of-type {\n",
       "        vertical-align: middle;\n",
       "    }\n",
       "\n",
       "    .dataframe tbody tr th {\n",
       "        vertical-align: top;\n",
       "    }\n",
       "\n",
       "    .dataframe thead th {\n",
       "        text-align: right;\n",
       "    }\n",
       "</style>\n",
       "<table border=\"1\" class=\"dataframe\">\n",
       "  <thead>\n",
       "    <tr style=\"text-align: right;\">\n",
       "      <th></th>\n",
       "      <th>Unnamed: 0</th>\n",
       "      <th>Year</th>\n",
       "      <th>Quarter</th>\n",
       "      <th>Month</th>\n",
       "      <th>DayOfMonth</th>\n",
       "      <th>DayOfWeek</th>\n",
       "      <th>FlightDate</th>\n",
       "      <th>UniqueCarrier</th>\n",
       "      <th>Carrier</th>\n",
       "      <th>RegistrationNum</th>\n",
       "      <th>...</th>\n",
       "      <th>CRSElapsedTimeMin</th>\n",
       "      <th>ActualElapsedTimeMin</th>\n",
       "      <th>FlightTimeMin</th>\n",
       "      <th>NumberOfFlights</th>\n",
       "      <th>DistanceMil</th>\n",
       "      <th>Distance_Int250Mil</th>\n",
       "      <th>DepTime2</th>\n",
       "      <th>ArrTime2</th>\n",
       "      <th>DepDateTime</th>\n",
       "      <th>ArrDateTime</th>\n",
       "    </tr>\n",
       "  </thead>\n",
       "  <tbody>\n",
       "    <tr>\n",
       "      <th>1632430</th>\n",
       "      <td>1632430</td>\n",
       "      <td>2019</td>\n",
       "      <td>1</td>\n",
       "      <td>2</td>\n",
       "      <td>23</td>\n",
       "      <td>6</td>\n",
       "      <td>2019-02-23</td>\n",
       "      <td>DL</td>\n",
       "      <td>DL</td>\n",
       "      <td>N314DN</td>\n",
       "      <td>...</td>\n",
       "      <td>172.0</td>\n",
       "      <td>161.0</td>\n",
       "      <td>133.0</td>\n",
       "      <td>1.0</td>\n",
       "      <td>1069.0</td>\n",
       "      <td>5</td>\n",
       "      <td>07:23</td>\n",
       "      <td>10:04</td>\n",
       "      <td>2019-02-23 07:23:00</td>\n",
       "      <td>2019-02-23 10:04:00</td>\n",
       "    </tr>\n",
       "    <tr>\n",
       "      <th>865629</th>\n",
       "      <td>865629</td>\n",
       "      <td>2019</td>\n",
       "      <td>1</td>\n",
       "      <td>1</td>\n",
       "      <td>7</td>\n",
       "      <td>1</td>\n",
       "      <td>2019-01-07</td>\n",
       "      <td>AS</td>\n",
       "      <td>AS</td>\n",
       "      <td>N583AS</td>\n",
       "      <td>...</td>\n",
       "      <td>315.0</td>\n",
       "      <td>288.0</td>\n",
       "      <td>267.0</td>\n",
       "      <td>1.0</td>\n",
       "      <td>2486.0</td>\n",
       "      <td>10</td>\n",
       "      <td>17:42</td>\n",
       "      <td>00:30</td>\n",
       "      <td>2019-01-07 17:42:00</td>\n",
       "      <td>2019-01-07 00:30:00</td>\n",
       "    </tr>\n",
       "    <tr>\n",
       "      <th>648941</th>\n",
       "      <td>648941</td>\n",
       "      <td>2019</td>\n",
       "      <td>1</td>\n",
       "      <td>1</td>\n",
       "      <td>19</td>\n",
       "      <td>6</td>\n",
       "      <td>2019-01-19</td>\n",
       "      <td>MQ</td>\n",
       "      <td>MQ</td>\n",
       "      <td>N232NN</td>\n",
       "      <td>...</td>\n",
       "      <td>105.0</td>\n",
       "      <td>NaN</td>\n",
       "      <td>NaN</td>\n",
       "      <td>1.0</td>\n",
       "      <td>607.0</td>\n",
       "      <td>3</td>\n",
       "      <td>NaN</td>\n",
       "      <td>NaN</td>\n",
       "      <td>NaN</td>\n",
       "      <td>NaN</td>\n",
       "    </tr>\n",
       "    <tr>\n",
       "      <th>608929</th>\n",
       "      <td>608929</td>\n",
       "      <td>2019</td>\n",
       "      <td>1</td>\n",
       "      <td>1</td>\n",
       "      <td>30</td>\n",
       "      <td>3</td>\n",
       "      <td>2019-01-30</td>\n",
       "      <td>AA</td>\n",
       "      <td>AA</td>\n",
       "      <td>N137AA</td>\n",
       "      <td>...</td>\n",
       "      <td>283.0</td>\n",
       "      <td>295.0</td>\n",
       "      <td>238.0</td>\n",
       "      <td>1.0</td>\n",
       "      <td>1562.0</td>\n",
       "      <td>7</td>\n",
       "      <td>06:08</td>\n",
       "      <td>10:03</td>\n",
       "      <td>2019-01-30 06:08:00</td>\n",
       "      <td>2019-01-30 10:03:00</td>\n",
       "    </tr>\n",
       "    <tr>\n",
       "      <th>1481577</th>\n",
       "      <td>1481577</td>\n",
       "      <td>2019</td>\n",
       "      <td>1</td>\n",
       "      <td>2</td>\n",
       "      <td>10</td>\n",
       "      <td>7</td>\n",
       "      <td>2019-02-10</td>\n",
       "      <td>UA</td>\n",
       "      <td>UA</td>\n",
       "      <td>N646UA</td>\n",
       "      <td>...</td>\n",
       "      <td>197.0</td>\n",
       "      <td>191.0</td>\n",
       "      <td>162.0</td>\n",
       "      <td>1.0</td>\n",
       "      <td>1400.0</td>\n",
       "      <td>6</td>\n",
       "      <td>07:24</td>\n",
       "      <td>11:35</td>\n",
       "      <td>2019-02-10 07:24:00</td>\n",
       "      <td>2019-02-10 11:35:00</td>\n",
       "    </tr>\n",
       "  </tbody>\n",
       "</table>\n",
       "<p>5 rows × 49 columns</p>\n",
       "</div>"
      ],
      "text/plain": [
       "         Unnamed: 0  Year  Quarter  Month  DayOfMonth  DayOfWeek  FlightDate  \\\n",
       "1632430     1632430  2019        1      2          23          6  2019-02-23   \n",
       "865629       865629  2019        1      1           7          1  2019-01-07   \n",
       "648941       648941  2019        1      1          19          6  2019-01-19   \n",
       "608929       608929  2019        1      1          30          3  2019-01-30   \n",
       "1481577     1481577  2019        1      2          10          7  2019-02-10   \n",
       "\n",
       "        UniqueCarrier Carrier RegistrationNum         ...           \\\n",
       "1632430            DL      DL          N314DN         ...            \n",
       "865629             AS      AS          N583AS         ...            \n",
       "648941             MQ      MQ          N232NN         ...            \n",
       "608929             AA      AA          N137AA         ...            \n",
       "1481577            UA      UA          N646UA         ...            \n",
       "\n",
       "         CRSElapsedTimeMin  ActualElapsedTimeMin  FlightTimeMin  \\\n",
       "1632430              172.0                 161.0          133.0   \n",
       "865629               315.0                 288.0          267.0   \n",
       "648941               105.0                   NaN            NaN   \n",
       "608929               283.0                 295.0          238.0   \n",
       "1481577              197.0                 191.0          162.0   \n",
       "\n",
       "        NumberOfFlights DistanceMil Distance_Int250Mil DepTime2  ArrTime2  \\\n",
       "1632430             1.0      1069.0                  5    07:23     10:04   \n",
       "865629              1.0      2486.0                 10    17:42     00:30   \n",
       "648941              1.0       607.0                  3      NaN       NaN   \n",
       "608929              1.0      1562.0                  7    06:08     10:03   \n",
       "1481577             1.0      1400.0                  6    07:24     11:35   \n",
       "\n",
       "                 DepDateTime          ArrDateTime  \n",
       "1632430  2019-02-23 07:23:00  2019-02-23 10:04:00  \n",
       "865629   2019-01-07 17:42:00  2019-01-07 00:30:00  \n",
       "648941                   NaN                  NaN  \n",
       "608929   2019-01-30 06:08:00  2019-01-30 10:03:00  \n",
       "1481577  2019-02-10 07:24:00  2019-02-10 11:35:00  \n",
       "\n",
       "[5 rows x 49 columns]"
      ]
     },
     "execution_count": 2,
     "metadata": {},
     "output_type": "execute_result"
    }
   ],
   "source": [
    "#Winter Season dataset\n",
    "df = pd.read_csv('C:\\\\Users\\\\GerardEspejo\\\\Desktop\\\\TFM\\\\Data\\\\Winter_Season.csv')\n",
    "df.sample(5)"
   ]
  },
  {
   "cell_type": "markdown",
   "metadata": {},
   "source": [
    "# 02. Data Examination"
   ]
  },
  {
   "cell_type": "markdown",
   "metadata": {},
   "source": [
    "### Initial Exploratory"
   ]
  },
  {
   "cell_type": "code",
   "execution_count": 3,
   "metadata": {
    "scrolled": true
   },
   "outputs": [
    {
     "data": {
      "text/plain": [
       "Index(['Unnamed: 0', 'Year', 'Quarter', 'Month', 'DayOfMonth', 'DayOfWeek',\n",
       "       'FlightDate', 'UniqueCarrier', 'Carrier', 'RegistrationNum',\n",
       "       'FlightNum', 'OriginAirport_IDNum', 'OriginCityMarket_IDNum',\n",
       "       'Origin_IATA', 'OriginCityName', 'OriginState_ID', 'OriginStateName',\n",
       "       'OriginWAC', 'DestAirport_IDNum', 'DestCityMarket_IDNum', 'Dest_IATA',\n",
       "       'DestCityName', 'DestState_ID', 'DestStateName', 'DestWAC',\n",
       "       'CRSDepTime', 'DepTime', 'DepDelayMin', 'DepDelayMin0',\n",
       "       'DepDelay_Ind15', 'DepDelayGroup_Int15', 'CRSArrTime', 'ArrTime',\n",
       "       'ArrDelayMin', 'ArrDelayMin0', 'ArrDelay_Ind15', 'ArrDelayGroup_Int15',\n",
       "       'Cancelled', 'Diverted', 'CRSElapsedTimeMin', 'ActualElapsedTimeMin',\n",
       "       'FlightTimeMin', 'NumberOfFlights', 'DistanceMil', 'Distance_Int250Mil',\n",
       "       'DepTime2', 'ArrTime2', 'DepDateTime', 'ArrDateTime'],\n",
       "      dtype='object')"
      ]
     },
     "execution_count": 3,
     "metadata": {},
     "output_type": "execute_result"
    }
   ],
   "source": [
    "df.columns"
   ]
  },
  {
   "cell_type": "code",
   "execution_count": 4,
   "metadata": {
    "scrolled": false
   },
   "outputs": [
    {
     "data": {
      "text/plain": [
       "Unnamed: 0                  int64\n",
       "Year                        int64\n",
       "Quarter                     int64\n",
       "Month                       int64\n",
       "DayOfMonth                  int64\n",
       "DayOfWeek                   int64\n",
       "FlightDate                 object\n",
       "UniqueCarrier              object\n",
       "Carrier                    object\n",
       "RegistrationNum            object\n",
       "FlightNum                   int64\n",
       "OriginAirport_IDNum         int64\n",
       "OriginCityMarket_IDNum      int64\n",
       "Origin_IATA                object\n",
       "OriginCityName             object\n",
       "OriginState_ID             object\n",
       "OriginStateName            object\n",
       "OriginWAC                   int64\n",
       "DestAirport_IDNum           int64\n",
       "DestCityMarket_IDNum        int64\n",
       "Dest_IATA                  object\n",
       "DestCityName               object\n",
       "DestState_ID               object\n",
       "DestStateName              object\n",
       "DestWAC                     int64\n",
       "CRSDepTime                  int64\n",
       "DepTime                   float64\n",
       "DepDelayMin               float64\n",
       "DepDelayMin0              float64\n",
       "DepDelay_Ind15            float64\n",
       "DepDelayGroup_Int15       float64\n",
       "CRSArrTime                  int64\n",
       "ArrTime                   float64\n",
       "ArrDelayMin               float64\n",
       "ArrDelayMin0              float64\n",
       "ArrDelay_Ind15            float64\n",
       "ArrDelayGroup_Int15       float64\n",
       "Cancelled                 float64\n",
       "Diverted                  float64\n",
       "CRSElapsedTimeMin         float64\n",
       "ActualElapsedTimeMin      float64\n",
       "FlightTimeMin             float64\n",
       "NumberOfFlights           float64\n",
       "DistanceMil               float64\n",
       "Distance_Int250Mil          int64\n",
       "DepTime2                   object\n",
       "ArrTime2                   object\n",
       "DepDateTime                object\n",
       "ArrDateTime                object\n",
       "dtype: object"
      ]
     },
     "execution_count": 4,
     "metadata": {},
     "output_type": "execute_result"
    }
   ],
   "source": [
    "df.dtypes"
   ]
  },
  {
   "cell_type": "code",
   "execution_count": 5,
   "metadata": {},
   "outputs": [
    {
     "data": {
      "text/html": [
       "<div>\n",
       "<style scoped>\n",
       "    .dataframe tbody tr th:only-of-type {\n",
       "        vertical-align: middle;\n",
       "    }\n",
       "\n",
       "    .dataframe tbody tr th {\n",
       "        vertical-align: top;\n",
       "    }\n",
       "\n",
       "    .dataframe thead th {\n",
       "        text-align: right;\n",
       "    }\n",
       "</style>\n",
       "<table border=\"1\" class=\"dataframe\">\n",
       "  <thead>\n",
       "    <tr style=\"text-align: right;\">\n",
       "      <th></th>\n",
       "      <th>FlightDate</th>\n",
       "      <th>Carrier</th>\n",
       "      <th>FlightNum</th>\n",
       "      <th>Origin_IATA</th>\n",
       "      <th>OriginCityName</th>\n",
       "      <th>Dest_IATA</th>\n",
       "      <th>DestCityName</th>\n",
       "      <th>DepDelayMin</th>\n",
       "      <th>ArrDelayMin</th>\n",
       "    </tr>\n",
       "  </thead>\n",
       "  <tbody>\n",
       "    <tr>\n",
       "      <th>1373806</th>\n",
       "      <td>2019-02-17</td>\n",
       "      <td>MQ</td>\n",
       "      <td>3888</td>\n",
       "      <td>DTW</td>\n",
       "      <td>Detroit, MI</td>\n",
       "      <td>LGA</td>\n",
       "      <td>New York, NY</td>\n",
       "      <td>2672.0</td>\n",
       "      <td>2649.0</td>\n",
       "    </tr>\n",
       "    <tr>\n",
       "      <th>1387138</th>\n",
       "      <td>2019-02-08</td>\n",
       "      <td>YV</td>\n",
       "      <td>5813</td>\n",
       "      <td>SBP</td>\n",
       "      <td>San Luis Obispo, CA</td>\n",
       "      <td>PHX</td>\n",
       "      <td>Phoenix, AZ</td>\n",
       "      <td>2209.0</td>\n",
       "      <td>2206.0</td>\n",
       "    </tr>\n",
       "    <tr>\n",
       "      <th>185738</th>\n",
       "      <td>2018-12-09</td>\n",
       "      <td>OO</td>\n",
       "      <td>3855</td>\n",
       "      <td>TRI</td>\n",
       "      <td>Bristol/Johnson City/Kingsport, TN</td>\n",
       "      <td>ATL</td>\n",
       "      <td>Atlanta, GA</td>\n",
       "      <td>2098.0</td>\n",
       "      <td>2108.0</td>\n",
       "    </tr>\n",
       "    <tr>\n",
       "      <th>1373489</th>\n",
       "      <td>2019-02-07</td>\n",
       "      <td>MQ</td>\n",
       "      <td>3879</td>\n",
       "      <td>SUX</td>\n",
       "      <td>Sioux City, IA</td>\n",
       "      <td>ORD</td>\n",
       "      <td>Chicago, IL</td>\n",
       "      <td>2064.0</td>\n",
       "      <td>2050.0</td>\n",
       "    </tr>\n",
       "    <tr>\n",
       "      <th>148950</th>\n",
       "      <td>2018-12-27</td>\n",
       "      <td>YV</td>\n",
       "      <td>6045</td>\n",
       "      <td>CMH</td>\n",
       "      <td>Columbus, OH</td>\n",
       "      <td>IAH</td>\n",
       "      <td>Houston, TX</td>\n",
       "      <td>1789.0</td>\n",
       "      <td>1767.0</td>\n",
       "    </tr>\n",
       "    <tr>\n",
       "      <th>1368248</th>\n",
       "      <td>2019-02-08</td>\n",
       "      <td>MQ</td>\n",
       "      <td>3667</td>\n",
       "      <td>CMI</td>\n",
       "      <td>Champaign/Urbana, IL</td>\n",
       "      <td>DFW</td>\n",
       "      <td>Dallas/Fort Worth, TX</td>\n",
       "      <td>1674.0</td>\n",
       "      <td>1652.0</td>\n",
       "    </tr>\n",
       "    <tr>\n",
       "      <th>688020</th>\n",
       "      <td>2019-01-05</td>\n",
       "      <td>AA</td>\n",
       "      <td>2363</td>\n",
       "      <td>FAT</td>\n",
       "      <td>Fresno, CA</td>\n",
       "      <td>DFW</td>\n",
       "      <td>Dallas/Fort Worth, TX</td>\n",
       "      <td>1651.0</td>\n",
       "      <td>1638.0</td>\n",
       "    </tr>\n",
       "    <tr>\n",
       "      <th>606110</th>\n",
       "      <td>2019-01-25</td>\n",
       "      <td>AA</td>\n",
       "      <td>511</td>\n",
       "      <td>BUF</td>\n",
       "      <td>Buffalo, NY</td>\n",
       "      <td>DFW</td>\n",
       "      <td>Dallas/Fort Worth, TX</td>\n",
       "      <td>1637.0</td>\n",
       "      <td>1609.0</td>\n",
       "    </tr>\n",
       "    <tr>\n",
       "      <th>1600096</th>\n",
       "      <td>2019-02-24</td>\n",
       "      <td>EV</td>\n",
       "      <td>4176</td>\n",
       "      <td>CVG</td>\n",
       "      <td>Cincinnati, OH</td>\n",
       "      <td>EWR</td>\n",
       "      <td>Newark, NJ</td>\n",
       "      <td>1603.0</td>\n",
       "      <td>1594.0</td>\n",
       "    </tr>\n",
       "    <tr>\n",
       "      <th>1251706</th>\n",
       "      <td>2019-02-14</td>\n",
       "      <td>AA</td>\n",
       "      <td>560</td>\n",
       "      <td>SEA</td>\n",
       "      <td>Seattle, WA</td>\n",
       "      <td>CLT</td>\n",
       "      <td>Charlotte, NC</td>\n",
       "      <td>1594.0</td>\n",
       "      <td>1587.0</td>\n",
       "    </tr>\n",
       "  </tbody>\n",
       "</table>\n",
       "</div>"
      ],
      "text/plain": [
       "         FlightDate Carrier  FlightNum Origin_IATA  \\\n",
       "1373806  2019-02-17      MQ       3888         DTW   \n",
       "1387138  2019-02-08      YV       5813         SBP   \n",
       "185738   2018-12-09      OO       3855         TRI   \n",
       "1373489  2019-02-07      MQ       3879         SUX   \n",
       "148950   2018-12-27      YV       6045         CMH   \n",
       "1368248  2019-02-08      MQ       3667         CMI   \n",
       "688020   2019-01-05      AA       2363         FAT   \n",
       "606110   2019-01-25      AA        511         BUF   \n",
       "1600096  2019-02-24      EV       4176         CVG   \n",
       "1251706  2019-02-14      AA        560         SEA   \n",
       "\n",
       "                             OriginCityName Dest_IATA           DestCityName  \\\n",
       "1373806                         Detroit, MI       LGA           New York, NY   \n",
       "1387138                 San Luis Obispo, CA       PHX            Phoenix, AZ   \n",
       "185738   Bristol/Johnson City/Kingsport, TN       ATL            Atlanta, GA   \n",
       "1373489                      Sioux City, IA       ORD            Chicago, IL   \n",
       "148950                         Columbus, OH       IAH            Houston, TX   \n",
       "1368248                Champaign/Urbana, IL       DFW  Dallas/Fort Worth, TX   \n",
       "688020                           Fresno, CA       DFW  Dallas/Fort Worth, TX   \n",
       "606110                          Buffalo, NY       DFW  Dallas/Fort Worth, TX   \n",
       "1600096                      Cincinnati, OH       EWR             Newark, NJ   \n",
       "1251706                         Seattle, WA       CLT          Charlotte, NC   \n",
       "\n",
       "         DepDelayMin  ArrDelayMin  \n",
       "1373806       2672.0       2649.0  \n",
       "1387138       2209.0       2206.0  \n",
       "185738        2098.0       2108.0  \n",
       "1373489       2064.0       2050.0  \n",
       "148950        1789.0       1767.0  \n",
       "1368248       1674.0       1652.0  \n",
       "688020        1651.0       1638.0  \n",
       "606110        1637.0       1609.0  \n",
       "1600096       1603.0       1594.0  \n",
       "1251706       1594.0       1587.0  "
      ]
     },
     "execution_count": 5,
     "metadata": {},
     "output_type": "execute_result"
    }
   ],
   "source": [
    "#Let's check the top 10 most delayed flights on Arrival\n",
    "top10 = df[['FlightDate', 'Carrier', 'FlightNum','Origin_IATA', 'OriginCityName', 'Dest_IATA',\n",
    "            'DestCityName','DepDelayMin','ArrDelayMin']]\n",
    "top10.sort_values(by='ArrDelayMin', ascending=False).head(10)"
   ]
  },
  {
   "cell_type": "code",
   "execution_count": 6,
   "metadata": {
    "scrolled": true
   },
   "outputs": [
    {
     "data": {
      "text/html": [
       "<div>\n",
       "<style scoped>\n",
       "    .dataframe tbody tr th:only-of-type {\n",
       "        vertical-align: middle;\n",
       "    }\n",
       "\n",
       "    .dataframe tbody tr th {\n",
       "        vertical-align: top;\n",
       "    }\n",
       "\n",
       "    .dataframe thead th {\n",
       "        text-align: right;\n",
       "    }\n",
       "</style>\n",
       "<table border=\"1\" class=\"dataframe\">\n",
       "  <thead>\n",
       "    <tr style=\"text-align: right;\">\n",
       "      <th></th>\n",
       "      <th>DepDelayMin</th>\n",
       "      <th>ArrDelayMin</th>\n",
       "    </tr>\n",
       "  </thead>\n",
       "  <tbody>\n",
       "    <tr>\n",
       "      <th>count</th>\n",
       "      <td>1.673294e+06</td>\n",
       "      <td>1.668014e+06</td>\n",
       "    </tr>\n",
       "    <tr>\n",
       "      <th>mean</th>\n",
       "      <td>1.060557e+01</td>\n",
       "      <td>5.321637e+00</td>\n",
       "    </tr>\n",
       "    <tr>\n",
       "      <th>std</th>\n",
       "      <td>4.855219e+01</td>\n",
       "      <td>5.097335e+01</td>\n",
       "    </tr>\n",
       "    <tr>\n",
       "      <th>min</th>\n",
       "      <td>-7.200000e+01</td>\n",
       "      <td>-1.170000e+02</td>\n",
       "    </tr>\n",
       "    <tr>\n",
       "      <th>25%</th>\n",
       "      <td>-6.000000e+00</td>\n",
       "      <td>-1.500000e+01</td>\n",
       "    </tr>\n",
       "    <tr>\n",
       "      <th>50%</th>\n",
       "      <td>-2.000000e+00</td>\n",
       "      <td>-6.000000e+00</td>\n",
       "    </tr>\n",
       "    <tr>\n",
       "      <th>75%</th>\n",
       "      <td>7.000000e+00</td>\n",
       "      <td>9.000000e+00</td>\n",
       "    </tr>\n",
       "    <tr>\n",
       "      <th>max</th>\n",
       "      <td>2.672000e+03</td>\n",
       "      <td>2.649000e+03</td>\n",
       "    </tr>\n",
       "  </tbody>\n",
       "</table>\n",
       "</div>"
      ],
      "text/plain": [
       "        DepDelayMin   ArrDelayMin\n",
       "count  1.673294e+06  1.668014e+06\n",
       "mean   1.060557e+01  5.321637e+00\n",
       "std    4.855219e+01  5.097335e+01\n",
       "min   -7.200000e+01 -1.170000e+02\n",
       "25%   -6.000000e+00 -1.500000e+01\n",
       "50%   -2.000000e+00 -6.000000e+00\n",
       "75%    7.000000e+00  9.000000e+00\n",
       "max    2.672000e+03  2.649000e+03"
      ]
     },
     "execution_count": 6,
     "metadata": {},
     "output_type": "execute_result"
    }
   ],
   "source": [
    "df[['DepDelayMin', 'ArrDelayMin']].describe()"
   ]
  },
  {
   "cell_type": "markdown",
   "metadata": {},
   "source": [
    "##### Correlation Matrix"
   ]
  },
  {
   "cell_type": "code",
   "execution_count": 7,
   "metadata": {
    "scrolled": true
   },
   "outputs": [
    {
     "data": {
      "text/html": [
       "<div>\n",
       "<style scoped>\n",
       "    .dataframe tbody tr th:only-of-type {\n",
       "        vertical-align: middle;\n",
       "    }\n",
       "\n",
       "    .dataframe tbody tr th {\n",
       "        vertical-align: top;\n",
       "    }\n",
       "\n",
       "    .dataframe thead th {\n",
       "        text-align: right;\n",
       "    }\n",
       "</style>\n",
       "<table border=\"1\" class=\"dataframe\">\n",
       "  <thead>\n",
       "    <tr style=\"text-align: right;\">\n",
       "      <th></th>\n",
       "      <th>Unnamed: 0</th>\n",
       "      <th>Year</th>\n",
       "      <th>Quarter</th>\n",
       "      <th>Month</th>\n",
       "      <th>DayOfMonth</th>\n",
       "      <th>DayOfWeek</th>\n",
       "      <th>FlightNum</th>\n",
       "      <th>OriginAirport_IDNum</th>\n",
       "      <th>OriginCityMarket_IDNum</th>\n",
       "      <th>OriginWAC</th>\n",
       "      <th>...</th>\n",
       "      <th>ArrDelay_Ind15</th>\n",
       "      <th>ArrDelayGroup_Int15</th>\n",
       "      <th>Cancelled</th>\n",
       "      <th>Diverted</th>\n",
       "      <th>CRSElapsedTimeMin</th>\n",
       "      <th>ActualElapsedTimeMin</th>\n",
       "      <th>FlightTimeMin</th>\n",
       "      <th>NumberOfFlights</th>\n",
       "      <th>DistanceMil</th>\n",
       "      <th>Distance_Int250Mil</th>\n",
       "    </tr>\n",
       "  </thead>\n",
       "  <tbody>\n",
       "    <tr>\n",
       "      <th>Unnamed: 0</th>\n",
       "      <td>1.000000</td>\n",
       "      <td>0.824524</td>\n",
       "      <td>-0.824524</td>\n",
       "      <td>-0.785204</td>\n",
       "      <td>-0.075982</td>\n",
       "      <td>-0.041196</td>\n",
       "      <td>-0.011318</td>\n",
       "      <td>0.000872</td>\n",
       "      <td>0.007732</td>\n",
       "      <td>0.004698</td>\n",
       "      <td>...</td>\n",
       "      <td>0.044486</td>\n",
       "      <td>0.049908</td>\n",
       "      <td>0.043868</td>\n",
       "      <td>0.007442</td>\n",
       "      <td>0.005173</td>\n",
       "      <td>0.013378</td>\n",
       "      <td>0.005001</td>\n",
       "      <td>NaN</td>\n",
       "      <td>-0.002646</td>\n",
       "      <td>-0.003004</td>\n",
       "    </tr>\n",
       "    <tr>\n",
       "      <th>Year</th>\n",
       "      <td>0.824524</td>\n",
       "      <td>1.000000</td>\n",
       "      <td>-1.000000</td>\n",
       "      <td>-0.996770</td>\n",
       "      <td>-0.039998</td>\n",
       "      <td>-0.047751</td>\n",
       "      <td>-0.035760</td>\n",
       "      <td>-0.001444</td>\n",
       "      <td>-0.000359</td>\n",
       "      <td>0.002918</td>\n",
       "      <td>...</td>\n",
       "      <td>0.026343</td>\n",
       "      <td>0.030766</td>\n",
       "      <td>0.055229</td>\n",
       "      <td>0.003052</td>\n",
       "      <td>-0.002523</td>\n",
       "      <td>0.002928</td>\n",
       "      <td>-0.002740</td>\n",
       "      <td>NaN</td>\n",
       "      <td>-0.009223</td>\n",
       "      <td>-0.009493</td>\n",
       "    </tr>\n",
       "    <tr>\n",
       "      <th>Quarter</th>\n",
       "      <td>-0.824524</td>\n",
       "      <td>-1.000000</td>\n",
       "      <td>1.000000</td>\n",
       "      <td>0.996770</td>\n",
       "      <td>0.039998</td>\n",
       "      <td>0.047751</td>\n",
       "      <td>0.035760</td>\n",
       "      <td>0.001444</td>\n",
       "      <td>0.000359</td>\n",
       "      <td>-0.002918</td>\n",
       "      <td>...</td>\n",
       "      <td>-0.026343</td>\n",
       "      <td>-0.030766</td>\n",
       "      <td>-0.055229</td>\n",
       "      <td>-0.003052</td>\n",
       "      <td>0.002523</td>\n",
       "      <td>-0.002928</td>\n",
       "      <td>0.002740</td>\n",
       "      <td>NaN</td>\n",
       "      <td>0.009223</td>\n",
       "      <td>0.009493</td>\n",
       "    </tr>\n",
       "    <tr>\n",
       "      <th>Month</th>\n",
       "      <td>-0.785204</td>\n",
       "      <td>-0.996770</td>\n",
       "      <td>0.996770</td>\n",
       "      <td>1.000000</td>\n",
       "      <td>0.035237</td>\n",
       "      <td>0.048734</td>\n",
       "      <td>0.035188</td>\n",
       "      <td>0.001417</td>\n",
       "      <td>0.000361</td>\n",
       "      <td>-0.003014</td>\n",
       "      <td>...</td>\n",
       "      <td>-0.022605</td>\n",
       "      <td>-0.027137</td>\n",
       "      <td>-0.055057</td>\n",
       "      <td>-0.002526</td>\n",
       "      <td>0.002468</td>\n",
       "      <td>-0.002530</td>\n",
       "      <td>0.003000</td>\n",
       "      <td>NaN</td>\n",
       "      <td>0.009098</td>\n",
       "      <td>0.009367</td>\n",
       "    </tr>\n",
       "    <tr>\n",
       "      <th>DayOfMonth</th>\n",
       "      <td>-0.075982</td>\n",
       "      <td>-0.039998</td>\n",
       "      <td>0.039998</td>\n",
       "      <td>0.035237</td>\n",
       "      <td>1.000000</td>\n",
       "      <td>-0.027279</td>\n",
       "      <td>0.025206</td>\n",
       "      <td>0.000583</td>\n",
       "      <td>0.001190</td>\n",
       "      <td>0.002487</td>\n",
       "      <td>...</td>\n",
       "      <td>0.055176</td>\n",
       "      <td>0.058060</td>\n",
       "      <td>0.052615</td>\n",
       "      <td>0.003699</td>\n",
       "      <td>0.008935</td>\n",
       "      <td>0.014132</td>\n",
       "      <td>0.011903</td>\n",
       "      <td>NaN</td>\n",
       "      <td>0.007266</td>\n",
       "      <td>0.007189</td>\n",
       "    </tr>\n",
       "    <tr>\n",
       "      <th>DayOfWeek</th>\n",
       "      <td>-0.041196</td>\n",
       "      <td>-0.047751</td>\n",
       "      <td>0.047751</td>\n",
       "      <td>0.048734</td>\n",
       "      <td>-0.027279</td>\n",
       "      <td>1.000000</td>\n",
       "      <td>0.065533</td>\n",
       "      <td>0.004175</td>\n",
       "      <td>0.003905</td>\n",
       "      <td>0.001113</td>\n",
       "      <td>...</td>\n",
       "      <td>0.007944</td>\n",
       "      <td>0.003883</td>\n",
       "      <td>-0.008014</td>\n",
       "      <td>0.000955</td>\n",
       "      <td>0.014173</td>\n",
       "      <td>0.013255</td>\n",
       "      <td>0.015725</td>\n",
       "      <td>NaN</td>\n",
       "      <td>0.017106</td>\n",
       "      <td>0.017144</td>\n",
       "    </tr>\n",
       "    <tr>\n",
       "      <th>FlightNum</th>\n",
       "      <td>-0.011318</td>\n",
       "      <td>-0.035760</td>\n",
       "      <td>0.035760</td>\n",
       "      <td>0.035188</td>\n",
       "      <td>0.025206</td>\n",
       "      <td>0.065533</td>\n",
       "      <td>1.000000</td>\n",
       "      <td>-0.049647</td>\n",
       "      <td>0.004631</td>\n",
       "      <td>0.025100</td>\n",
       "      <td>...</td>\n",
       "      <td>0.033620</td>\n",
       "      <td>0.038540</td>\n",
       "      <td>0.051217</td>\n",
       "      <td>0.010539</td>\n",
       "      <td>-0.306115</td>\n",
       "      <td>-0.299335</td>\n",
       "      <td>-0.322894</td>\n",
       "      <td>NaN</td>\n",
       "      <td>-0.343563</td>\n",
       "      <td>-0.340548</td>\n",
       "    </tr>\n",
       "    <tr>\n",
       "      <th>OriginAirport_IDNum</th>\n",
       "      <td>0.000872</td>\n",
       "      <td>-0.001444</td>\n",
       "      <td>0.001444</td>\n",
       "      <td>0.001417</td>\n",
       "      <td>0.000583</td>\n",
       "      <td>0.004175</td>\n",
       "      <td>-0.049647</td>\n",
       "      <td>1.000000</td>\n",
       "      <td>0.630043</td>\n",
       "      <td>0.257806</td>\n",
       "      <td>...</td>\n",
       "      <td>0.008998</td>\n",
       "      <td>0.008484</td>\n",
       "      <td>0.006770</td>\n",
       "      <td>-0.000391</td>\n",
       "      <td>0.059759</td>\n",
       "      <td>0.064697</td>\n",
       "      <td>0.064044</td>\n",
       "      <td>NaN</td>\n",
       "      <td>0.092742</td>\n",
       "      <td>0.096656</td>\n",
       "    </tr>\n",
       "    <tr>\n",
       "      <th>OriginCityMarket_IDNum</th>\n",
       "      <td>0.007732</td>\n",
       "      <td>-0.000359</td>\n",
       "      <td>0.000359</td>\n",
       "      <td>0.000361</td>\n",
       "      <td>0.001190</td>\n",
       "      <td>0.003905</td>\n",
       "      <td>0.004631</td>\n",
       "      <td>0.630043</td>\n",
       "      <td>1.000000</td>\n",
       "      <td>0.073980</td>\n",
       "      <td>...</td>\n",
       "      <td>-0.012093</td>\n",
       "      <td>-0.010502</td>\n",
       "      <td>-0.006653</td>\n",
       "      <td>-0.000181</td>\n",
       "      <td>0.014816</td>\n",
       "      <td>0.015437</td>\n",
       "      <td>0.014482</td>\n",
       "      <td>NaN</td>\n",
       "      <td>0.022502</td>\n",
       "      <td>0.024164</td>\n",
       "    </tr>\n",
       "    <tr>\n",
       "      <th>OriginWAC</th>\n",
       "      <td>0.004698</td>\n",
       "      <td>0.002918</td>\n",
       "      <td>-0.002918</td>\n",
       "      <td>-0.003014</td>\n",
       "      <td>0.002487</td>\n",
       "      <td>0.001113</td>\n",
       "      <td>0.025100</td>\n",
       "      <td>0.257806</td>\n",
       "      <td>0.073980</td>\n",
       "      <td>1.000000</td>\n",
       "      <td>...</td>\n",
       "      <td>-0.008706</td>\n",
       "      <td>-0.003217</td>\n",
       "      <td>-0.013939</td>\n",
       "      <td>0.000211</td>\n",
       "      <td>-0.034503</td>\n",
       "      <td>-0.033746</td>\n",
       "      <td>-0.024247</td>\n",
       "      <td>NaN</td>\n",
       "      <td>0.053657</td>\n",
       "      <td>0.055942</td>\n",
       "    </tr>\n",
       "    <tr>\n",
       "      <th>DestAirport_IDNum</th>\n",
       "      <td>0.000174</td>\n",
       "      <td>-0.001544</td>\n",
       "      <td>0.001544</td>\n",
       "      <td>0.001515</td>\n",
       "      <td>0.000547</td>\n",
       "      <td>0.003819</td>\n",
       "      <td>-0.054888</td>\n",
       "      <td>0.017004</td>\n",
       "      <td>-0.007505</td>\n",
       "      <td>0.122289</td>\n",
       "      <td>...</td>\n",
       "      <td>0.018665</td>\n",
       "      <td>0.018339</td>\n",
       "      <td>0.006043</td>\n",
       "      <td>0.002928</td>\n",
       "      <td>0.108234</td>\n",
       "      <td>0.112413</td>\n",
       "      <td>0.118198</td>\n",
       "      <td>NaN</td>\n",
       "      <td>0.092970</td>\n",
       "      <td>0.096966</td>\n",
       "    </tr>\n",
       "    <tr>\n",
       "      <th>DestCityMarket_IDNum</th>\n",
       "      <td>0.007065</td>\n",
       "      <td>-0.000408</td>\n",
       "      <td>0.000408</td>\n",
       "      <td>0.000404</td>\n",
       "      <td>0.001127</td>\n",
       "      <td>0.003690</td>\n",
       "      <td>-0.000200</td>\n",
       "      <td>-0.007844</td>\n",
       "      <td>-0.047327</td>\n",
       "      <td>0.031337</td>\n",
       "      <td>...</td>\n",
       "      <td>0.007209</td>\n",
       "      <td>0.005434</td>\n",
       "      <td>-0.010886</td>\n",
       "      <td>0.007887</td>\n",
       "      <td>0.015533</td>\n",
       "      <td>0.016993</td>\n",
       "      <td>0.027743</td>\n",
       "      <td>NaN</td>\n",
       "      <td>0.022581</td>\n",
       "      <td>0.024293</td>\n",
       "    </tr>\n",
       "    <tr>\n",
       "      <th>DestWAC</th>\n",
       "      <td>0.004424</td>\n",
       "      <td>0.002905</td>\n",
       "      <td>-0.002905</td>\n",
       "      <td>-0.003002</td>\n",
       "      <td>0.002465</td>\n",
       "      <td>0.000992</td>\n",
       "      <td>0.025997</td>\n",
       "      <td>0.122769</td>\n",
       "      <td>0.032015</td>\n",
       "      <td>0.457109</td>\n",
       "      <td>...</td>\n",
       "      <td>-0.000763</td>\n",
       "      <td>-0.002930</td>\n",
       "      <td>-0.013149</td>\n",
       "      <td>0.007450</td>\n",
       "      <td>0.099436</td>\n",
       "      <td>0.102160</td>\n",
       "      <td>0.110109</td>\n",
       "      <td>NaN</td>\n",
       "      <td>0.053487</td>\n",
       "      <td>0.055772</td>\n",
       "    </tr>\n",
       "    <tr>\n",
       "      <th>CRSDepTime</th>\n",
       "      <td>-0.000637</td>\n",
       "      <td>-0.001818</td>\n",
       "      <td>0.001818</td>\n",
       "      <td>0.001755</td>\n",
       "      <td>-0.000629</td>\n",
       "      <td>0.011583</td>\n",
       "      <td>0.000053</td>\n",
       "      <td>-0.032962</td>\n",
       "      <td>-0.053445</td>\n",
       "      <td>-0.025177</td>\n",
       "      <td>...</td>\n",
       "      <td>0.102974</td>\n",
       "      <td>0.092716</td>\n",
       "      <td>0.003396</td>\n",
       "      <td>-0.000993</td>\n",
       "      <td>-0.037333</td>\n",
       "      <td>-0.039990</td>\n",
       "      <td>-0.027867</td>\n",
       "      <td>NaN</td>\n",
       "      <td>-0.019624</td>\n",
       "      <td>-0.020930</td>\n",
       "    </tr>\n",
       "    <tr>\n",
       "      <th>DepTime</th>\n",
       "      <td>0.002713</td>\n",
       "      <td>0.000837</td>\n",
       "      <td>-0.000837</td>\n",
       "      <td>-0.000597</td>\n",
       "      <td>0.003428</td>\n",
       "      <td>0.010612</td>\n",
       "      <td>0.006012</td>\n",
       "      <td>-0.033564</td>\n",
       "      <td>-0.053157</td>\n",
       "      <td>-0.025257</td>\n",
       "      <td>...</td>\n",
       "      <td>0.154065</td>\n",
       "      <td>0.158619</td>\n",
       "      <td>0.004496</td>\n",
       "      <td>0.000747</td>\n",
       "      <td>-0.039699</td>\n",
       "      <td>-0.041332</td>\n",
       "      <td>-0.031149</td>\n",
       "      <td>NaN</td>\n",
       "      <td>-0.024774</td>\n",
       "      <td>-0.026150</td>\n",
       "    </tr>\n",
       "    <tr>\n",
       "      <th>DepDelayMin</th>\n",
       "      <td>0.037397</td>\n",
       "      <td>0.024412</td>\n",
       "      <td>-0.024412</td>\n",
       "      <td>-0.021961</td>\n",
       "      <td>0.045797</td>\n",
       "      <td>0.003017</td>\n",
       "      <td>0.028893</td>\n",
       "      <td>0.003201</td>\n",
       "      <td>-0.004952</td>\n",
       "      <td>-0.000988</td>\n",
       "      <td>...</td>\n",
       "      <td>0.514747</td>\n",
       "      <td>0.791442</td>\n",
       "      <td>0.025918</td>\n",
       "      <td>0.019273</td>\n",
       "      <td>0.008936</td>\n",
       "      <td>0.016278</td>\n",
       "      <td>0.005173</td>\n",
       "      <td>NaN</td>\n",
       "      <td>0.005960</td>\n",
       "      <td>0.005668</td>\n",
       "    </tr>\n",
       "    <tr>\n",
       "      <th>DepDelayMin0</th>\n",
       "      <td>0.038797</td>\n",
       "      <td>0.025666</td>\n",
       "      <td>-0.025666</td>\n",
       "      <td>-0.023452</td>\n",
       "      <td>0.041806</td>\n",
       "      <td>0.000950</td>\n",
       "      <td>0.032816</td>\n",
       "      <td>0.006120</td>\n",
       "      <td>0.002055</td>\n",
       "      <td>-0.004486</td>\n",
       "      <td>...</td>\n",
       "      <td>0.497910</td>\n",
       "      <td>0.779113</td>\n",
       "      <td>0.025771</td>\n",
       "      <td>0.018710</td>\n",
       "      <td>0.004936</td>\n",
       "      <td>0.012401</td>\n",
       "      <td>0.000931</td>\n",
       "      <td>NaN</td>\n",
       "      <td>0.001236</td>\n",
       "      <td>0.000979</td>\n",
       "    </tr>\n",
       "    <tr>\n",
       "      <th>DepDelay_Ind15</th>\n",
       "      <td>0.032455</td>\n",
       "      <td>0.018867</td>\n",
       "      <td>-0.018867</td>\n",
       "      <td>-0.015466</td>\n",
       "      <td>0.059787</td>\n",
       "      <td>0.011823</td>\n",
       "      <td>0.025800</td>\n",
       "      <td>0.004224</td>\n",
       "      <td>-0.014501</td>\n",
       "      <td>0.002178</td>\n",
       "      <td>...</td>\n",
       "      <td>0.719721</td>\n",
       "      <td>0.685725</td>\n",
       "      <td>0.018601</td>\n",
       "      <td>0.018365</td>\n",
       "      <td>0.010474</td>\n",
       "      <td>0.016853</td>\n",
       "      <td>0.008149</td>\n",
       "      <td>NaN</td>\n",
       "      <td>0.011034</td>\n",
       "      <td>0.010989</td>\n",
       "    </tr>\n",
       "    <tr>\n",
       "      <th>DepDelayGroup_Int15</th>\n",
       "      <td>0.041462</td>\n",
       "      <td>0.026571</td>\n",
       "      <td>-0.026571</td>\n",
       "      <td>-0.023369</td>\n",
       "      <td>0.058993</td>\n",
       "      <td>0.005230</td>\n",
       "      <td>0.029049</td>\n",
       "      <td>0.004877</td>\n",
       "      <td>-0.008709</td>\n",
       "      <td>-0.001025</td>\n",
       "      <td>...</td>\n",
       "      <td>0.661643</td>\n",
       "      <td>0.914918</td>\n",
       "      <td>0.026727</td>\n",
       "      <td>0.022183</td>\n",
       "      <td>0.014571</td>\n",
       "      <td>0.023085</td>\n",
       "      <td>0.010948</td>\n",
       "      <td>NaN</td>\n",
       "      <td>0.012060</td>\n",
       "      <td>0.012012</td>\n",
       "    </tr>\n",
       "    <tr>\n",
       "      <th>CRSArrTime</th>\n",
       "      <td>0.009723</td>\n",
       "      <td>0.009533</td>\n",
       "      <td>-0.009533</td>\n",
       "      <td>-0.009493</td>\n",
       "      <td>-0.004606</td>\n",
       "      <td>0.007495</td>\n",
       "      <td>-0.002499</td>\n",
       "      <td>-0.006026</td>\n",
       "      <td>-0.044731</td>\n",
       "      <td>0.013849</td>\n",
       "      <td>...</td>\n",
       "      <td>0.092886</td>\n",
       "      <td>0.084049</td>\n",
       "      <td>-0.001378</td>\n",
       "      <td>0.001740</td>\n",
       "      <td>0.022626</td>\n",
       "      <td>0.020018</td>\n",
       "      <td>0.027257</td>\n",
       "      <td>NaN</td>\n",
       "      <td>0.029442</td>\n",
       "      <td>0.032980</td>\n",
       "    </tr>\n",
       "    <tr>\n",
       "      <th>ArrTime</th>\n",
       "      <td>0.007818</td>\n",
       "      <td>0.007975</td>\n",
       "      <td>-0.007975</td>\n",
       "      <td>-0.007941</td>\n",
       "      <td>-0.008244</td>\n",
       "      <td>0.004559</td>\n",
       "      <td>0.002110</td>\n",
       "      <td>-0.005142</td>\n",
       "      <td>-0.036369</td>\n",
       "      <td>0.017975</td>\n",
       "      <td>...</td>\n",
       "      <td>0.066912</td>\n",
       "      <td>0.046189</td>\n",
       "      <td>NaN</td>\n",
       "      <td>-0.006796</td>\n",
       "      <td>0.013752</td>\n",
       "      <td>0.014706</td>\n",
       "      <td>0.019782</td>\n",
       "      <td>NaN</td>\n",
       "      <td>0.018851</td>\n",
       "      <td>0.021929</td>\n",
       "    </tr>\n",
       "    <tr>\n",
       "      <th>ArrDelayMin</th>\n",
       "      <td>0.044855</td>\n",
       "      <td>0.028518</td>\n",
       "      <td>-0.028518</td>\n",
       "      <td>-0.025608</td>\n",
       "      <td>0.048383</td>\n",
       "      <td>0.002227</td>\n",
       "      <td>0.036222</td>\n",
       "      <td>0.007803</td>\n",
       "      <td>-0.004921</td>\n",
       "      <td>0.000348</td>\n",
       "      <td>...</td>\n",
       "      <td>0.594445</td>\n",
       "      <td>0.863222</td>\n",
       "      <td>NaN</td>\n",
       "      <td>NaN</td>\n",
       "      <td>-0.022851</td>\n",
       "      <td>0.040033</td>\n",
       "      <td>-0.001615</td>\n",
       "      <td>NaN</td>\n",
       "      <td>-0.021036</td>\n",
       "      <td>-0.021174</td>\n",
       "    </tr>\n",
       "    <tr>\n",
       "      <th>ArrDelayMin0</th>\n",
       "      <td>0.045033</td>\n",
       "      <td>0.029974</td>\n",
       "      <td>-0.029974</td>\n",
       "      <td>-0.027564</td>\n",
       "      <td>0.040515</td>\n",
       "      <td>-0.000225</td>\n",
       "      <td>0.036400</td>\n",
       "      <td>0.008547</td>\n",
       "      <td>0.002570</td>\n",
       "      <td>-0.008170</td>\n",
       "      <td>...</td>\n",
       "      <td>0.545905</td>\n",
       "      <td>0.813204</td>\n",
       "      <td>NaN</td>\n",
       "      <td>NaN</td>\n",
       "      <td>0.001496</td>\n",
       "      <td>0.042173</td>\n",
       "      <td>0.008604</td>\n",
       "      <td>NaN</td>\n",
       "      <td>-0.003188</td>\n",
       "      <td>-0.003496</td>\n",
       "    </tr>\n",
       "    <tr>\n",
       "      <th>ArrDelay_Ind15</th>\n",
       "      <td>0.044486</td>\n",
       "      <td>0.026343</td>\n",
       "      <td>-0.026343</td>\n",
       "      <td>-0.022605</td>\n",
       "      <td>0.055176</td>\n",
       "      <td>0.007944</td>\n",
       "      <td>0.033620</td>\n",
       "      <td>0.008998</td>\n",
       "      <td>-0.012093</td>\n",
       "      <td>-0.008706</td>\n",
       "      <td>...</td>\n",
       "      <td>1.000000</td>\n",
       "      <td>0.755685</td>\n",
       "      <td>NaN</td>\n",
       "      <td>NaN</td>\n",
       "      <td>0.011076</td>\n",
       "      <td>0.084920</td>\n",
       "      <td>0.033338</td>\n",
       "      <td>NaN</td>\n",
       "      <td>0.008359</td>\n",
       "      <td>0.008128</td>\n",
       "    </tr>\n",
       "    <tr>\n",
       "      <th>ArrDelayGroup_Int15</th>\n",
       "      <td>0.049908</td>\n",
       "      <td>0.030766</td>\n",
       "      <td>-0.030766</td>\n",
       "      <td>-0.027137</td>\n",
       "      <td>0.058060</td>\n",
       "      <td>0.003883</td>\n",
       "      <td>0.038540</td>\n",
       "      <td>0.008484</td>\n",
       "      <td>-0.010502</td>\n",
       "      <td>-0.003217</td>\n",
       "      <td>...</td>\n",
       "      <td>0.755685</td>\n",
       "      <td>1.000000</td>\n",
       "      <td>NaN</td>\n",
       "      <td>NaN</td>\n",
       "      <td>-0.017385</td>\n",
       "      <td>0.060850</td>\n",
       "      <td>0.009003</td>\n",
       "      <td>NaN</td>\n",
       "      <td>-0.016256</td>\n",
       "      <td>-0.016374</td>\n",
       "    </tr>\n",
       "    <tr>\n",
       "      <th>Cancelled</th>\n",
       "      <td>0.043868</td>\n",
       "      <td>0.055229</td>\n",
       "      <td>-0.055229</td>\n",
       "      <td>-0.055057</td>\n",
       "      <td>0.052615</td>\n",
       "      <td>-0.008014</td>\n",
       "      <td>0.051217</td>\n",
       "      <td>0.006770</td>\n",
       "      <td>-0.006653</td>\n",
       "      <td>-0.013939</td>\n",
       "      <td>...</td>\n",
       "      <td>NaN</td>\n",
       "      <td>NaN</td>\n",
       "      <td>1.000000</td>\n",
       "      <td>-0.007599</td>\n",
       "      <td>-0.044404</td>\n",
       "      <td>NaN</td>\n",
       "      <td>NaN</td>\n",
       "      <td>NaN</td>\n",
       "      <td>-0.049707</td>\n",
       "      <td>-0.049861</td>\n",
       "    </tr>\n",
       "    <tr>\n",
       "      <th>Diverted</th>\n",
       "      <td>0.007442</td>\n",
       "      <td>0.003052</td>\n",
       "      <td>-0.003052</td>\n",
       "      <td>-0.002526</td>\n",
       "      <td>0.003699</td>\n",
       "      <td>0.000955</td>\n",
       "      <td>0.010539</td>\n",
       "      <td>-0.000391</td>\n",
       "      <td>-0.000181</td>\n",
       "      <td>0.000211</td>\n",
       "      <td>...</td>\n",
       "      <td>NaN</td>\n",
       "      <td>NaN</td>\n",
       "      <td>-0.007599</td>\n",
       "      <td>1.000000</td>\n",
       "      <td>0.015181</td>\n",
       "      <td>NaN</td>\n",
       "      <td>NaN</td>\n",
       "      <td>NaN</td>\n",
       "      <td>0.012178</td>\n",
       "      <td>0.011903</td>\n",
       "    </tr>\n",
       "    <tr>\n",
       "      <th>CRSElapsedTimeMin</th>\n",
       "      <td>0.005173</td>\n",
       "      <td>-0.002523</td>\n",
       "      <td>0.002523</td>\n",
       "      <td>0.002468</td>\n",
       "      <td>0.008935</td>\n",
       "      <td>0.014173</td>\n",
       "      <td>-0.306115</td>\n",
       "      <td>0.059759</td>\n",
       "      <td>0.014816</td>\n",
       "      <td>-0.034503</td>\n",
       "      <td>...</td>\n",
       "      <td>0.011076</td>\n",
       "      <td>-0.017385</td>\n",
       "      <td>-0.044404</td>\n",
       "      <td>0.015181</td>\n",
       "      <td>1.000000</td>\n",
       "      <td>0.980678</td>\n",
       "      <td>0.988276</td>\n",
       "      <td>NaN</td>\n",
       "      <td>0.975666</td>\n",
       "      <td>0.964856</td>\n",
       "    </tr>\n",
       "    <tr>\n",
       "      <th>ActualElapsedTimeMin</th>\n",
       "      <td>0.013378</td>\n",
       "      <td>0.002928</td>\n",
       "      <td>-0.002928</td>\n",
       "      <td>-0.002530</td>\n",
       "      <td>0.014132</td>\n",
       "      <td>0.013255</td>\n",
       "      <td>-0.299335</td>\n",
       "      <td>0.064697</td>\n",
       "      <td>0.015437</td>\n",
       "      <td>-0.033746</td>\n",
       "      <td>...</td>\n",
       "      <td>0.084920</td>\n",
       "      <td>0.060850</td>\n",
       "      <td>NaN</td>\n",
       "      <td>NaN</td>\n",
       "      <td>0.980678</td>\n",
       "      <td>1.000000</td>\n",
       "      <td>0.986018</td>\n",
       "      <td>NaN</td>\n",
       "      <td>0.959553</td>\n",
       "      <td>0.948805</td>\n",
       "    </tr>\n",
       "    <tr>\n",
       "      <th>FlightTimeMin</th>\n",
       "      <td>0.005001</td>\n",
       "      <td>-0.002740</td>\n",
       "      <td>0.002740</td>\n",
       "      <td>0.003000</td>\n",
       "      <td>0.011903</td>\n",
       "      <td>0.015725</td>\n",
       "      <td>-0.322894</td>\n",
       "      <td>0.064044</td>\n",
       "      <td>0.014482</td>\n",
       "      <td>-0.024247</td>\n",
       "      <td>...</td>\n",
       "      <td>0.033338</td>\n",
       "      <td>0.009003</td>\n",
       "      <td>NaN</td>\n",
       "      <td>NaN</td>\n",
       "      <td>0.988276</td>\n",
       "      <td>0.986018</td>\n",
       "      <td>1.000000</td>\n",
       "      <td>NaN</td>\n",
       "      <td>0.976260</td>\n",
       "      <td>0.965495</td>\n",
       "    </tr>\n",
       "    <tr>\n",
       "      <th>NumberOfFlights</th>\n",
       "      <td>NaN</td>\n",
       "      <td>NaN</td>\n",
       "      <td>NaN</td>\n",
       "      <td>NaN</td>\n",
       "      <td>NaN</td>\n",
       "      <td>NaN</td>\n",
       "      <td>NaN</td>\n",
       "      <td>NaN</td>\n",
       "      <td>NaN</td>\n",
       "      <td>NaN</td>\n",
       "      <td>...</td>\n",
       "      <td>NaN</td>\n",
       "      <td>NaN</td>\n",
       "      <td>NaN</td>\n",
       "      <td>NaN</td>\n",
       "      <td>NaN</td>\n",
       "      <td>NaN</td>\n",
       "      <td>NaN</td>\n",
       "      <td>NaN</td>\n",
       "      <td>NaN</td>\n",
       "      <td>NaN</td>\n",
       "    </tr>\n",
       "    <tr>\n",
       "      <th>DistanceMil</th>\n",
       "      <td>-0.002646</td>\n",
       "      <td>-0.009223</td>\n",
       "      <td>0.009223</td>\n",
       "      <td>0.009098</td>\n",
       "      <td>0.007266</td>\n",
       "      <td>0.017106</td>\n",
       "      <td>-0.343563</td>\n",
       "      <td>0.092742</td>\n",
       "      <td>0.022502</td>\n",
       "      <td>0.053657</td>\n",
       "      <td>...</td>\n",
       "      <td>0.008359</td>\n",
       "      <td>-0.016256</td>\n",
       "      <td>-0.049707</td>\n",
       "      <td>0.012178</td>\n",
       "      <td>0.975666</td>\n",
       "      <td>0.959553</td>\n",
       "      <td>0.976260</td>\n",
       "      <td>NaN</td>\n",
       "      <td>1.000000</td>\n",
       "      <td>0.987679</td>\n",
       "    </tr>\n",
       "    <tr>\n",
       "      <th>Distance_Int250Mil</th>\n",
       "      <td>-0.003004</td>\n",
       "      <td>-0.009493</td>\n",
       "      <td>0.009493</td>\n",
       "      <td>0.009367</td>\n",
       "      <td>0.007189</td>\n",
       "      <td>0.017144</td>\n",
       "      <td>-0.340548</td>\n",
       "      <td>0.096656</td>\n",
       "      <td>0.024164</td>\n",
       "      <td>0.055942</td>\n",
       "      <td>...</td>\n",
       "      <td>0.008128</td>\n",
       "      <td>-0.016374</td>\n",
       "      <td>-0.049861</td>\n",
       "      <td>0.011903</td>\n",
       "      <td>0.964856</td>\n",
       "      <td>0.948805</td>\n",
       "      <td>0.965495</td>\n",
       "      <td>NaN</td>\n",
       "      <td>0.987679</td>\n",
       "      <td>1.000000</td>\n",
       "    </tr>\n",
       "  </tbody>\n",
       "</table>\n",
       "<p>33 rows × 33 columns</p>\n",
       "</div>"
      ],
      "text/plain": [
       "                        Unnamed: 0      Year   Quarter     Month  DayOfMonth  \\\n",
       "Unnamed: 0                1.000000  0.824524 -0.824524 -0.785204   -0.075982   \n",
       "Year                      0.824524  1.000000 -1.000000 -0.996770   -0.039998   \n",
       "Quarter                  -0.824524 -1.000000  1.000000  0.996770    0.039998   \n",
       "Month                    -0.785204 -0.996770  0.996770  1.000000    0.035237   \n",
       "DayOfMonth               -0.075982 -0.039998  0.039998  0.035237    1.000000   \n",
       "DayOfWeek                -0.041196 -0.047751  0.047751  0.048734   -0.027279   \n",
       "FlightNum                -0.011318 -0.035760  0.035760  0.035188    0.025206   \n",
       "OriginAirport_IDNum       0.000872 -0.001444  0.001444  0.001417    0.000583   \n",
       "OriginCityMarket_IDNum    0.007732 -0.000359  0.000359  0.000361    0.001190   \n",
       "OriginWAC                 0.004698  0.002918 -0.002918 -0.003014    0.002487   \n",
       "DestAirport_IDNum         0.000174 -0.001544  0.001544  0.001515    0.000547   \n",
       "DestCityMarket_IDNum      0.007065 -0.000408  0.000408  0.000404    0.001127   \n",
       "DestWAC                   0.004424  0.002905 -0.002905 -0.003002    0.002465   \n",
       "CRSDepTime               -0.000637 -0.001818  0.001818  0.001755   -0.000629   \n",
       "DepTime                   0.002713  0.000837 -0.000837 -0.000597    0.003428   \n",
       "DepDelayMin               0.037397  0.024412 -0.024412 -0.021961    0.045797   \n",
       "DepDelayMin0              0.038797  0.025666 -0.025666 -0.023452    0.041806   \n",
       "DepDelay_Ind15            0.032455  0.018867 -0.018867 -0.015466    0.059787   \n",
       "DepDelayGroup_Int15       0.041462  0.026571 -0.026571 -0.023369    0.058993   \n",
       "CRSArrTime                0.009723  0.009533 -0.009533 -0.009493   -0.004606   \n",
       "ArrTime                   0.007818  0.007975 -0.007975 -0.007941   -0.008244   \n",
       "ArrDelayMin               0.044855  0.028518 -0.028518 -0.025608    0.048383   \n",
       "ArrDelayMin0              0.045033  0.029974 -0.029974 -0.027564    0.040515   \n",
       "ArrDelay_Ind15            0.044486  0.026343 -0.026343 -0.022605    0.055176   \n",
       "ArrDelayGroup_Int15       0.049908  0.030766 -0.030766 -0.027137    0.058060   \n",
       "Cancelled                 0.043868  0.055229 -0.055229 -0.055057    0.052615   \n",
       "Diverted                  0.007442  0.003052 -0.003052 -0.002526    0.003699   \n",
       "CRSElapsedTimeMin         0.005173 -0.002523  0.002523  0.002468    0.008935   \n",
       "ActualElapsedTimeMin      0.013378  0.002928 -0.002928 -0.002530    0.014132   \n",
       "FlightTimeMin             0.005001 -0.002740  0.002740  0.003000    0.011903   \n",
       "NumberOfFlights                NaN       NaN       NaN       NaN         NaN   \n",
       "DistanceMil              -0.002646 -0.009223  0.009223  0.009098    0.007266   \n",
       "Distance_Int250Mil       -0.003004 -0.009493  0.009493  0.009367    0.007189   \n",
       "\n",
       "                        DayOfWeek  FlightNum  OriginAirport_IDNum  \\\n",
       "Unnamed: 0              -0.041196  -0.011318             0.000872   \n",
       "Year                    -0.047751  -0.035760            -0.001444   \n",
       "Quarter                  0.047751   0.035760             0.001444   \n",
       "Month                    0.048734   0.035188             0.001417   \n",
       "DayOfMonth              -0.027279   0.025206             0.000583   \n",
       "DayOfWeek                1.000000   0.065533             0.004175   \n",
       "FlightNum                0.065533   1.000000            -0.049647   \n",
       "OriginAirport_IDNum      0.004175  -0.049647             1.000000   \n",
       "OriginCityMarket_IDNum   0.003905   0.004631             0.630043   \n",
       "OriginWAC                0.001113   0.025100             0.257806   \n",
       "DestAirport_IDNum        0.003819  -0.054888             0.017004   \n",
       "DestCityMarket_IDNum     0.003690  -0.000200            -0.007844   \n",
       "DestWAC                  0.000992   0.025997             0.122769   \n",
       "CRSDepTime               0.011583   0.000053            -0.032962   \n",
       "DepTime                  0.010612   0.006012            -0.033564   \n",
       "DepDelayMin              0.003017   0.028893             0.003201   \n",
       "DepDelayMin0             0.000950   0.032816             0.006120   \n",
       "DepDelay_Ind15           0.011823   0.025800             0.004224   \n",
       "DepDelayGroup_Int15      0.005230   0.029049             0.004877   \n",
       "CRSArrTime               0.007495  -0.002499            -0.006026   \n",
       "ArrTime                  0.004559   0.002110            -0.005142   \n",
       "ArrDelayMin              0.002227   0.036222             0.007803   \n",
       "ArrDelayMin0            -0.000225   0.036400             0.008547   \n",
       "ArrDelay_Ind15           0.007944   0.033620             0.008998   \n",
       "ArrDelayGroup_Int15      0.003883   0.038540             0.008484   \n",
       "Cancelled               -0.008014   0.051217             0.006770   \n",
       "Diverted                 0.000955   0.010539            -0.000391   \n",
       "CRSElapsedTimeMin        0.014173  -0.306115             0.059759   \n",
       "ActualElapsedTimeMin     0.013255  -0.299335             0.064697   \n",
       "FlightTimeMin            0.015725  -0.322894             0.064044   \n",
       "NumberOfFlights               NaN        NaN                  NaN   \n",
       "DistanceMil              0.017106  -0.343563             0.092742   \n",
       "Distance_Int250Mil       0.017144  -0.340548             0.096656   \n",
       "\n",
       "                        OriginCityMarket_IDNum  OriginWAC         ...          \\\n",
       "Unnamed: 0                            0.007732   0.004698         ...           \n",
       "Year                                 -0.000359   0.002918         ...           \n",
       "Quarter                               0.000359  -0.002918         ...           \n",
       "Month                                 0.000361  -0.003014         ...           \n",
       "DayOfMonth                            0.001190   0.002487         ...           \n",
       "DayOfWeek                             0.003905   0.001113         ...           \n",
       "FlightNum                             0.004631   0.025100         ...           \n",
       "OriginAirport_IDNum                   0.630043   0.257806         ...           \n",
       "OriginCityMarket_IDNum                1.000000   0.073980         ...           \n",
       "OriginWAC                             0.073980   1.000000         ...           \n",
       "DestAirport_IDNum                    -0.007505   0.122289         ...           \n",
       "DestCityMarket_IDNum                 -0.047327   0.031337         ...           \n",
       "DestWAC                               0.032015   0.457109         ...           \n",
       "CRSDepTime                           -0.053445  -0.025177         ...           \n",
       "DepTime                              -0.053157  -0.025257         ...           \n",
       "DepDelayMin                          -0.004952  -0.000988         ...           \n",
       "DepDelayMin0                          0.002055  -0.004486         ...           \n",
       "DepDelay_Ind15                       -0.014501   0.002178         ...           \n",
       "DepDelayGroup_Int15                  -0.008709  -0.001025         ...           \n",
       "CRSArrTime                           -0.044731   0.013849         ...           \n",
       "ArrTime                              -0.036369   0.017975         ...           \n",
       "ArrDelayMin                          -0.004921   0.000348         ...           \n",
       "ArrDelayMin0                          0.002570  -0.008170         ...           \n",
       "ArrDelay_Ind15                       -0.012093  -0.008706         ...           \n",
       "ArrDelayGroup_Int15                  -0.010502  -0.003217         ...           \n",
       "Cancelled                            -0.006653  -0.013939         ...           \n",
       "Diverted                             -0.000181   0.000211         ...           \n",
       "CRSElapsedTimeMin                     0.014816  -0.034503         ...           \n",
       "ActualElapsedTimeMin                  0.015437  -0.033746         ...           \n",
       "FlightTimeMin                         0.014482  -0.024247         ...           \n",
       "NumberOfFlights                            NaN        NaN         ...           \n",
       "DistanceMil                           0.022502   0.053657         ...           \n",
       "Distance_Int250Mil                    0.024164   0.055942         ...           \n",
       "\n",
       "                        ArrDelay_Ind15  ArrDelayGroup_Int15  Cancelled  \\\n",
       "Unnamed: 0                    0.044486             0.049908   0.043868   \n",
       "Year                          0.026343             0.030766   0.055229   \n",
       "Quarter                      -0.026343            -0.030766  -0.055229   \n",
       "Month                        -0.022605            -0.027137  -0.055057   \n",
       "DayOfMonth                    0.055176             0.058060   0.052615   \n",
       "DayOfWeek                     0.007944             0.003883  -0.008014   \n",
       "FlightNum                     0.033620             0.038540   0.051217   \n",
       "OriginAirport_IDNum           0.008998             0.008484   0.006770   \n",
       "OriginCityMarket_IDNum       -0.012093            -0.010502  -0.006653   \n",
       "OriginWAC                    -0.008706            -0.003217  -0.013939   \n",
       "DestAirport_IDNum             0.018665             0.018339   0.006043   \n",
       "DestCityMarket_IDNum          0.007209             0.005434  -0.010886   \n",
       "DestWAC                      -0.000763            -0.002930  -0.013149   \n",
       "CRSDepTime                    0.102974             0.092716   0.003396   \n",
       "DepTime                       0.154065             0.158619   0.004496   \n",
       "DepDelayMin                   0.514747             0.791442   0.025918   \n",
       "DepDelayMin0                  0.497910             0.779113   0.025771   \n",
       "DepDelay_Ind15                0.719721             0.685725   0.018601   \n",
       "DepDelayGroup_Int15           0.661643             0.914918   0.026727   \n",
       "CRSArrTime                    0.092886             0.084049  -0.001378   \n",
       "ArrTime                       0.066912             0.046189        NaN   \n",
       "ArrDelayMin                   0.594445             0.863222        NaN   \n",
       "ArrDelayMin0                  0.545905             0.813204        NaN   \n",
       "ArrDelay_Ind15                1.000000             0.755685        NaN   \n",
       "ArrDelayGroup_Int15           0.755685             1.000000        NaN   \n",
       "Cancelled                          NaN                  NaN   1.000000   \n",
       "Diverted                           NaN                  NaN  -0.007599   \n",
       "CRSElapsedTimeMin             0.011076            -0.017385  -0.044404   \n",
       "ActualElapsedTimeMin          0.084920             0.060850        NaN   \n",
       "FlightTimeMin                 0.033338             0.009003        NaN   \n",
       "NumberOfFlights                    NaN                  NaN        NaN   \n",
       "DistanceMil                   0.008359            -0.016256  -0.049707   \n",
       "Distance_Int250Mil            0.008128            -0.016374  -0.049861   \n",
       "\n",
       "                        Diverted  CRSElapsedTimeMin  ActualElapsedTimeMin  \\\n",
       "Unnamed: 0              0.007442           0.005173              0.013378   \n",
       "Year                    0.003052          -0.002523              0.002928   \n",
       "Quarter                -0.003052           0.002523             -0.002928   \n",
       "Month                  -0.002526           0.002468             -0.002530   \n",
       "DayOfMonth              0.003699           0.008935              0.014132   \n",
       "DayOfWeek               0.000955           0.014173              0.013255   \n",
       "FlightNum               0.010539          -0.306115             -0.299335   \n",
       "OriginAirport_IDNum    -0.000391           0.059759              0.064697   \n",
       "OriginCityMarket_IDNum -0.000181           0.014816              0.015437   \n",
       "OriginWAC               0.000211          -0.034503             -0.033746   \n",
       "DestAirport_IDNum       0.002928           0.108234              0.112413   \n",
       "DestCityMarket_IDNum    0.007887           0.015533              0.016993   \n",
       "DestWAC                 0.007450           0.099436              0.102160   \n",
       "CRSDepTime             -0.000993          -0.037333             -0.039990   \n",
       "DepTime                 0.000747          -0.039699             -0.041332   \n",
       "DepDelayMin             0.019273           0.008936              0.016278   \n",
       "DepDelayMin0            0.018710           0.004936              0.012401   \n",
       "DepDelay_Ind15          0.018365           0.010474              0.016853   \n",
       "DepDelayGroup_Int15     0.022183           0.014571              0.023085   \n",
       "CRSArrTime              0.001740           0.022626              0.020018   \n",
       "ArrTime                -0.006796           0.013752              0.014706   \n",
       "ArrDelayMin                  NaN          -0.022851              0.040033   \n",
       "ArrDelayMin0                 NaN           0.001496              0.042173   \n",
       "ArrDelay_Ind15               NaN           0.011076              0.084920   \n",
       "ArrDelayGroup_Int15          NaN          -0.017385              0.060850   \n",
       "Cancelled              -0.007599          -0.044404                   NaN   \n",
       "Diverted                1.000000           0.015181                   NaN   \n",
       "CRSElapsedTimeMin       0.015181           1.000000              0.980678   \n",
       "ActualElapsedTimeMin         NaN           0.980678              1.000000   \n",
       "FlightTimeMin                NaN           0.988276              0.986018   \n",
       "NumberOfFlights              NaN                NaN                   NaN   \n",
       "DistanceMil             0.012178           0.975666              0.959553   \n",
       "Distance_Int250Mil      0.011903           0.964856              0.948805   \n",
       "\n",
       "                        FlightTimeMin  NumberOfFlights  DistanceMil  \\\n",
       "Unnamed: 0                   0.005001              NaN    -0.002646   \n",
       "Year                        -0.002740              NaN    -0.009223   \n",
       "Quarter                      0.002740              NaN     0.009223   \n",
       "Month                        0.003000              NaN     0.009098   \n",
       "DayOfMonth                   0.011903              NaN     0.007266   \n",
       "DayOfWeek                    0.015725              NaN     0.017106   \n",
       "FlightNum                   -0.322894              NaN    -0.343563   \n",
       "OriginAirport_IDNum          0.064044              NaN     0.092742   \n",
       "OriginCityMarket_IDNum       0.014482              NaN     0.022502   \n",
       "OriginWAC                   -0.024247              NaN     0.053657   \n",
       "DestAirport_IDNum            0.118198              NaN     0.092970   \n",
       "DestCityMarket_IDNum         0.027743              NaN     0.022581   \n",
       "DestWAC                      0.110109              NaN     0.053487   \n",
       "CRSDepTime                  -0.027867              NaN    -0.019624   \n",
       "DepTime                     -0.031149              NaN    -0.024774   \n",
       "DepDelayMin                  0.005173              NaN     0.005960   \n",
       "DepDelayMin0                 0.000931              NaN     0.001236   \n",
       "DepDelay_Ind15               0.008149              NaN     0.011034   \n",
       "DepDelayGroup_Int15          0.010948              NaN     0.012060   \n",
       "CRSArrTime                   0.027257              NaN     0.029442   \n",
       "ArrTime                      0.019782              NaN     0.018851   \n",
       "ArrDelayMin                 -0.001615              NaN    -0.021036   \n",
       "ArrDelayMin0                 0.008604              NaN    -0.003188   \n",
       "ArrDelay_Ind15               0.033338              NaN     0.008359   \n",
       "ArrDelayGroup_Int15          0.009003              NaN    -0.016256   \n",
       "Cancelled                         NaN              NaN    -0.049707   \n",
       "Diverted                          NaN              NaN     0.012178   \n",
       "CRSElapsedTimeMin            0.988276              NaN     0.975666   \n",
       "ActualElapsedTimeMin         0.986018              NaN     0.959553   \n",
       "FlightTimeMin                1.000000              NaN     0.976260   \n",
       "NumberOfFlights                   NaN              NaN          NaN   \n",
       "DistanceMil                  0.976260              NaN     1.000000   \n",
       "Distance_Int250Mil           0.965495              NaN     0.987679   \n",
       "\n",
       "                        Distance_Int250Mil  \n",
       "Unnamed: 0                       -0.003004  \n",
       "Year                             -0.009493  \n",
       "Quarter                           0.009493  \n",
       "Month                             0.009367  \n",
       "DayOfMonth                        0.007189  \n",
       "DayOfWeek                         0.017144  \n",
       "FlightNum                        -0.340548  \n",
       "OriginAirport_IDNum               0.096656  \n",
       "OriginCityMarket_IDNum            0.024164  \n",
       "OriginWAC                         0.055942  \n",
       "DestAirport_IDNum                 0.096966  \n",
       "DestCityMarket_IDNum              0.024293  \n",
       "DestWAC                           0.055772  \n",
       "CRSDepTime                       -0.020930  \n",
       "DepTime                          -0.026150  \n",
       "DepDelayMin                       0.005668  \n",
       "DepDelayMin0                      0.000979  \n",
       "DepDelay_Ind15                    0.010989  \n",
       "DepDelayGroup_Int15               0.012012  \n",
       "CRSArrTime                        0.032980  \n",
       "ArrTime                           0.021929  \n",
       "ArrDelayMin                      -0.021174  \n",
       "ArrDelayMin0                     -0.003496  \n",
       "ArrDelay_Ind15                    0.008128  \n",
       "ArrDelayGroup_Int15              -0.016374  \n",
       "Cancelled                        -0.049861  \n",
       "Diverted                          0.011903  \n",
       "CRSElapsedTimeMin                 0.964856  \n",
       "ActualElapsedTimeMin              0.948805  \n",
       "FlightTimeMin                     0.965495  \n",
       "NumberOfFlights                        NaN  \n",
       "DistanceMil                       0.987679  \n",
       "Distance_Int250Mil                1.000000  \n",
       "\n",
       "[33 rows x 33 columns]"
      ]
     },
     "execution_count": 7,
     "metadata": {},
     "output_type": "execute_result"
    }
   ],
   "source": [
    "df.corr()"
   ]
  },
  {
   "cell_type": "code",
   "execution_count": 8,
   "metadata": {
    "scrolled": false
   },
   "outputs": [
    {
     "data": {
      "image/png": "[encoded data removed]",
      "text/plain": [
       "<Figure size 864x648 with 2 Axes>"
      ]
     },
     "metadata": {
      "needs_background": "light"
     },
     "output_type": "display_data"
    }
   ],
   "source": [
    "correlation = df.corr()\n",
    "plt.subplots(figsize=(12,9))\n",
    "heatmap_correlation = sbn.heatmap(correlation)\n",
    "plt.show()"
   ]
  },
  {
   "cell_type": "markdown",
   "metadata": {},
   "source": [
    "##### Relation between Departure and Arrival Delay"
   ]
  },
  {
   "cell_type": "code",
   "execution_count": 9,
   "metadata": {
    "scrolled": false
   },
   "outputs": [
    {
     "data": {
      "text/html": [
       "<div>\n",
       "<style scoped>\n",
       "    .dataframe tbody tr th:only-of-type {\n",
       "        vertical-align: middle;\n",
       "    }\n",
       "\n",
       "    .dataframe tbody tr th {\n",
       "        vertical-align: top;\n",
       "    }\n",
       "\n",
       "    .dataframe thead th {\n",
       "        text-align: right;\n",
       "    }\n",
       "</style>\n",
       "<table border=\"1\" class=\"dataframe\">\n",
       "  <thead>\n",
       "    <tr style=\"text-align: right;\">\n",
       "      <th></th>\n",
       "      <th>DepDelayMin</th>\n",
       "      <th>ArrDelayMin</th>\n",
       "      <th>DepDelayMin0</th>\n",
       "      <th>ArrDelayMin0</th>\n",
       "    </tr>\n",
       "  </thead>\n",
       "  <tbody>\n",
       "    <tr>\n",
       "      <th>count</th>\n",
       "      <td>1.673294e+06</td>\n",
       "      <td>1.668014e+06</td>\n",
       "      <td>1.673294e+06</td>\n",
       "      <td>1.668014e+06</td>\n",
       "    </tr>\n",
       "    <tr>\n",
       "      <th>mean</th>\n",
       "      <td>1.060557e+01</td>\n",
       "      <td>5.321637e+00</td>\n",
       "      <td>1.386509e+01</td>\n",
       "      <td>1.423746e+01</td>\n",
       "    </tr>\n",
       "    <tr>\n",
       "      <th>std</th>\n",
       "      <td>4.855219e+01</td>\n",
       "      <td>5.097335e+01</td>\n",
       "      <td>4.746279e+01</td>\n",
       "      <td>4.734297e+01</td>\n",
       "    </tr>\n",
       "    <tr>\n",
       "      <th>min</th>\n",
       "      <td>-7.200000e+01</td>\n",
       "      <td>-1.170000e+02</td>\n",
       "      <td>0.000000e+00</td>\n",
       "      <td>0.000000e+00</td>\n",
       "    </tr>\n",
       "    <tr>\n",
       "      <th>25%</th>\n",
       "      <td>-6.000000e+00</td>\n",
       "      <td>-1.500000e+01</td>\n",
       "      <td>0.000000e+00</td>\n",
       "      <td>0.000000e+00</td>\n",
       "    </tr>\n",
       "    <tr>\n",
       "      <th>50%</th>\n",
       "      <td>-2.000000e+00</td>\n",
       "      <td>-6.000000e+00</td>\n",
       "      <td>0.000000e+00</td>\n",
       "      <td>0.000000e+00</td>\n",
       "    </tr>\n",
       "    <tr>\n",
       "      <th>75%</th>\n",
       "      <td>7.000000e+00</td>\n",
       "      <td>9.000000e+00</td>\n",
       "      <td>7.000000e+00</td>\n",
       "      <td>9.000000e+00</td>\n",
       "    </tr>\n",
       "    <tr>\n",
       "      <th>max</th>\n",
       "      <td>2.672000e+03</td>\n",
       "      <td>2.649000e+03</td>\n",
       "      <td>2.672000e+03</td>\n",
       "      <td>2.649000e+03</td>\n",
       "    </tr>\n",
       "  </tbody>\n",
       "</table>\n",
       "</div>"
      ],
      "text/plain": [
       "        DepDelayMin   ArrDelayMin  DepDelayMin0  ArrDelayMin0\n",
       "count  1.673294e+06  1.668014e+06  1.673294e+06  1.668014e+06\n",
       "mean   1.060557e+01  5.321637e+00  1.386509e+01  1.423746e+01\n",
       "std    4.855219e+01  5.097335e+01  4.746279e+01  4.734297e+01\n",
       "min   -7.200000e+01 -1.170000e+02  0.000000e+00  0.000000e+00\n",
       "25%   -6.000000e+00 -1.500000e+01  0.000000e+00  0.000000e+00\n",
       "50%   -2.000000e+00 -6.000000e+00  0.000000e+00  0.000000e+00\n",
       "75%    7.000000e+00  9.000000e+00  7.000000e+00  9.000000e+00\n",
       "max    2.672000e+03  2.649000e+03  2.672000e+03  2.649000e+03"
      ]
     },
     "execution_count": 9,
     "metadata": {},
     "output_type": "execute_result"
    }
   ],
   "source": [
    "description = df[['DepDelayMin','ArrDelayMin','DepDelayMin0','ArrDelayMin0']].describe()\n",
    "description"
   ]
  },
  {
   "cell_type": "code",
   "execution_count": 10,
   "metadata": {
    "scrolled": true
   },
   "outputs": [
    {
     "data": {
      "text/plain": [
       "DepDelayMin     float64\n",
       "ArrDelayMin     float64\n",
       "DepDelayMin0    float64\n",
       "ArrDelayMin0    float64\n",
       "dtype: object"
      ]
     },
     "execution_count": 10,
     "metadata": {},
     "output_type": "execute_result"
    }
   ],
   "source": [
    "description.dtypes"
   ]
  },
  {
   "cell_type": "markdown",
   "metadata": {},
   "source": [
    "As the describe() method returns the calculated parameters as float, we will change it to a more suitable format (object) which will make it easier to compare the diferrent parameters."
   ]
  },
  {
   "cell_type": "code",
   "execution_count": 11,
   "metadata": {
    "scrolled": false
   },
   "outputs": [
    {
     "data": {
      "text/html": [
       "<div>\n",
       "<style scoped>\n",
       "    .dataframe tbody tr th:only-of-type {\n",
       "        vertical-align: middle;\n",
       "    }\n",
       "\n",
       "    .dataframe tbody tr th {\n",
       "        vertical-align: top;\n",
       "    }\n",
       "\n",
       "    .dataframe thead th {\n",
       "        text-align: right;\n",
       "    }\n",
       "</style>\n",
       "<table border=\"1\" class=\"dataframe\">\n",
       "  <thead>\n",
       "    <tr style=\"text-align: right;\">\n",
       "      <th></th>\n",
       "      <th>Departure</th>\n",
       "      <th>Arrival</th>\n",
       "      <th>DepDelayMin0</th>\n",
       "      <th>ArrDelayMin0</th>\n",
       "    </tr>\n",
       "  </thead>\n",
       "  <tbody>\n",
       "    <tr>\n",
       "      <th>count</th>\n",
       "      <td>1673294.000000</td>\n",
       "      <td>1668014.000000</td>\n",
       "      <td>1673294.000000</td>\n",
       "      <td>1668014.000000</td>\n",
       "    </tr>\n",
       "    <tr>\n",
       "      <th>mean</th>\n",
       "      <td>10.605567</td>\n",
       "      <td>5.321637</td>\n",
       "      <td>13.865092</td>\n",
       "      <td>14.237462</td>\n",
       "    </tr>\n",
       "    <tr>\n",
       "      <th>std</th>\n",
       "      <td>48.552191</td>\n",
       "      <td>50.973347</td>\n",
       "      <td>47.462787</td>\n",
       "      <td>47.342975</td>\n",
       "    </tr>\n",
       "    <tr>\n",
       "      <th>min</th>\n",
       "      <td>-72.000000</td>\n",
       "      <td>-117.000000</td>\n",
       "      <td>0.000000</td>\n",
       "      <td>0.000000</td>\n",
       "    </tr>\n",
       "    <tr>\n",
       "      <th>25%</th>\n",
       "      <td>-6.000000</td>\n",
       "      <td>-15.000000</td>\n",
       "      <td>0.000000</td>\n",
       "      <td>0.000000</td>\n",
       "    </tr>\n",
       "    <tr>\n",
       "      <th>50%</th>\n",
       "      <td>-2.000000</td>\n",
       "      <td>-6.000000</td>\n",
       "      <td>0.000000</td>\n",
       "      <td>0.000000</td>\n",
       "    </tr>\n",
       "    <tr>\n",
       "      <th>75%</th>\n",
       "      <td>7.000000</td>\n",
       "      <td>9.000000</td>\n",
       "      <td>7.000000</td>\n",
       "      <td>9.000000</td>\n",
       "    </tr>\n",
       "    <tr>\n",
       "      <th>max</th>\n",
       "      <td>2672.000000</td>\n",
       "      <td>2649.000000</td>\n",
       "      <td>2672.000000</td>\n",
       "      <td>2649.000000</td>\n",
       "    </tr>\n",
       "  </tbody>\n",
       "</table>\n",
       "</div>"
      ],
      "text/plain": [
       "            Departure         Arrival    DepDelayMin0    ArrDelayMin0\n",
       "count  1673294.000000  1668014.000000  1673294.000000  1668014.000000\n",
       "mean        10.605567        5.321637       13.865092       14.237462\n",
       "std         48.552191       50.973347       47.462787       47.342975\n",
       "min        -72.000000     -117.000000        0.000000        0.000000\n",
       "25%         -6.000000      -15.000000        0.000000        0.000000\n",
       "50%         -2.000000       -6.000000        0.000000        0.000000\n",
       "75%          7.000000        9.000000        7.000000        9.000000\n",
       "max       2672.000000     2649.000000     2672.000000     2649.000000"
      ]
     },
     "execution_count": 11,
     "metadata": {},
     "output_type": "execute_result"
    }
   ],
   "source": [
    "depdelay = df['DepDelayMin'].describe().apply(lambda x: format(x, 'f'))\n",
    "arrdelay = df['ArrDelayMin'].describe().apply(lambda x: format(x, 'f'))\n",
    "depdelay0 = df['DepDelayMin0'].describe().apply(lambda x: format(x, 'f'))\n",
    "arrdelay0 = df['ArrDelayMin0'].describe().apply(lambda x: format(x, 'f'))\n",
    "\n",
    "data = {'Departure': depdelay, 'Arrival': arrdelay, 'DepDelayMin0': depdelay0, 'ArrDelayMin0': arrdelay0}\n",
    "description = pd.DataFrame(data)\n",
    "description"
   ]
  },
  {
   "cell_type": "code",
   "execution_count": 57,
   "metadata": {},
   "outputs": [
    {
     "data": {
      "text/plain": [
       "Departure       object\n",
       "Arrival         object\n",
       "DepDelayMin0    object\n",
       "ArrDelayMin0    object\n",
       "dtype: object"
      ]
     },
     "execution_count": 57,
     "metadata": {},
     "output_type": "execute_result"
    }
   ],
   "source": [
    "description.dtypes"
   ]
  },
  {
   "cell_type": "code",
   "execution_count": 12,
   "metadata": {},
   "outputs": [],
   "source": [
    "aircraft = df.groupby('RegistrationNum')\n",
    "dep_delays_plot = aircraft['DepDelayMin'].agg(['mean', 'count'])\n",
    "arr_delays_plot = aircraft['ArrDelayMin'].agg(['mean', 'count'])"
   ]
  },
  {
   "cell_type": "code",
   "execution_count": 96,
   "metadata": {
    "scrolled": true
   },
   "outputs": [
    {
     "data": {
      "image/png": "[encoded data removed]",
      "text/plain": [
       "<Figure size 576x360 with 1 Axes>"
      ]
     },
     "metadata": {
      "needs_background": "light"
     },
     "output_type": "display_data"
    }
   ],
   "source": [
    "ax_departure = dep_delays_plot.plot.scatter('mean', 'count', figsize=(8,5), color='blue')"
   ]
  },
  {
   "cell_type": "code",
   "execution_count": 97,
   "metadata": {
    "scrolled": true
   },
   "outputs": [
    {
     "data": {
      "image/png": "[encoded data removed]",
      "text/plain": [
       "<Figure size 576x360 with 1 Axes>"
      ]
     },
     "metadata": {
      "needs_background": "light"
     },
     "output_type": "display_data"
    }
   ],
   "source": [
    "ax_arrival = arr_delays_plot.plot.scatter('mean', 'count', figsize=(8,5), color='green')"
   ]
  },
  {
   "cell_type": "markdown",
   "metadata": {},
   "source": [
    "##### Delay Distribution: Departure and Arrival"
   ]
  },
  {
   "cell_type": "code",
   "execution_count": 117,
   "metadata": {
    "scrolled": false
   },
   "outputs": [
    {
     "data": {
      "image/png": "[encoded data removed]",
      "text/plain": [
       "<Figure size 432x288 with 1 Axes>"
      ]
     },
     "metadata": {
      "needs_background": "light"
     },
     "output_type": "display_data"
    }
   ],
   "source": [
    "plt.hist(df['ArrDelayMin'], range=[min(df['ArrDelayMin']),100], bins=100,  color = 'green', alpha=0.4)\n",
    "plt.hist(df['DepDelayMin'], range=[min(df['DepDelayMin']),100], bins=100,  color = 'blue', alpha=0.4)\n",
    "plt.title('Delays Distribution')\n",
    "plt.xlabel('Time (minutes)')\n",
    "plt.ylabel('Frequency')\n",
    "plt.show()"
   ]
  },
  {
   "cell_type": "code",
   "execution_count": 69,
   "metadata": {},
   "outputs": [
    {
     "data": {
      "text/plain": [
       "<matplotlib.axes._subplots.AxesSubplot at 0x15ec4694ac8>"
      ]
     },
     "execution_count": 69,
     "metadata": {},
     "output_type": "execute_result"
    },
    {
     "data": {
      "image/png": "[encoded data removed]",
      "text/plain": [
       "<Figure size 864x576 with 1 Axes>"
      ]
     },
     "metadata": {
      "needs_background": "light"
     },
     "output_type": "display_data"
    }
   ],
   "source": [
    "df.boxplot(column=['DepDelayMin', 'ArrDelayMin', 'DepDelayMin0', 'ArrDelayMin0'], figsize=(12,8))"
   ]
  },
  {
   "cell_type": "markdown",
   "metadata": {},
   "source": [
    "Arrival Delay:"
   ]
  },
  {
   "cell_type": "code",
   "execution_count": 109,
   "metadata": {
    "scrolled": false
   },
   "outputs": [
    {
     "data": {
      "image/png": "[encoded data removed]",
      "text/plain": [
       "<Figure size 864x576 with 1 Axes>"
      ]
     },
     "metadata": {
      "needs_background": "light"
     },
     "output_type": "display_data"
    }
   ],
   "source": [
    "df.hist(column=['ArrDelayMin'], range=[min(df['ArrDelayMin']),200], bins=100, figsize=(12,8),  color = 'green')\n",
    "plt.title('Arrival Delays Distribution')\n",
    "plt.xlabel('Time (minutes)')\n",
    "plt.ylabel('Frequency')\n",
    "plt.show()"
   ]
  },
  {
   "cell_type": "markdown",
   "metadata": {},
   "source": [
    "Departure Delay:"
   ]
  },
  {
   "cell_type": "code",
   "execution_count": 108,
   "metadata": {},
   "outputs": [
    {
     "data": {
      "image/png": "[encoded data removed]",
      "text/plain": [
       "<Figure size 864x576 with 1 Axes>"
      ]
     },
     "metadata": {
      "needs_background": "light"
     },
     "output_type": "display_data"
    }
   ],
   "source": [
    "df.hist(column=['DepDelayMin'], range=[min(df['DepDelayMin']),200], bins=100, figsize=(12,8),  color = 'blue')\n",
    "plt.title('Departure Delays Distribution')\n",
    "plt.xlabel('Time (minutes)')\n",
    "plt.ylabel('Frequency')\n",
    "plt.show()"
   ]
  },
  {
   "cell_type": "markdown",
   "metadata": {},
   "source": [
    "### Season Analysis - Contextualitzation"
   ]
  },
  {
   "cell_type": "markdown",
   "metadata": {},
   "source": [
    "##### Flight Categoritzation: Ahead of time, On Time, Delayed and Cancelled\n",
    "Calculating Percentages"
   ]
  },
  {
   "cell_type": "code",
   "execution_count": 18,
   "metadata": {},
   "outputs": [],
   "source": [
    "#Fuction Definition\n",
    "def ahead_of_time(x):\n",
    "    return x < 0\n",
    "def on_time(x):\n",
    "    return x == 0\n",
    "def delayed(x):\n",
    "    return x > 0\n",
    "def cancelled(x):\n",
    "    return x is None    "
   ]
  },
  {
   "cell_type": "code",
   "execution_count": 19,
   "metadata": {},
   "outputs": [],
   "source": [
    "#'Apply' method\n",
    "df['ahead_of_time'] = df['ArrDelayMin'].apply(ahead_of_time)\n",
    "df['on_time'] = df['ArrDelayMin'].apply(on_time)\n",
    "df['delayed'] = df['ArrDelayMin'].apply(delayed)\n",
    "df['cancelled'] = df['ArrDelayMin'].apply(cancelled)"
   ]
  },
  {
   "cell_type": "markdown",
   "metadata": {},
   "source": [
    "Instead of defining the function, and than use the 'apply' method I will group both processes into one. We will use the 'lambda' function.\n",
    "\n",
    "In this process, we are adding 4 new columns to the dataset with: True or False, values.\n",
    "\n",
    "Also, as in the previous notebook: '01. Data Preparation', we have dropped the column 'CancellationCode', we will indetify the cancelled flights when the 'ArrDelayMin' is null. This statement can be wrong, we will check it when calculating the percentages."
   ]
  },
  {
   "cell_type": "code",
   "execution_count": 20,
   "metadata": {},
   "outputs": [],
   "source": [
    "#Optimized Process\n",
    "df['ahead_of_time'] = df['ArrDelayMin'].apply(lambda x: x < 0)\n",
    "df['on_time'] = df['ArrDelayMin'].apply(lambda x: x == 0)\n",
    "df['delayed'] = df['ArrDelayMin'].apply(lambda x: x > 0)\n",
    "df['cancelled'] = df['ArrDelayMin'].apply(lambda x: x is None) "
   ]
  },
  {
   "cell_type": "code",
   "execution_count": 21,
   "metadata": {
    "scrolled": true
   },
   "outputs": [
    {
     "data": {
      "text/plain": [
       "False    1105306\n",
       "True      605696\n",
       "Name: delayed, dtype: int64"
      ]
     },
     "execution_count": 21,
     "metadata": {},
     "output_type": "execute_result"
    }
   ],
   "source": [
    "#Let's calculate the percentages for each situation. We'll start with delayed flights\n",
    "df['delayed'].value_counts()"
   ]
  },
  {
   "cell_type": "markdown",
   "metadata": {},
   "source": [
    "The result shows that 1105306 flights were not delayed, whereas 605696 were delayed."
   ]
  },
  {
   "cell_type": "code",
   "execution_count": 22,
   "metadata": {},
   "outputs": [
    {
     "data": {
      "text/plain": [
       "(1711002, 1711002)"
      ]
     },
     "execution_count": 22,
     "metadata": {},
     "output_type": "execute_result"
    }
   ],
   "source": [
    "#The length of the dataset should be the result of the addition of both delayed and not delayed flights. Let's check it:\n",
    "delayed = df['delayed'].value_counts()[1] #True = 1\n",
    "not_delayed = df['delayed'].value_counts()[0] #False = 0\n",
    "total_flights = delayed + not_delayed\n",
    "len(df), total_flights"
   ]
  },
  {
   "cell_type": "markdown",
   "metadata": {},
   "source": [
    "Correct! Let's calculate the percentages."
   ]
  },
  {
   "cell_type": "code",
   "execution_count": 23,
   "metadata": {},
   "outputs": [
    {
     "data": {
      "text/plain": [
       "35.4"
      ]
     },
     "execution_count": 23,
     "metadata": {},
     "output_type": "execute_result"
    }
   ],
   "source": [
    "#Delayed Flights\n",
    "percentage_delayed = (delayed / len(df))*100\n",
    "percentage_delayed.round(2) #The 'round' function will give us a float with a selected number of decimals, I select 2"
   ]
  },
  {
   "cell_type": "code",
   "execution_count": 24,
   "metadata": {},
   "outputs": [
    {
     "data": {
      "text/plain": [
       "True     1030844\n",
       "False     680158\n",
       "Name: ahead_of_time, dtype: int64"
      ]
     },
     "execution_count": 24,
     "metadata": {},
     "output_type": "execute_result"
    }
   ],
   "source": [
    "#Ahead of Time\n",
    "df['ahead_of_time'].value_counts()"
   ]
  },
  {
   "cell_type": "code",
   "execution_count": 25,
   "metadata": {},
   "outputs": [
    {
     "data": {
      "text/plain": [
       "60.25"
      ]
     },
     "execution_count": 25,
     "metadata": {},
     "output_type": "execute_result"
    }
   ],
   "source": [
    "ahead = df['ahead_of_time'].value_counts()[1]\n",
    "percentage_ahead_of_time = (ahead / len(df))*100\n",
    "percentage_ahead_of_time.round(2)"
   ]
  },
  {
   "cell_type": "code",
   "execution_count": 26,
   "metadata": {},
   "outputs": [
    {
     "data": {
      "text/plain": [
       "False    1679528\n",
       "True       31474\n",
       "Name: on_time, dtype: int64"
      ]
     },
     "execution_count": 26,
     "metadata": {},
     "output_type": "execute_result"
    }
   ],
   "source": [
    "#On Time\n",
    "df['on_time'].value_counts()"
   ]
  },
  {
   "cell_type": "code",
   "execution_count": 27,
   "metadata": {},
   "outputs": [
    {
     "data": {
      "text/plain": [
       "1.84"
      ]
     },
     "execution_count": 27,
     "metadata": {},
     "output_type": "execute_result"
    }
   ],
   "source": [
    "on_time = df['on_time'].value_counts()[1]\n",
    "percentage_on_time = (on_time / len(df))*100\n",
    "percentage_on_time.round(2)"
   ]
  },
  {
   "cell_type": "code",
   "execution_count": 28,
   "metadata": {},
   "outputs": [
    {
     "data": {
      "text/plain": [
       "False    1711002\n",
       "Name: cancelled, dtype: int64"
      ]
     },
     "execution_count": 28,
     "metadata": {},
     "output_type": "execute_result"
    }
   ],
   "source": [
    "#Cancelled\n",
    "df['cancelled'].value_counts()"
   ]
  },
  {
   "cell_type": "markdown",
   "metadata": {},
   "source": [
    "As we can see the cancelled column shows no null values, which means our initial statement was wrong. But, as we have the rest of percentages, we can easily calculate the cancelled percentage."
   ]
  },
  {
   "cell_type": "code",
   "execution_count": 29,
   "metadata": {},
   "outputs": [
    {
     "data": {
      "text/plain": [
       "2.51"
      ]
     },
     "execution_count": 29,
     "metadata": {},
     "output_type": "execute_result"
    }
   ],
   "source": [
    "percentage_cancelled = 100-(percentage_ahead_of_time+percentage_delayed+percentage_on_time)\n",
    "percentage_cancelled.round(2)"
   ]
  },
  {
   "cell_type": "code",
   "execution_count": 30,
   "metadata": {},
   "outputs": [
    {
     "data": {
      "text/html": [
       "<div>\n",
       "<style scoped>\n",
       "    .dataframe tbody tr th:only-of-type {\n",
       "        vertical-align: middle;\n",
       "    }\n",
       "\n",
       "    .dataframe tbody tr th {\n",
       "        vertical-align: top;\n",
       "    }\n",
       "\n",
       "    .dataframe thead th {\n",
       "        text-align: right;\n",
       "    }\n",
       "</style>\n",
       "<table border=\"1\" class=\"dataframe\">\n",
       "  <thead>\n",
       "    <tr style=\"text-align: right;\">\n",
       "      <th></th>\n",
       "      <th>Flights</th>\n",
       "      <th>Percentages</th>\n",
       "    </tr>\n",
       "  </thead>\n",
       "  <tbody>\n",
       "    <tr>\n",
       "      <th>0</th>\n",
       "      <td>Ahead of Time</td>\n",
       "      <td>60.25</td>\n",
       "    </tr>\n",
       "    <tr>\n",
       "      <th>1</th>\n",
       "      <td>On Time</td>\n",
       "      <td>1.84</td>\n",
       "    </tr>\n",
       "    <tr>\n",
       "      <th>2</th>\n",
       "      <td>Delayed</td>\n",
       "      <td>35.40</td>\n",
       "    </tr>\n",
       "    <tr>\n",
       "      <th>3</th>\n",
       "      <td>Cancelled</td>\n",
       "      <td>2.51</td>\n",
       "    </tr>\n",
       "  </tbody>\n",
       "</table>\n",
       "</div>"
      ],
      "text/plain": [
       "         Flights  Percentages\n",
       "0  Ahead of Time        60.25\n",
       "1        On Time         1.84\n",
       "2        Delayed        35.40\n",
       "3      Cancelled         2.51"
      ]
     },
     "execution_count": 30,
     "metadata": {},
     "output_type": "execute_result"
    }
   ],
   "source": [
    "Percentages = {'Flights': ['Ahead of Time','On Time','Delayed','Cancelled'],\n",
    "                'Percentages':[percentage_ahead_of_time.round(2), percentage_on_time.round(2), \n",
    "                               percentage_delayed.round(2), percentage_cancelled.round(2)]}\n",
    "percentages = DataFrame(Percentages, columns=['Flights', 'Percentages'])\n",
    "percentages"
   ]
  },
  {
   "cell_type": "code",
   "execution_count": 98,
   "metadata": {},
   "outputs": [
    {
     "data": {
      "text/plain": [
       "<matplotlib.axes._subplots.AxesSubplot at 0x15f55e86128>"
      ]
     },
     "execution_count": 98,
     "metadata": {},
     "output_type": "execute_result"
    },
    {
     "data": {
      "image/png": "[encoded data removed]",
      "text/plain": [
       "<Figure size 576x576 with 1 Axes>"
      ]
     },
     "metadata": {},
     "output_type": "display_data"
    }
   ],
   "source": [
    "#Let's plot the results obtained\n",
    "percentages.plot.pie(y='Percentages', labels=percentages['Flights'], autopct = \"%.2f%%\", figsize=(8,8))"
   ]
  },
  {
   "cell_type": "markdown",
   "metadata": {},
   "source": [
    "Conclusion: During the winter season of 2018-2019 the 60.25% of flights arrived ahead of time, adding the one-time ones, we have total of 62.09% of the total flights that didn't represent inconvenience to the passenger (time wise). But we can also observe that the 35.40% of the flight had some type of delay.\n",
    "\n",
    "It is really interesting to see that in amount of percentatge the 'Ahead of Time' and 'Delayed' flights, dominate. Whereas, the 'On-Time' flights only represent 1.84% of the total. From this we can rescue that the aviation sector isn't really exact on time arrival estimations. Moreover, through this data we can recognize a pattern that airlines use to reduce their rate of delay, divulging higher flight times than real flight times.\n",
    "\n",
    "Now let's focus on the 'Delayed' flights."
   ]
  },
  {
   "cell_type": "markdown",
   "metadata": {},
   "source": [
    "##### Calculating percentage of flights delayed per month"
   ]
  },
  {
   "cell_type": "code",
   "execution_count": 32,
   "metadata": {},
   "outputs": [
    {
     "data": {
      "text/plain": [
       "Index(['Unnamed: 0', 'Year', 'Quarter', 'Month', 'DayOfMonth', 'DayOfWeek',\n",
       "       'FlightDate', 'UniqueCarrier', 'Carrier', 'RegistrationNum',\n",
       "       'FlightNum', 'OriginAirport_IDNum', 'OriginCityMarket_IDNum',\n",
       "       'Origin_IATA', 'OriginCityName', 'OriginState_ID', 'OriginStateName',\n",
       "       'OriginWAC', 'DestAirport_IDNum', 'DestCityMarket_IDNum', 'Dest_IATA',\n",
       "       'DestCityName', 'DestState_ID', 'DestStateName', 'DestWAC',\n",
       "       'CRSDepTime', 'DepTime', 'DepDelayMin', 'DepDelayMin0',\n",
       "       'DepDelay_Ind15', 'DepDelayGroup_Int15', 'CRSArrTime', 'ArrTime',\n",
       "       'ArrDelayMin', 'ArrDelayMin0', 'ArrDelay_Ind15', 'ArrDelayGroup_Int15',\n",
       "       'Cancelled', 'Diverted', 'CRSElapsedTimeMin', 'ActualElapsedTimeMin',\n",
       "       'FlightTimeMin', 'NumberOfFlights', 'DistanceMil', 'Distance_Int250Mil',\n",
       "       'DepTime2', 'ArrTime2', 'DepDateTime', 'ArrDateTime', 'ahead_of_time',\n",
       "       'on_time', 'delayed', 'cancelled'],\n",
       "      dtype='object')"
      ]
     },
     "execution_count": 32,
     "metadata": {},
     "output_type": "execute_result"
    }
   ],
   "source": [
    "df.columns"
   ]
  },
  {
   "cell_type": "code",
   "execution_count": 33,
   "metadata": {},
   "outputs": [],
   "source": [
    "season = df.groupby(['Month', 'delayed'])"
   ]
  },
  {
   "cell_type": "code",
   "execution_count": 34,
   "metadata": {
    "scrolled": true
   },
   "outputs": [
    {
     "data": {
      "text/html": [
       "<div>\n",
       "<style scoped>\n",
       "    .dataframe tbody tr th:only-of-type {\n",
       "        vertical-align: middle;\n",
       "    }\n",
       "\n",
       "    .dataframe tbody tr th {\n",
       "        vertical-align: top;\n",
       "    }\n",
       "\n",
       "    .dataframe thead th {\n",
       "        text-align: right;\n",
       "    }\n",
       "</style>\n",
       "<table border=\"1\" class=\"dataframe\">\n",
       "  <thead>\n",
       "    <tr style=\"text-align: right;\">\n",
       "      <th>delayed</th>\n",
       "      <th>False</th>\n",
       "      <th>True</th>\n",
       "    </tr>\n",
       "    <tr>\n",
       "      <th>Month</th>\n",
       "      <th></th>\n",
       "      <th></th>\n",
       "    </tr>\n",
       "  </thead>\n",
       "  <tbody>\n",
       "    <tr>\n",
       "      <th>1</th>\n",
       "      <td>390791</td>\n",
       "      <td>193194</td>\n",
       "    </tr>\n",
       "    <tr>\n",
       "      <th>2</th>\n",
       "      <td>328481</td>\n",
       "      <td>204694</td>\n",
       "    </tr>\n",
       "    <tr>\n",
       "      <th>12</th>\n",
       "      <td>386034</td>\n",
       "      <td>207808</td>\n",
       "    </tr>\n",
       "  </tbody>\n",
       "</table>\n",
       "</div>"
      ],
      "text/plain": [
       "delayed   False   True \n",
       "Month                  \n",
       "1        390791  193194\n",
       "2        328481  204694\n",
       "12       386034  207808"
      ]
     },
     "execution_count": 34,
     "metadata": {},
     "output_type": "execute_result"
    }
   ],
   "source": [
    "season.size().unstack()"
   ]
  },
  {
   "cell_type": "code",
   "execution_count": 35,
   "metadata": {},
   "outputs": [
    {
     "data": {
      "text/plain": [
       "605696"
      ]
     },
     "execution_count": 35,
     "metadata": {},
     "output_type": "execute_result"
    }
   ],
   "source": [
    "total_delayed_flights = df['delayed'].value_counts()[1]\n",
    "total_delayed_flights"
   ]
  },
  {
   "cell_type": "code",
   "execution_count": 118,
   "metadata": {},
   "outputs": [
    {
     "data": {
      "text/plain": [
       "(207808, 193194, 204694)"
      ]
     },
     "execution_count": 118,
     "metadata": {},
     "output_type": "execute_result"
    }
   ],
   "source": [
    "#Number of Delays per month\n",
    "december_delayed_flights = df[df['Month'] == 12]['delayed'].sum()\n",
    "january_delayed_flights = df[df['Month'] == 1]['delayed'].sum()\n",
    "february_delayed_flights = df[df['Month'] == 2]['delayed'].sum()\n",
    "december_delayed_flights, january_delayed_flights, february_delayed_flights"
   ]
  },
  {
   "cell_type": "code",
   "execution_count": 37,
   "metadata": {},
   "outputs": [
    {
     "data": {
      "text/plain": [
       "(34.30896027049874, 31.89619875316991, 33.79484097633136)"
      ]
     },
     "execution_count": 37,
     "metadata": {},
     "output_type": "execute_result"
    }
   ],
   "source": [
    "#Calculating percentage per month\n",
    "december_percentage = (december_delayed_flights/total_delayed_flights)*100\n",
    "january_percentage = (january_delayed_flights/total_delayed_flights)*100\n",
    "february_percentage =  (february_delayed_flights/total_delayed_flights)*100\n",
    "#Let's check the results make sense\n",
    "december_percentage, january_percentage, february_percentage"
   ]
  },
  {
   "cell_type": "code",
   "execution_count": 38,
   "metadata": {
    "scrolled": true
   },
   "outputs": [
    {
     "data": {
      "text/html": [
       "<div>\n",
       "<style scoped>\n",
       "    .dataframe tbody tr th:only-of-type {\n",
       "        vertical-align: middle;\n",
       "    }\n",
       "\n",
       "    .dataframe tbody tr th {\n",
       "        vertical-align: top;\n",
       "    }\n",
       "\n",
       "    .dataframe thead th {\n",
       "        text-align: right;\n",
       "    }\n",
       "</style>\n",
       "<table border=\"1\" class=\"dataframe\">\n",
       "  <thead>\n",
       "    <tr style=\"text-align: right;\">\n",
       "      <th></th>\n",
       "      <th>Month</th>\n",
       "      <th>Percentages</th>\n",
       "    </tr>\n",
       "  </thead>\n",
       "  <tbody>\n",
       "    <tr>\n",
       "      <th>0</th>\n",
       "      <td>December</td>\n",
       "      <td>34.31</td>\n",
       "    </tr>\n",
       "    <tr>\n",
       "      <th>1</th>\n",
       "      <td>January</td>\n",
       "      <td>31.90</td>\n",
       "    </tr>\n",
       "    <tr>\n",
       "      <th>2</th>\n",
       "      <td>February</td>\n",
       "      <td>33.79</td>\n",
       "    </tr>\n",
       "  </tbody>\n",
       "</table>\n",
       "</div>"
      ],
      "text/plain": [
       "      Month  Percentages\n",
       "0  December        34.31\n",
       "1   January        31.90\n",
       "2  February        33.79"
      ]
     },
     "execution_count": 38,
     "metadata": {},
     "output_type": "execute_result"
    }
   ],
   "source": [
    "Delays_per_month = {'Month': ['December', 'January', 'February'],\n",
    "                   'Percentages': [december_percentage.round(2), january_percentage.round(2), february_percentage.round(2)]}\n",
    "Month_percentages = DataFrame(Delays_per_month, columns=['Month','Percentages'])\n",
    "Month_percentages"
   ]
  },
  {
   "cell_type": "code",
   "execution_count": 99,
   "metadata": {
    "scrolled": false
   },
   "outputs": [
    {
     "data": {
      "text/plain": [
       "<matplotlib.axes._subplots.AxesSubplot at 0x15f59cf52e8>"
      ]
     },
     "execution_count": 99,
     "metadata": {},
     "output_type": "execute_result"
    },
    {
     "data": {
      "image/png": "[encoded data removed]",
      "text/plain": [
       "<Figure size 576x576 with 1 Axes>"
      ]
     },
     "metadata": {},
     "output_type": "display_data"
    }
   ],
   "source": [
    "#Let's plot the results obtained\n",
    "Month_percentages.plot.pie(y='Percentages', labels=Month_percentages['Month'], autopct = \"%.2f%%\", figsize=(8,8))"
   ]
  },
  {
   "cell_type": "markdown",
   "metadata": {},
   "source": [
    "Conclusion: The distribution of delayed flights between the three months of the winter season is really equal. December is the month with the most delayed flights (34.31%), whereas January is the lowest (31.90%). \n",
    "\n",
    "In order to provide more information regarding the timeline analysis, let's go deeper into the analysis."
   ]
  },
  {
   "cell_type": "markdown",
   "metadata": {},
   "source": [
    "##### Comparison between Top 20 Days per number of flights delayed and Top 20 per volume of total flights"
   ]
  },
  {
   "cell_type": "code",
   "execution_count": 40,
   "metadata": {
    "scrolled": false
   },
   "outputs": [
    {
     "data": {
      "text/plain": [
       "FlightDate  delayed\n",
       "2018-12-28  True       11637.0\n",
       "2018-12-21  True       11158.0\n",
       "2018-12-27  True       10966.0\n",
       "2018-12-20  True       10675.0\n",
       "2019-02-20  True       10308.0\n",
       "2019-02-22  True        9555.0\n",
       "2019-02-18  True        9486.0\n",
       "2019-01-24  True        9401.0\n",
       "2019-02-21  True        9263.0\n",
       "2019-01-02  True        9132.0\n",
       "2018-12-29  True        8868.0\n",
       "2018-12-14  True        8837.0\n",
       "2019-02-28  True        8783.0\n",
       "2019-02-19  True        8747.0\n",
       "2019-01-21  True        8411.0\n",
       "2019-02-12  True        8296.0\n",
       "2019-02-13  True        8244.0\n",
       "2019-02-11  True        8209.0\n",
       "2019-02-15  True        8097.0\n",
       "2019-01-18  True        8007.0\n",
       "Name: delayed, dtype: float64"
      ]
     },
     "execution_count": 40,
     "metadata": {},
     "output_type": "execute_result"
    }
   ],
   "source": [
    "#Let's check the top 20 days per number of flights delayed\n",
    "group_by_date_delayed = df.groupby(['FlightDate','delayed'])\n",
    "top20 = group_by_date_delayed['delayed'].sum().sort_values(ascending=False).head(20)\n",
    "top20"
   ]
  },
  {
   "cell_type": "code",
   "execution_count": 41,
   "metadata": {},
   "outputs": [
    {
     "data": {
      "text/html": [
       "<div>\n",
       "<style scoped>\n",
       "    .dataframe tbody tr th:only-of-type {\n",
       "        vertical-align: middle;\n",
       "    }\n",
       "\n",
       "    .dataframe tbody tr th {\n",
       "        vertical-align: top;\n",
       "    }\n",
       "\n",
       "    .dataframe thead th {\n",
       "        text-align: right;\n",
       "    }\n",
       "</style>\n",
       "<table border=\"1\" class=\"dataframe\">\n",
       "  <thead>\n",
       "    <tr style=\"text-align: right;\">\n",
       "      <th>delayed</th>\n",
       "      <th>FlightDate</th>\n",
       "      <th>False</th>\n",
       "      <th>True</th>\n",
       "      <th>total</th>\n",
       "    </tr>\n",
       "  </thead>\n",
       "  <tbody>\n",
       "    <tr>\n",
       "      <th>20</th>\n",
       "      <td>2018-12-21</td>\n",
       "      <td>9856</td>\n",
       "      <td>11158</td>\n",
       "      <td>21014</td>\n",
       "    </tr>\n",
       "    <tr>\n",
       "      <th>19</th>\n",
       "      <td>2018-12-20</td>\n",
       "      <td>10272</td>\n",
       "      <td>10675</td>\n",
       "      <td>20947</td>\n",
       "    </tr>\n",
       "    <tr>\n",
       "      <th>27</th>\n",
       "      <td>2018-12-28</td>\n",
       "      <td>9093</td>\n",
       "      <td>11637</td>\n",
       "      <td>20730</td>\n",
       "    </tr>\n",
       "    <tr>\n",
       "      <th>26</th>\n",
       "      <td>2018-12-27</td>\n",
       "      <td>9751</td>\n",
       "      <td>10966</td>\n",
       "      <td>20717</td>\n",
       "    </tr>\n",
       "    <tr>\n",
       "      <th>25</th>\n",
       "      <td>2018-12-26</td>\n",
       "      <td>12732</td>\n",
       "      <td>7856</td>\n",
       "      <td>20588</td>\n",
       "    </tr>\n",
       "    <tr>\n",
       "      <th>76</th>\n",
       "      <td>2019-02-15</td>\n",
       "      <td>12464</td>\n",
       "      <td>8097</td>\n",
       "      <td>20561</td>\n",
       "    </tr>\n",
       "    <tr>\n",
       "      <th>89</th>\n",
       "      <td>2019-02-28</td>\n",
       "      <td>11763</td>\n",
       "      <td>8783</td>\n",
       "      <td>20546</td>\n",
       "    </tr>\n",
       "    <tr>\n",
       "      <th>83</th>\n",
       "      <td>2019-02-22</td>\n",
       "      <td>10976</td>\n",
       "      <td>9555</td>\n",
       "      <td>20531</td>\n",
       "    </tr>\n",
       "    <tr>\n",
       "      <th>86</th>\n",
       "      <td>2019-02-25</td>\n",
       "      <td>12573</td>\n",
       "      <td>7912</td>\n",
       "      <td>20485</td>\n",
       "    </tr>\n",
       "    <tr>\n",
       "      <th>82</th>\n",
       "      <td>2019-02-21</td>\n",
       "      <td>11217</td>\n",
       "      <td>9263</td>\n",
       "      <td>20480</td>\n",
       "    </tr>\n",
       "    <tr>\n",
       "      <th>13</th>\n",
       "      <td>2018-12-14</td>\n",
       "      <td>11613</td>\n",
       "      <td>8837</td>\n",
       "      <td>20450</td>\n",
       "    </tr>\n",
       "    <tr>\n",
       "      <th>75</th>\n",
       "      <td>2019-02-14</td>\n",
       "      <td>12629</td>\n",
       "      <td>7787</td>\n",
       "      <td>20416</td>\n",
       "    </tr>\n",
       "    <tr>\n",
       "      <th>6</th>\n",
       "      <td>2018-12-07</td>\n",
       "      <td>13713</td>\n",
       "      <td>6701</td>\n",
       "      <td>20414</td>\n",
       "    </tr>\n",
       "    <tr>\n",
       "      <th>32</th>\n",
       "      <td>2019-01-02</td>\n",
       "      <td>11252</td>\n",
       "      <td>9132</td>\n",
       "      <td>20384</td>\n",
       "    </tr>\n",
       "    <tr>\n",
       "      <th>12</th>\n",
       "      <td>2018-12-13</td>\n",
       "      <td>13393</td>\n",
       "      <td>6980</td>\n",
       "      <td>20373</td>\n",
       "    </tr>\n",
       "    <tr>\n",
       "      <th>22</th>\n",
       "      <td>2018-12-23</td>\n",
       "      <td>14324</td>\n",
       "      <td>6044</td>\n",
       "      <td>20368</td>\n",
       "    </tr>\n",
       "    <tr>\n",
       "      <th>29</th>\n",
       "      <td>2018-12-30</td>\n",
       "      <td>12588</td>\n",
       "      <td>7758</td>\n",
       "      <td>20346</td>\n",
       "    </tr>\n",
       "    <tr>\n",
       "      <th>18</th>\n",
       "      <td>2018-12-19</td>\n",
       "      <td>14465</td>\n",
       "      <td>5880</td>\n",
       "      <td>20345</td>\n",
       "    </tr>\n",
       "    <tr>\n",
       "      <th>5</th>\n",
       "      <td>2018-12-06</td>\n",
       "      <td>13208</td>\n",
       "      <td>7136</td>\n",
       "      <td>20344</td>\n",
       "    </tr>\n",
       "    <tr>\n",
       "      <th>79</th>\n",
       "      <td>2019-02-18</td>\n",
       "      <td>10790</td>\n",
       "      <td>9486</td>\n",
       "      <td>20276</td>\n",
       "    </tr>\n",
       "  </tbody>\n",
       "</table>\n",
       "</div>"
      ],
      "text/plain": [
       "delayed  FlightDate  False   True  total\n",
       "20       2018-12-21   9856  11158  21014\n",
       "19       2018-12-20  10272  10675  20947\n",
       "27       2018-12-28   9093  11637  20730\n",
       "26       2018-12-27   9751  10966  20717\n",
       "25       2018-12-26  12732   7856  20588\n",
       "76       2019-02-15  12464   8097  20561\n",
       "89       2019-02-28  11763   8783  20546\n",
       "83       2019-02-22  10976   9555  20531\n",
       "86       2019-02-25  12573   7912  20485\n",
       "82       2019-02-21  11217   9263  20480\n",
       "13       2018-12-14  11613   8837  20450\n",
       "75       2019-02-14  12629   7787  20416\n",
       "6        2018-12-07  13713   6701  20414\n",
       "32       2019-01-02  11252   9132  20384\n",
       "12       2018-12-13  13393   6980  20373\n",
       "22       2018-12-23  14324   6044  20368\n",
       "29       2018-12-30  12588   7758  20346\n",
       "18       2018-12-19  14465   5880  20345\n",
       "5        2018-12-06  13208   7136  20344\n",
       "79       2019-02-18  10790   9486  20276"
      ]
     },
     "execution_count": 41,
     "metadata": {},
     "output_type": "execute_result"
    }
   ],
   "source": [
    "#Let's check the top 20 days per volume of flights\n",
    "group_by_date_top20 = df.groupby(['FlightDate','delayed']).size().unstack().reset_index()\n",
    "group_by_date_top20['total'] = (group_by_date_top20[False] + group_by_date_top20[True])\n",
    "group_by_date_top20.sort_values(by=['total'],ascending=False).head(20)"
   ]
  },
  {
   "cell_type": "markdown",
   "metadata": {},
   "source": [
    "The top 4 days, regarding the amount of delayed flights belong to December, the month with more delayed flights. Also, these days are close to each other."
   ]
  },
  {
   "cell_type": "markdown",
   "metadata": {},
   "source": [
    "##### Comparison per Month between the Arrival Delay Distribution, Top 10 Days per number of flights delayed and Top 10 Days per number of total flights"
   ]
  },
  {
   "cell_type": "code",
   "execution_count": 42,
   "metadata": {},
   "outputs": [
    {
     "data": {
      "text/html": [
       "<div>\n",
       "<style scoped>\n",
       "    .dataframe tbody tr th:only-of-type {\n",
       "        vertical-align: middle;\n",
       "    }\n",
       "\n",
       "    .dataframe tbody tr th {\n",
       "        vertical-align: top;\n",
       "    }\n",
       "\n",
       "    .dataframe thead th {\n",
       "        text-align: right;\n",
       "    }\n",
       "</style>\n",
       "<table border=\"1\" class=\"dataframe\">\n",
       "  <thead>\n",
       "    <tr style=\"text-align: right;\">\n",
       "      <th></th>\n",
       "      <th>ArrDelayMin</th>\n",
       "      <th>ArrDelayMin0</th>\n",
       "      <th>ArrDelay_Ind15</th>\n",
       "      <th>ArrDelayGroup_Int15</th>\n",
       "    </tr>\n",
       "  </thead>\n",
       "  <tbody>\n",
       "    <tr>\n",
       "      <th>count</th>\n",
       "      <td>1.668014e+06</td>\n",
       "      <td>1.668014e+06</td>\n",
       "      <td>1.668014e+06</td>\n",
       "      <td>1.668014e+06</td>\n",
       "    </tr>\n",
       "    <tr>\n",
       "      <th>mean</th>\n",
       "      <td>5.321637e+00</td>\n",
       "      <td>1.423746e+01</td>\n",
       "      <td>1.998670e-01</td>\n",
       "      <td>-1.761970e-01</td>\n",
       "    </tr>\n",
       "    <tr>\n",
       "      <th>std</th>\n",
       "      <td>5.097335e+01</td>\n",
       "      <td>4.734297e+01</td>\n",
       "      <td>3.999004e-01</td>\n",
       "      <td>2.394602e+00</td>\n",
       "    </tr>\n",
       "    <tr>\n",
       "      <th>min</th>\n",
       "      <td>-1.170000e+02</td>\n",
       "      <td>0.000000e+00</td>\n",
       "      <td>0.000000e+00</td>\n",
       "      <td>-2.000000e+00</td>\n",
       "    </tr>\n",
       "    <tr>\n",
       "      <th>25%</th>\n",
       "      <td>-1.500000e+01</td>\n",
       "      <td>0.000000e+00</td>\n",
       "      <td>0.000000e+00</td>\n",
       "      <td>-1.000000e+00</td>\n",
       "    </tr>\n",
       "    <tr>\n",
       "      <th>50%</th>\n",
       "      <td>-6.000000e+00</td>\n",
       "      <td>0.000000e+00</td>\n",
       "      <td>0.000000e+00</td>\n",
       "      <td>-1.000000e+00</td>\n",
       "    </tr>\n",
       "    <tr>\n",
       "      <th>75%</th>\n",
       "      <td>9.000000e+00</td>\n",
       "      <td>9.000000e+00</td>\n",
       "      <td>0.000000e+00</td>\n",
       "      <td>0.000000e+00</td>\n",
       "    </tr>\n",
       "    <tr>\n",
       "      <th>max</th>\n",
       "      <td>2.649000e+03</td>\n",
       "      <td>2.649000e+03</td>\n",
       "      <td>1.000000e+00</td>\n",
       "      <td>1.200000e+01</td>\n",
       "    </tr>\n",
       "  </tbody>\n",
       "</table>\n",
       "</div>"
      ],
      "text/plain": [
       "        ArrDelayMin  ArrDelayMin0  ArrDelay_Ind15  ArrDelayGroup_Int15\n",
       "count  1.668014e+06  1.668014e+06    1.668014e+06         1.668014e+06\n",
       "mean   5.321637e+00  1.423746e+01    1.998670e-01        -1.761970e-01\n",
       "std    5.097335e+01  4.734297e+01    3.999004e-01         2.394602e+00\n",
       "min   -1.170000e+02  0.000000e+00    0.000000e+00        -2.000000e+00\n",
       "25%   -1.500000e+01  0.000000e+00    0.000000e+00        -1.000000e+00\n",
       "50%   -6.000000e+00  0.000000e+00    0.000000e+00        -1.000000e+00\n",
       "75%    9.000000e+00  9.000000e+00    0.000000e+00         0.000000e+00\n",
       "max    2.649000e+03  2.649000e+03    1.000000e+00         1.200000e+01"
      ]
     },
     "execution_count": 42,
     "metadata": {},
     "output_type": "execute_result"
    }
   ],
   "source": [
    "df[['ArrDelayMin', 'ArrDelayMin0', 'ArrDelay_Ind15', 'ArrDelayGroup_Int15']].describe()"
   ]
  },
  {
   "cell_type": "code",
   "execution_count": 43,
   "metadata": {},
   "outputs": [],
   "source": [
    "#We will use the 'sort_values' method to order the dates\n",
    "dec_18 = df[df['Month'] == 12]['FlightDate'].sort_values(ascending=True) \n",
    "jan_19 = df[df['Month'] == 1]['FlightDate'].sort_values(ascending=True) \n",
    "feb_19 = df[df['Month'] == 2]['FlightDate'].sort_values(ascending=True) "
   ]
  },
  {
   "cell_type": "markdown",
   "metadata": {},
   "source": [
    "December:"
   ]
  },
  {
   "cell_type": "code",
   "execution_count": 44,
   "metadata": {},
   "outputs": [
    {
     "data": {
      "image/png": "[encoded data removed]",
      "text/plain": [
       "<Figure size 1440x720 with 1 Axes>"
      ]
     },
     "metadata": {
      "needs_background": "light"
     },
     "output_type": "display_data"
    }
   ],
   "source": [
    "#Distribution of Delay per Date\n",
    "#December\n",
    "fig, ax = plt.subplots(figsize=(20,10))\n",
    "sbn.boxplot(dec_18, df['ArrDelayMin0'],ax=ax, showfliers=False).set_title('December Distribution')\n",
    "fig.autofmt_xdate()"
   ]
  },
  {
   "cell_type": "code",
   "execution_count": 55,
   "metadata": {},
   "outputs": [
    {
     "data": {
      "text/plain": [
       "DayOfMonth  delayed\n",
       "28          True       11637.0\n",
       "21          True       11158.0\n",
       "27          True       10966.0\n",
       "20          True       10675.0\n",
       "29          True        8868.0\n",
       "14          True        8837.0\n",
       "26          True        7856.0\n",
       "30          True        7758.0\n",
       "2           True        7310.0\n",
       "22          True        7189.0\n",
       "Name: delayed, dtype: float64"
      ]
     },
     "execution_count": 55,
     "metadata": {},
     "output_type": "execute_result"
    }
   ],
   "source": [
    "#Let's check which is the number of day in the month with the most delayed flights (Top10)\n",
    "dec_top_delayed = df[df['Month'] == 12].groupby(['DayOfMonth','delayed'])\n",
    "dec_top_del = dec_top_delayed['delayed'].sum().sort_values(ascending=False).head(10)\n",
    "dec_top_del"
   ]
  },
  {
   "cell_type": "code",
   "execution_count": 48,
   "metadata": {
    "scrolled": false
   },
   "outputs": [
    {
     "data": {
      "text/plain": [
       "21    21014\n",
       "20    20947\n",
       "28    20730\n",
       "27    20717\n",
       "26    20588\n",
       "14    20450\n",
       "7     20414\n",
       "13    20373\n",
       "23    20368\n",
       "30    20346\n",
       "Name: DayOfMonth, dtype: int64"
      ]
     },
     "execution_count": 48,
     "metadata": {},
     "output_type": "execute_result"
    }
   ],
   "source": [
    "#Number of day in the month with the most flights (Top 10)\n",
    "dec_total_flights_day = df[df['Month'] == 12]['DayOfMonth'].value_counts()\n",
    "dec_total_flights_day.head(10)"
   ]
  },
  {
   "cell_type": "markdown",
   "metadata": {},
   "source": [
    "January:"
   ]
  },
  {
   "cell_type": "code",
   "execution_count": 49,
   "metadata": {
    "scrolled": false
   },
   "outputs": [
    {
     "data": {
      "image/png": "[encoded data removed]",
      "text/plain": [
       "<Figure size 1440x720 with 1 Axes>"
      ]
     },
     "metadata": {
      "needs_background": "light"
     },
     "output_type": "display_data"
    }
   ],
   "source": [
    "fig, ax = plt.subplots(figsize=(20,10))\n",
    "sbn.boxplot(jan_19, df['ArrDelayMin0'],ax=ax, showfliers=False).set_title('January Distribution')\n",
    "fig.autofmt_xdate()"
   ]
  },
  {
   "cell_type": "code",
   "execution_count": 50,
   "metadata": {},
   "outputs": [
    {
     "data": {
      "text/plain": [
       "DayOfMonth  delayed\n",
       "24          True       9401.0\n",
       "2           True       9132.0\n",
       "21          True       8411.0\n",
       "18          True       8007.0\n",
       "23          True       7924.0\n",
       "25          True       7752.0\n",
       "17          True       7672.0\n",
       "3           True       7066.0\n",
       "1           True       6891.0\n",
       "6           True       6844.0\n",
       "Name: delayed, dtype: float64"
      ]
     },
     "execution_count": 50,
     "metadata": {},
     "output_type": "execute_result"
    }
   ],
   "source": [
    "jan_top_delayed = df[df['Month'] == 1].groupby(['DayOfMonth','delayed'])\n",
    "jan_top_del = jan_top_delayed['delayed'].sum().sort_values(ascending=False).head(10)\n",
    "jan_top_del"
   ]
  },
  {
   "cell_type": "code",
   "execution_count": 51,
   "metadata": {
    "scrolled": true
   },
   "outputs": [
    {
     "data": {
      "text/plain": [
       "2     20384\n",
       "11    20082\n",
       "25    20041\n",
       "7     20015\n",
       "18    20009\n",
       "10    19980\n",
       "24    19963\n",
       "31    19962\n",
       "17    19960\n",
       "14    19941\n",
       "Name: DayOfMonth, dtype: int64"
      ]
     },
     "execution_count": 51,
     "metadata": {},
     "output_type": "execute_result"
    }
   ],
   "source": [
    "jan_total_flights_day = df[df['Month'] == 1]['DayOfMonth'].value_counts()\n",
    "jan_total_flights_day.head(10)"
   ]
  },
  {
   "cell_type": "markdown",
   "metadata": {},
   "source": [
    "February:"
   ]
  },
  {
   "cell_type": "code",
   "execution_count": 52,
   "metadata": {},
   "outputs": [
    {
     "data": {
      "image/png": "[encoded data removed]",
      "text/plain": [
       "<Figure size 1440x720 with 1 Axes>"
      ]
     },
     "metadata": {
      "needs_background": "light"
     },
     "output_type": "display_data"
    }
   ],
   "source": [
    "fig, ax = plt.subplots(figsize=(20,10))\n",
    "sbn.boxplot(feb_19, df['ArrDelayMin0'],ax=ax, showfliers=False).set_title('February Distribution')\n",
    "fig.autofmt_xdate()"
   ]
  },
  {
   "cell_type": "code",
   "execution_count": 53,
   "metadata": {
    "scrolled": true
   },
   "outputs": [
    {
     "data": {
      "text/plain": [
       "DayOfMonth  delayed\n",
       "20          True       10308.0\n",
       "22          True        9555.0\n",
       "18          True        9486.0\n",
       "21          True        9263.0\n",
       "28          True        8783.0\n",
       "19          True        8747.0\n",
       "12          True        8296.0\n",
       "13          True        8244.0\n",
       "11          True        8209.0\n",
       "15          True        8097.0\n",
       "Name: delayed, dtype: float64"
      ]
     },
     "execution_count": 53,
     "metadata": {},
     "output_type": "execute_result"
    }
   ],
   "source": [
    "feb_top_delayed = df[df['Month'] == 2].groupby(['DayOfMonth','delayed'])\n",
    "feb_top_del = feb_top_delayed['delayed'].sum().sort_values(ascending=False).head(10)\n",
    "feb_top_del"
   ]
  },
  {
   "cell_type": "code",
   "execution_count": 54,
   "metadata": {},
   "outputs": [
    {
     "data": {
      "text/plain": [
       "15    20561\n",
       "28    20546\n",
       "22    20531\n",
       "25    20485\n",
       "21    20480\n",
       "14    20416\n",
       "18    20276\n",
       "8     20051\n",
       "1     20045\n",
       "20    20037\n",
       "Name: DayOfMonth, dtype: int64"
      ]
     },
     "execution_count": 54,
     "metadata": {},
     "output_type": "execute_result"
    }
   ],
   "source": [
    "feb_total_flights_day = df[df['Month'] == 2]['DayOfMonth'].value_counts()\n",
    "feb_total_flights_day.head(10)"
   ]
  }
 ],
 "metadata": {
  "kernelspec": {
   "display_name": "Python 3",
   "language": "python",
   "name": "python3"
  },
  "language_info": {
   "codemirror_mode": {
    "name": "ipython",
    "version": 3
   },
   "file_extension": ".py",
   "mimetype": "text/x-python",
   "name": "python",
   "nbconvert_exporter": "python",
   "pygments_lexer": "ipython3",
   "version": "3.7.1"
  }
 },
 "nbformat": 4,
 "nbformat_minor": 2
}
